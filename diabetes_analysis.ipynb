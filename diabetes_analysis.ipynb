{
 "cells": [
  {
   "cell_type": "markdown",
   "id": "70be9fe0",
   "metadata": {},
   "source": [
    "# Diabetes Study Case"
   ]
  },
  {
   "cell_type": "markdown",
   "id": "e589a71b",
   "metadata": {},
   "source": [
    "**Source of the data**\\\n",
    "Beata Strack, Jonathan P. DeShazo, Chris Gennings, Juan L. Olmo, Sebastian Ventura, Krzysztof J. Cios, and John N. Clore, “Impact of HbA1c Measurement on Hospital Readmission Rates: Analysis of 70,000 Clinical Database Patient Records,” BioMed Research International, vol. 2014, Article ID 781670, 11 pages, 2014."
   ]
  },
  {
   "cell_type": "markdown",
   "id": "3e97636c",
   "metadata": {},
   "source": [
    "## 1. Business Understanding"
   ]
  },
  {
   "cell_type": "markdown",
   "id": "3ac622fc",
   "metadata": {},
   "source": [
    "The objective of this work is to create a Machine Learning Model that is going to classify a patient-hospital outcome in 3 different categories as follows:\n",
    "1. No readmission\n",
    "2. A readmission in less than 30 days\n",
    "3. A readmission in more than 30 days\n",
    "\n",
    "This is going to allow the hospitals to know in advanced if a patient is likely going to be treated again in the hospital and it might even be useful to identify what specific aspects of the patients or the treatment reduce the probabilites of a readmission.\n",
    "\n",
    "The dataset represents 10 years (1999-2008) of clinical care at 130 US hospitals and integrated delivery networks. It includes over 50 features representing patient and hospital outcomes. Information was extracted from the database for encounters that satisfied the following criteria.\n",
    "\n",
    "1. It is an inpatient encounter (a hospital admission).\n",
    "2. It is a diabetic encounter, that is, one during which any kind of diabetes was entered to the system as a diagnosis.\n",
    "3. The length of stay was at least 1 day and at most 14 days.\n",
    "4. Laboratory tests were performed during the encounter.\n",
    "5. Medications were administered during the encounter.\n",
    "\n",
    "**Something important to consider in the development of this project is that there are some big restrictions related to the dealine and the computer resources to work with. Therefore it will not be possible to make all the iterations needed to try out all possibilities in the data preparation and modeling stages. However the idea will be to create an initial pipeline that will allow to get a very first competent model that might be enhanced in the future.**"
   ]
  },
  {
   "cell_type": "markdown",
   "id": "da4f35bd",
   "metadata": {},
   "source": [
    "## 2. Data Understanding"
   ]
  },
  {
   "cell_type": "markdown",
   "id": "3b1b9ad1",
   "metadata": {},
   "source": [
    "The availables fields in the dataset are as follows:\n",
    "- **encounter_id**: Unique identifier of an encounter.\n",
    "- **patient_nbr**: Unique identifier of a patient.\n",
    "- **race**: Race of the patient.\n",
    "- **gender**: Gender of the patient.\n",
    "- **age**: Age  of the patient grouped in 10-years intervals.\n",
    "- **weight**: Weight in pounds.\n",
    "- **admission_type_id**: Integer identifier corresponding to admission type values such as:emergency, urgent, newborn, etc.\n",
    "- **discharge_disposition_id**: Integer identifier corresponding to discharge position  values such as: discharged to home, expired, etc.\n",
    "- **admission_source_id**: Integer identifier corresponding to admission source values such as: physicial referral, emergency room, transfer from a hospital, etc.\n",
    "- **time_in_hospital**: Integer number of days between admission and discharge.\n",
    "- **payer_code**: Integer identifier corresponding to payer code values such as Blue Cross, Medicare, self-pay, etc.\n",
    "- **medical_specialty**: Integer identifier corresponding to medical specialty values such as: cardiology, internal medicine, family, etc.\n",
    "- **numb_lab_procedures**: Number of procedures (othger than lab tests) performed during the encounter.\n",
    "- **num_medications**: Number of distinct generic names  administered during the encounter.\n",
    "- **number_outpatient**: Number of outpatient visits of the patient in the year preceding the encounter.\n",
    "- **number_emergency**: Number of emergency visits of the patient in the year preceding the encounter.\n",
    "- **number_outpatient**: Number of inpatient visits of the patient in the year preceding the encounter.\n",
    "- **diag_1**: The primary diagnosis (coded as first three digits of ICD9).\n",
    "- **diag_2**: Secondary diagnosis (coded as first three digits of ICD9).\n",
    "- **diag_3**: Aditional secondary diagnosis (coded as first three digits of ICD9).\n",
    "- **number_diagnoses**: Number of diagnoses entered to the system\n",
    "- **max_glu_serum**: indicates the range of the result or if the test was not taken.\n",
    "- **A1Cresult**: indicates the range of the result of if the test was not taken.\n",
    "- **change**: Indicates if there was a change in diabetic medications.\n",
    "- **diabetesMed**: Indicates if there was any diabetic medication\n",
    "- **24 features of medications**: 24 variables of differents medications, each feature indicates if the specific drug was prescribed or there was a change in the dosage.\n",
    "- **Readmitted**: days to inpatient readmission.<30, >30 or No for no record of readmission. **(Target Variable)**\n",
    "\n"
   ]
  },
  {
   "cell_type": "markdown",
   "id": "2bdf2b89",
   "metadata": {},
   "source": [
    "## Exploratory analysis"
   ]
  },
  {
   "cell_type": "code",
   "execution_count": 1,
   "id": "7333dd39",
   "metadata": {},
   "outputs": [],
   "source": [
    "# Import the required Libraries for exploratory analysis\n",
    "import numpy as np\n",
    "import pandas as pd\n",
    "import matplotlib.pyplot as plt\n",
    "import seaborn as sns\n",
    "\n",
    "#Library to ignore Warnings\n",
    "import warnings\n",
    "warnings.filterwarnings('ignore')"
   ]
  },
  {
   "cell_type": "code",
   "execution_count": 2,
   "id": "e1c59853",
   "metadata": {},
   "outputs": [],
   "source": [
    "# read the dataset\n",
    "import pandas as pd\n",
    "df = pd.read_csv('dataset_diabetes/diabetic_data.csv')"
   ]
  },
  {
   "cell_type": "code",
   "execution_count": 3,
   "id": "f6afd533",
   "metadata": {},
   "outputs": [
    {
     "data": {
      "text/html": [
       "<div>\n",
       "<style scoped>\n",
       "    .dataframe tbody tr th:only-of-type {\n",
       "        vertical-align: middle;\n",
       "    }\n",
       "\n",
       "    .dataframe tbody tr th {\n",
       "        vertical-align: top;\n",
       "    }\n",
       "\n",
       "    .dataframe thead th {\n",
       "        text-align: right;\n",
       "    }\n",
       "</style>\n",
       "<table border=\"1\" class=\"dataframe\">\n",
       "  <thead>\n",
       "    <tr style=\"text-align: right;\">\n",
       "      <th></th>\n",
       "      <th>encounter_id</th>\n",
       "      <th>patient_nbr</th>\n",
       "      <th>race</th>\n",
       "      <th>gender</th>\n",
       "      <th>age</th>\n",
       "      <th>weight</th>\n",
       "      <th>admission_type_id</th>\n",
       "      <th>discharge_disposition_id</th>\n",
       "      <th>admission_source_id</th>\n",
       "      <th>time_in_hospital</th>\n",
       "      <th>...</th>\n",
       "      <th>citoglipton</th>\n",
       "      <th>insulin</th>\n",
       "      <th>glyburide-metformin</th>\n",
       "      <th>glipizide-metformin</th>\n",
       "      <th>glimepiride-pioglitazone</th>\n",
       "      <th>metformin-rosiglitazone</th>\n",
       "      <th>metformin-pioglitazone</th>\n",
       "      <th>change</th>\n",
       "      <th>diabetesMed</th>\n",
       "      <th>readmitted</th>\n",
       "    </tr>\n",
       "  </thead>\n",
       "  <tbody>\n",
       "    <tr>\n",
       "      <th>0</th>\n",
       "      <td>2278392</td>\n",
       "      <td>8222157</td>\n",
       "      <td>Caucasian</td>\n",
       "      <td>Female</td>\n",
       "      <td>[0-10)</td>\n",
       "      <td>?</td>\n",
       "      <td>6</td>\n",
       "      <td>25</td>\n",
       "      <td>1</td>\n",
       "      <td>1</td>\n",
       "      <td>...</td>\n",
       "      <td>No</td>\n",
       "      <td>No</td>\n",
       "      <td>No</td>\n",
       "      <td>No</td>\n",
       "      <td>No</td>\n",
       "      <td>No</td>\n",
       "      <td>No</td>\n",
       "      <td>No</td>\n",
       "      <td>No</td>\n",
       "      <td>NO</td>\n",
       "    </tr>\n",
       "    <tr>\n",
       "      <th>1</th>\n",
       "      <td>149190</td>\n",
       "      <td>55629189</td>\n",
       "      <td>Caucasian</td>\n",
       "      <td>Female</td>\n",
       "      <td>[10-20)</td>\n",
       "      <td>?</td>\n",
       "      <td>1</td>\n",
       "      <td>1</td>\n",
       "      <td>7</td>\n",
       "      <td>3</td>\n",
       "      <td>...</td>\n",
       "      <td>No</td>\n",
       "      <td>Up</td>\n",
       "      <td>No</td>\n",
       "      <td>No</td>\n",
       "      <td>No</td>\n",
       "      <td>No</td>\n",
       "      <td>No</td>\n",
       "      <td>Ch</td>\n",
       "      <td>Yes</td>\n",
       "      <td>&gt;30</td>\n",
       "    </tr>\n",
       "    <tr>\n",
       "      <th>2</th>\n",
       "      <td>64410</td>\n",
       "      <td>86047875</td>\n",
       "      <td>AfricanAmerican</td>\n",
       "      <td>Female</td>\n",
       "      <td>[20-30)</td>\n",
       "      <td>?</td>\n",
       "      <td>1</td>\n",
       "      <td>1</td>\n",
       "      <td>7</td>\n",
       "      <td>2</td>\n",
       "      <td>...</td>\n",
       "      <td>No</td>\n",
       "      <td>No</td>\n",
       "      <td>No</td>\n",
       "      <td>No</td>\n",
       "      <td>No</td>\n",
       "      <td>No</td>\n",
       "      <td>No</td>\n",
       "      <td>No</td>\n",
       "      <td>Yes</td>\n",
       "      <td>NO</td>\n",
       "    </tr>\n",
       "    <tr>\n",
       "      <th>3</th>\n",
       "      <td>500364</td>\n",
       "      <td>82442376</td>\n",
       "      <td>Caucasian</td>\n",
       "      <td>Male</td>\n",
       "      <td>[30-40)</td>\n",
       "      <td>?</td>\n",
       "      <td>1</td>\n",
       "      <td>1</td>\n",
       "      <td>7</td>\n",
       "      <td>2</td>\n",
       "      <td>...</td>\n",
       "      <td>No</td>\n",
       "      <td>Up</td>\n",
       "      <td>No</td>\n",
       "      <td>No</td>\n",
       "      <td>No</td>\n",
       "      <td>No</td>\n",
       "      <td>No</td>\n",
       "      <td>Ch</td>\n",
       "      <td>Yes</td>\n",
       "      <td>NO</td>\n",
       "    </tr>\n",
       "    <tr>\n",
       "      <th>4</th>\n",
       "      <td>16680</td>\n",
       "      <td>42519267</td>\n",
       "      <td>Caucasian</td>\n",
       "      <td>Male</td>\n",
       "      <td>[40-50)</td>\n",
       "      <td>?</td>\n",
       "      <td>1</td>\n",
       "      <td>1</td>\n",
       "      <td>7</td>\n",
       "      <td>1</td>\n",
       "      <td>...</td>\n",
       "      <td>No</td>\n",
       "      <td>Steady</td>\n",
       "      <td>No</td>\n",
       "      <td>No</td>\n",
       "      <td>No</td>\n",
       "      <td>No</td>\n",
       "      <td>No</td>\n",
       "      <td>Ch</td>\n",
       "      <td>Yes</td>\n",
       "      <td>NO</td>\n",
       "    </tr>\n",
       "  </tbody>\n",
       "</table>\n",
       "<p>5 rows × 50 columns</p>\n",
       "</div>"
      ],
      "text/plain": [
       "   encounter_id  patient_nbr             race  gender      age weight  \\\n",
       "0       2278392      8222157        Caucasian  Female   [0-10)      ?   \n",
       "1        149190     55629189        Caucasian  Female  [10-20)      ?   \n",
       "2         64410     86047875  AfricanAmerican  Female  [20-30)      ?   \n",
       "3        500364     82442376        Caucasian    Male  [30-40)      ?   \n",
       "4         16680     42519267        Caucasian    Male  [40-50)      ?   \n",
       "\n",
       "   admission_type_id  discharge_disposition_id  admission_source_id  \\\n",
       "0                  6                        25                    1   \n",
       "1                  1                         1                    7   \n",
       "2                  1                         1                    7   \n",
       "3                  1                         1                    7   \n",
       "4                  1                         1                    7   \n",
       "\n",
       "   time_in_hospital  ... citoglipton insulin  glyburide-metformin  \\\n",
       "0                 1  ...          No      No                   No   \n",
       "1                 3  ...          No      Up                   No   \n",
       "2                 2  ...          No      No                   No   \n",
       "3                 2  ...          No      Up                   No   \n",
       "4                 1  ...          No  Steady                   No   \n",
       "\n",
       "   glipizide-metformin  glimepiride-pioglitazone  metformin-rosiglitazone  \\\n",
       "0                   No                        No                       No   \n",
       "1                   No                        No                       No   \n",
       "2                   No                        No                       No   \n",
       "3                   No                        No                       No   \n",
       "4                   No                        No                       No   \n",
       "\n",
       "   metformin-pioglitazone  change diabetesMed readmitted  \n",
       "0                      No      No          No         NO  \n",
       "1                      No      Ch         Yes        >30  \n",
       "2                      No      No         Yes         NO  \n",
       "3                      No      Ch         Yes         NO  \n",
       "4                      No      Ch         Yes         NO  \n",
       "\n",
       "[5 rows x 50 columns]"
      ]
     },
     "execution_count": 3,
     "metadata": {},
     "output_type": "execute_result"
    }
   ],
   "source": [
    "# Check the structure of the dataset\n",
    "df.head()"
   ]
  },
  {
   "cell_type": "markdown",
   "id": "9b9aabab",
   "metadata": {},
   "source": [
    "what we can see in the last table is that there are some **?** signs in the data, this seems to  represent  some missing values."
   ]
  },
  {
   "cell_type": "code",
   "execution_count": 4,
   "id": "74babfb6",
   "metadata": {},
   "outputs": [
    {
     "data": {
      "text/plain": [
       "Index(['encounter_id', 'patient_nbr', 'race', 'gender', 'age', 'weight',\n",
       "       'admission_type_id', 'discharge_disposition_id', 'admission_source_id',\n",
       "       'time_in_hospital', 'payer_code', 'medical_specialty',\n",
       "       'num_lab_procedures', 'num_procedures', 'num_medications',\n",
       "       'number_outpatient', 'number_emergency', 'number_inpatient', 'diag_1',\n",
       "       'diag_2', 'diag_3', 'number_diagnoses', 'max_glu_serum', 'A1Cresult',\n",
       "       'metformin', 'repaglinide', 'nateglinide', 'chlorpropamide',\n",
       "       'glimepiride', 'acetohexamide', 'glipizide', 'glyburide', 'tolbutamide',\n",
       "       'pioglitazone', 'rosiglitazone', 'acarbose', 'miglitol', 'troglitazone',\n",
       "       'tolazamide', 'examide', 'citoglipton', 'insulin',\n",
       "       'glyburide-metformin', 'glipizide-metformin',\n",
       "       'glimepiride-pioglitazone', 'metformin-rosiglitazone',\n",
       "       'metformin-pioglitazone', 'change', 'diabetesMed', 'readmitted'],\n",
       "      dtype='object')"
      ]
     },
     "execution_count": 4,
     "metadata": {},
     "output_type": "execute_result"
    }
   ],
   "source": [
    "#Check column names\n",
    "df.columns"
   ]
  },
  {
   "cell_type": "code",
   "execution_count": 5,
   "id": "7bcada4e",
   "metadata": {},
   "outputs": [
    {
     "name": "stdout",
     "output_type": "stream",
     "text": [
      "<class 'pandas.core.frame.DataFrame'>\n",
      "RangeIndex: 101766 entries, 0 to 101765\n",
      "Data columns (total 50 columns):\n",
      " #   Column                    Non-Null Count   Dtype \n",
      "---  ------                    --------------   ----- \n",
      " 0   encounter_id              101766 non-null  int64 \n",
      " 1   patient_nbr               101766 non-null  int64 \n",
      " 2   race                      101766 non-null  object\n",
      " 3   gender                    101766 non-null  object\n",
      " 4   age                       101766 non-null  object\n",
      " 5   weight                    101766 non-null  object\n",
      " 6   admission_type_id         101766 non-null  int64 \n",
      " 7   discharge_disposition_id  101766 non-null  int64 \n",
      " 8   admission_source_id       101766 non-null  int64 \n",
      " 9   time_in_hospital          101766 non-null  int64 \n",
      " 10  payer_code                101766 non-null  object\n",
      " 11  medical_specialty         101766 non-null  object\n",
      " 12  num_lab_procedures        101766 non-null  int64 \n",
      " 13  num_procedures            101766 non-null  int64 \n",
      " 14  num_medications           101766 non-null  int64 \n",
      " 15  number_outpatient         101766 non-null  int64 \n",
      " 16  number_emergency          101766 non-null  int64 \n",
      " 17  number_inpatient          101766 non-null  int64 \n",
      " 18  diag_1                    101766 non-null  object\n",
      " 19  diag_2                    101766 non-null  object\n",
      " 20  diag_3                    101766 non-null  object\n",
      " 21  number_diagnoses          101766 non-null  int64 \n",
      " 22  max_glu_serum             101766 non-null  object\n",
      " 23  A1Cresult                 101766 non-null  object\n",
      " 24  metformin                 101766 non-null  object\n",
      " 25  repaglinide               101766 non-null  object\n",
      " 26  nateglinide               101766 non-null  object\n",
      " 27  chlorpropamide            101766 non-null  object\n",
      " 28  glimepiride               101766 non-null  object\n",
      " 29  acetohexamide             101766 non-null  object\n",
      " 30  glipizide                 101766 non-null  object\n",
      " 31  glyburide                 101766 non-null  object\n",
      " 32  tolbutamide               101766 non-null  object\n",
      " 33  pioglitazone              101766 non-null  object\n",
      " 34  rosiglitazone             101766 non-null  object\n",
      " 35  acarbose                  101766 non-null  object\n",
      " 36  miglitol                  101766 non-null  object\n",
      " 37  troglitazone              101766 non-null  object\n",
      " 38  tolazamide                101766 non-null  object\n",
      " 39  examide                   101766 non-null  object\n",
      " 40  citoglipton               101766 non-null  object\n",
      " 41  insulin                   101766 non-null  object\n",
      " 42  glyburide-metformin       101766 non-null  object\n",
      " 43  glipizide-metformin       101766 non-null  object\n",
      " 44  glimepiride-pioglitazone  101766 non-null  object\n",
      " 45  metformin-rosiglitazone   101766 non-null  object\n",
      " 46  metformin-pioglitazone    101766 non-null  object\n",
      " 47  change                    101766 non-null  object\n",
      " 48  diabetesMed               101766 non-null  object\n",
      " 49  readmitted                101766 non-null  object\n",
      "dtypes: int64(13), object(37)\n",
      "memory usage: 38.8+ MB\n"
     ]
    }
   ],
   "source": [
    "#Check some basic info\n",
    "df.info()"
   ]
  },
  {
   "cell_type": "markdown",
   "id": "53ebb5fc",
   "metadata": {},
   "source": [
    "According to the last information, the data does not have missing values, as we see before, it seems that the missing representation is ? for some fields. for the sake of the following analysis. we will replace the sign character for an actual NAN value represented in Python."
   ]
  },
  {
   "cell_type": "code",
   "execution_count": 6,
   "id": "39d70471",
   "metadata": {},
   "outputs": [],
   "source": [
    "#replace ? signs for nan values\n",
    "df.replace('?',np.nan,inplace=True)"
   ]
  },
  {
   "cell_type": "code",
   "execution_count": 7,
   "id": "570261f1",
   "metadata": {},
   "outputs": [
    {
     "data": {
      "text/html": [
       "<div>\n",
       "<style scoped>\n",
       "    .dataframe tbody tr th:only-of-type {\n",
       "        vertical-align: middle;\n",
       "    }\n",
       "\n",
       "    .dataframe tbody tr th {\n",
       "        vertical-align: top;\n",
       "    }\n",
       "\n",
       "    .dataframe thead th {\n",
       "        text-align: right;\n",
       "    }\n",
       "</style>\n",
       "<table border=\"1\" class=\"dataframe\">\n",
       "  <thead>\n",
       "    <tr style=\"text-align: right;\">\n",
       "      <th></th>\n",
       "      <th>encounter_id</th>\n",
       "      <th>patient_nbr</th>\n",
       "      <th>admission_type_id</th>\n",
       "      <th>discharge_disposition_id</th>\n",
       "      <th>admission_source_id</th>\n",
       "      <th>time_in_hospital</th>\n",
       "      <th>num_lab_procedures</th>\n",
       "      <th>num_procedures</th>\n",
       "      <th>num_medications</th>\n",
       "      <th>number_outpatient</th>\n",
       "      <th>number_emergency</th>\n",
       "      <th>number_inpatient</th>\n",
       "      <th>number_diagnoses</th>\n",
       "    </tr>\n",
       "  </thead>\n",
       "  <tbody>\n",
       "    <tr>\n",
       "      <th>count</th>\n",
       "      <td>1.017660e+05</td>\n",
       "      <td>1.017660e+05</td>\n",
       "      <td>101766.000000</td>\n",
       "      <td>101766.000000</td>\n",
       "      <td>101766.000000</td>\n",
       "      <td>101766.000000</td>\n",
       "      <td>101766.000000</td>\n",
       "      <td>101766.000000</td>\n",
       "      <td>101766.000000</td>\n",
       "      <td>101766.000000</td>\n",
       "      <td>101766.000000</td>\n",
       "      <td>101766.000000</td>\n",
       "      <td>101766.000000</td>\n",
       "    </tr>\n",
       "    <tr>\n",
       "      <th>mean</th>\n",
       "      <td>1.652016e+08</td>\n",
       "      <td>5.433040e+07</td>\n",
       "      <td>2.024006</td>\n",
       "      <td>3.715642</td>\n",
       "      <td>5.754437</td>\n",
       "      <td>4.395987</td>\n",
       "      <td>43.095641</td>\n",
       "      <td>1.339730</td>\n",
       "      <td>16.021844</td>\n",
       "      <td>0.369357</td>\n",
       "      <td>0.197836</td>\n",
       "      <td>0.635566</td>\n",
       "      <td>7.422607</td>\n",
       "    </tr>\n",
       "    <tr>\n",
       "      <th>std</th>\n",
       "      <td>1.026403e+08</td>\n",
       "      <td>3.869636e+07</td>\n",
       "      <td>1.445403</td>\n",
       "      <td>5.280166</td>\n",
       "      <td>4.064081</td>\n",
       "      <td>2.985108</td>\n",
       "      <td>19.674362</td>\n",
       "      <td>1.705807</td>\n",
       "      <td>8.127566</td>\n",
       "      <td>1.267265</td>\n",
       "      <td>0.930472</td>\n",
       "      <td>1.262863</td>\n",
       "      <td>1.933600</td>\n",
       "    </tr>\n",
       "    <tr>\n",
       "      <th>min</th>\n",
       "      <td>1.252200e+04</td>\n",
       "      <td>1.350000e+02</td>\n",
       "      <td>1.000000</td>\n",
       "      <td>1.000000</td>\n",
       "      <td>1.000000</td>\n",
       "      <td>1.000000</td>\n",
       "      <td>1.000000</td>\n",
       "      <td>0.000000</td>\n",
       "      <td>1.000000</td>\n",
       "      <td>0.000000</td>\n",
       "      <td>0.000000</td>\n",
       "      <td>0.000000</td>\n",
       "      <td>1.000000</td>\n",
       "    </tr>\n",
       "    <tr>\n",
       "      <th>25%</th>\n",
       "      <td>8.496119e+07</td>\n",
       "      <td>2.341322e+07</td>\n",
       "      <td>1.000000</td>\n",
       "      <td>1.000000</td>\n",
       "      <td>1.000000</td>\n",
       "      <td>2.000000</td>\n",
       "      <td>31.000000</td>\n",
       "      <td>0.000000</td>\n",
       "      <td>10.000000</td>\n",
       "      <td>0.000000</td>\n",
       "      <td>0.000000</td>\n",
       "      <td>0.000000</td>\n",
       "      <td>6.000000</td>\n",
       "    </tr>\n",
       "    <tr>\n",
       "      <th>50%</th>\n",
       "      <td>1.523890e+08</td>\n",
       "      <td>4.550514e+07</td>\n",
       "      <td>1.000000</td>\n",
       "      <td>1.000000</td>\n",
       "      <td>7.000000</td>\n",
       "      <td>4.000000</td>\n",
       "      <td>44.000000</td>\n",
       "      <td>1.000000</td>\n",
       "      <td>15.000000</td>\n",
       "      <td>0.000000</td>\n",
       "      <td>0.000000</td>\n",
       "      <td>0.000000</td>\n",
       "      <td>8.000000</td>\n",
       "    </tr>\n",
       "    <tr>\n",
       "      <th>75%</th>\n",
       "      <td>2.302709e+08</td>\n",
       "      <td>8.754595e+07</td>\n",
       "      <td>3.000000</td>\n",
       "      <td>4.000000</td>\n",
       "      <td>7.000000</td>\n",
       "      <td>6.000000</td>\n",
       "      <td>57.000000</td>\n",
       "      <td>2.000000</td>\n",
       "      <td>20.000000</td>\n",
       "      <td>0.000000</td>\n",
       "      <td>0.000000</td>\n",
       "      <td>1.000000</td>\n",
       "      <td>9.000000</td>\n",
       "    </tr>\n",
       "    <tr>\n",
       "      <th>max</th>\n",
       "      <td>4.438672e+08</td>\n",
       "      <td>1.895026e+08</td>\n",
       "      <td>8.000000</td>\n",
       "      <td>28.000000</td>\n",
       "      <td>25.000000</td>\n",
       "      <td>14.000000</td>\n",
       "      <td>132.000000</td>\n",
       "      <td>6.000000</td>\n",
       "      <td>81.000000</td>\n",
       "      <td>42.000000</td>\n",
       "      <td>76.000000</td>\n",
       "      <td>21.000000</td>\n",
       "      <td>16.000000</td>\n",
       "    </tr>\n",
       "  </tbody>\n",
       "</table>\n",
       "</div>"
      ],
      "text/plain": [
       "       encounter_id   patient_nbr  admission_type_id  \\\n",
       "count  1.017660e+05  1.017660e+05      101766.000000   \n",
       "mean   1.652016e+08  5.433040e+07           2.024006   \n",
       "std    1.026403e+08  3.869636e+07           1.445403   \n",
       "min    1.252200e+04  1.350000e+02           1.000000   \n",
       "25%    8.496119e+07  2.341322e+07           1.000000   \n",
       "50%    1.523890e+08  4.550514e+07           1.000000   \n",
       "75%    2.302709e+08  8.754595e+07           3.000000   \n",
       "max    4.438672e+08  1.895026e+08           8.000000   \n",
       "\n",
       "       discharge_disposition_id  admission_source_id  time_in_hospital  \\\n",
       "count             101766.000000        101766.000000     101766.000000   \n",
       "mean                   3.715642             5.754437          4.395987   \n",
       "std                    5.280166             4.064081          2.985108   \n",
       "min                    1.000000             1.000000          1.000000   \n",
       "25%                    1.000000             1.000000          2.000000   \n",
       "50%                    1.000000             7.000000          4.000000   \n",
       "75%                    4.000000             7.000000          6.000000   \n",
       "max                   28.000000            25.000000         14.000000   \n",
       "\n",
       "       num_lab_procedures  num_procedures  num_medications  number_outpatient  \\\n",
       "count       101766.000000   101766.000000    101766.000000      101766.000000   \n",
       "mean            43.095641        1.339730        16.021844           0.369357   \n",
       "std             19.674362        1.705807         8.127566           1.267265   \n",
       "min              1.000000        0.000000         1.000000           0.000000   \n",
       "25%             31.000000        0.000000        10.000000           0.000000   \n",
       "50%             44.000000        1.000000        15.000000           0.000000   \n",
       "75%             57.000000        2.000000        20.000000           0.000000   \n",
       "max            132.000000        6.000000        81.000000          42.000000   \n",
       "\n",
       "       number_emergency  number_inpatient  number_diagnoses  \n",
       "count     101766.000000     101766.000000     101766.000000  \n",
       "mean           0.197836          0.635566          7.422607  \n",
       "std            0.930472          1.262863          1.933600  \n",
       "min            0.000000          0.000000          1.000000  \n",
       "25%            0.000000          0.000000          6.000000  \n",
       "50%            0.000000          0.000000          8.000000  \n",
       "75%            0.000000          1.000000          9.000000  \n",
       "max           76.000000         21.000000         16.000000  "
      ]
     },
     "execution_count": 7,
     "metadata": {},
     "output_type": "execute_result"
    }
   ],
   "source": [
    "# check some statistical info about numeric variables\n",
    "df.describe()"
   ]
  },
  {
   "cell_type": "markdown",
   "id": "724a7baf",
   "metadata": {},
   "source": [
    "Analyzing the last table we can see that some of the statistics does not make any sense due to the fact that  some variables despite of being represented as numbers are categorical variables. For that reason, variables such as encounter_id, patient_nbr, admissiong_type_id, discharge_disposition_id, admission_source_id could be not be treated as numeric variables and this statistics values are not useful. "
   ]
  },
  {
   "cell_type": "markdown",
   "id": "e02ed3b9",
   "metadata": {},
   "source": [
    "### Variables Analysis"
   ]
  },
  {
   "cell_type": "markdown",
   "id": "9aa105a5",
   "metadata": {},
   "source": [
    "In order to analyze more deeply every single variable for getting some insights from them. In the next cells, we will use some auxiliar functions to do some calculations and plot certain graphs. This will allow us to understand the details of each field in order to make decisions in the data preparation process."
   ]
  },
  {
   "cell_type": "markdown",
   "id": "6bbf274f",
   "metadata": {},
   "source": [
    "#### Auxiliar functions for exploratory analysis"
   ]
  },
  {
   "cell_type": "code",
   "execution_count": 8,
   "id": "d1c47e36",
   "metadata": {},
   "outputs": [],
   "source": [
    "# Create auxiliar functions to help in the exploratory analysis\n",
    "\n",
    "def get_info_table(df,col,num_flag = False):\n",
    "    '''\n",
    "    returns a table that calculate the percentage of the  missing values and the numbers of \n",
    "    distinct categories\n",
    "    '''\n",
    "    \n",
    "    info_table = pd.DataFrame(index = ['% missing_values','distinct_categories'], columns = ['value'])\n",
    "    # get percentage of missing values\n",
    "    info_table.loc['% missing_values','value'] = round(df[col].isna().sum()/len(df),4)*100\n",
    "    \n",
    "    if num_flag:\n",
    "        info_table.loc['distinct_categories','value'] = 'N/A'\n",
    "    else:\n",
    "        info_table.loc['distinct_categories','value'] = df[col].nunique()\n",
    "    \n",
    "    return info_table\n",
    "    \n",
    "    \n",
    "def get_count_table(df,id_col,col_to_count):\n",
    "    '''\n",
    "    returns a table that count the number of appearances of each category in the requested column\n",
    "    and get the participation percentage\n",
    "    '''\n",
    "    \n",
    "    count_table=df[[col_to_count,id_col]].groupby(col_to_count).count().sort_values(id_col,ascending=False)\n",
    "    count_table['percentage']=round(count_table[id_col]/count_table[id_col].sum(),4)*100\n",
    "    count_table.rename(columns={id_col:'count'},inplace=True)\n",
    "    \n",
    "    return count_table\n",
    "\n",
    "def get_cross_table(df,col):\n",
    "    '''\n",
    "    return a cross table to compare the target variable readmitted vs some categorical field.\n",
    "    the values represent the participation percentage of every target variable outcome for each\n",
    "    category in that field.\n",
    "    '''\n",
    "    \n",
    "    cross_table = pd.crosstab(df['readmitted'], df[col]).apply(lambda x:round(x/x.sum(),4)*100)\n",
    "    \n",
    "    return cross_table\n",
    "                                                 \n",
    "\n",
    "def plot_boxplot(df,col):\n",
    "    '''\n",
    "    plot a boxplot that compares the target variable categories vs a continuous field\n",
    "    '''\n",
    "    \n",
    "    sns.boxplot(df['readmitted'],df[col])\n",
    "    plt.show\n",
    "\n",
    "\n",
    "def plot_chart(count_table,title,flag_hor = False):\n",
    "    '''\n",
    "    plot a barchart based on an info table\n",
    "    '''\n",
    "    \n",
    "    fig, ax = plt.subplots()\n",
    "    if not flag_hor:\n",
    "        ax.barh(count_table.index,count_table['count'], align='center')    \n",
    "        ax.invert_yaxis()  \n",
    "    else:\n",
    "        ax.bar(count_table.index,count_table['count'], align='center')     \n",
    "    ax.set_xlabel('count')\n",
    "    ax.set_title(title)\n",
    "    plt.show()\n",
    "    \n",
    "\n",
    "    \n"
   ]
  },
  {
   "cell_type": "markdown",
   "id": "ca146310",
   "metadata": {},
   "source": [
    "**readmitted (Target Variable)**"
   ]
  },
  {
   "cell_type": "code",
   "execution_count": 9,
   "id": "479c850f",
   "metadata": {},
   "outputs": [],
   "source": [
    "col = 'readmitted'\n",
    "id_col = 'encounter_id'"
   ]
  },
  {
   "cell_type": "code",
   "execution_count": 10,
   "id": "7974fa52",
   "metadata": {},
   "outputs": [
    {
     "data": {
      "text/html": [
       "<div>\n",
       "<style scoped>\n",
       "    .dataframe tbody tr th:only-of-type {\n",
       "        vertical-align: middle;\n",
       "    }\n",
       "\n",
       "    .dataframe tbody tr th {\n",
       "        vertical-align: top;\n",
       "    }\n",
       "\n",
       "    .dataframe thead th {\n",
       "        text-align: right;\n",
       "    }\n",
       "</style>\n",
       "<table border=\"1\" class=\"dataframe\">\n",
       "  <thead>\n",
       "    <tr style=\"text-align: right;\">\n",
       "      <th></th>\n",
       "      <th>value</th>\n",
       "    </tr>\n",
       "  </thead>\n",
       "  <tbody>\n",
       "    <tr>\n",
       "      <th>% missing_values</th>\n",
       "      <td>0.0</td>\n",
       "    </tr>\n",
       "    <tr>\n",
       "      <th>distinct_categories</th>\n",
       "      <td>3</td>\n",
       "    </tr>\n",
       "  </tbody>\n",
       "</table>\n",
       "</div>"
      ],
      "text/plain": [
       "                    value\n",
       "% missing_values      0.0\n",
       "distinct_categories     3"
      ]
     },
     "execution_count": 10,
     "metadata": {},
     "output_type": "execute_result"
    }
   ],
   "source": [
    "readmitted_info_table = get_info_table(df,col)\n",
    "readmitted_info_table"
   ]
  },
  {
   "cell_type": "code",
   "execution_count": 11,
   "id": "84441c77",
   "metadata": {},
   "outputs": [
    {
     "data": {
      "text/html": [
       "<div>\n",
       "<style scoped>\n",
       "    .dataframe tbody tr th:only-of-type {\n",
       "        vertical-align: middle;\n",
       "    }\n",
       "\n",
       "    .dataframe tbody tr th {\n",
       "        vertical-align: top;\n",
       "    }\n",
       "\n",
       "    .dataframe thead th {\n",
       "        text-align: right;\n",
       "    }\n",
       "</style>\n",
       "<table border=\"1\" class=\"dataframe\">\n",
       "  <thead>\n",
       "    <tr style=\"text-align: right;\">\n",
       "      <th></th>\n",
       "      <th>count</th>\n",
       "      <th>percentage</th>\n",
       "    </tr>\n",
       "    <tr>\n",
       "      <th>readmitted</th>\n",
       "      <th></th>\n",
       "      <th></th>\n",
       "    </tr>\n",
       "  </thead>\n",
       "  <tbody>\n",
       "    <tr>\n",
       "      <th>NO</th>\n",
       "      <td>54864</td>\n",
       "      <td>53.91</td>\n",
       "    </tr>\n",
       "    <tr>\n",
       "      <th>&gt;30</th>\n",
       "      <td>35545</td>\n",
       "      <td>34.93</td>\n",
       "    </tr>\n",
       "    <tr>\n",
       "      <th>&lt;30</th>\n",
       "      <td>11357</td>\n",
       "      <td>11.16</td>\n",
       "    </tr>\n",
       "  </tbody>\n",
       "</table>\n",
       "</div>"
      ],
      "text/plain": [
       "            count  percentage\n",
       "readmitted                   \n",
       "NO          54864       53.91\n",
       ">30         35545       34.93\n",
       "<30         11357       11.16"
      ]
     },
     "execution_count": 11,
     "metadata": {},
     "output_type": "execute_result"
    }
   ],
   "source": [
    "readmitted_count_table = get_count_table(df,id_col,col)\n",
    "readmitted_count_table"
   ]
  },
  {
   "cell_type": "code",
   "execution_count": 12,
   "id": "5ea973ab",
   "metadata": {},
   "outputs": [
    {
     "data": {
      "image/png": "[encoded data removed]",
      "text/plain": [
       "<Figure size 432x288 with 1 Axes>"
      ]
     },
     "metadata": {
      "needs_background": "light"
     },
     "output_type": "display_data"
    }
   ],
   "source": [
    "plot_chart(readmitted_count_table,'Count of readmitted patients')"
   ]
  },
  {
   "cell_type": "markdown",
   "id": "a3f48953",
   "metadata": {},
   "source": [
    "Analizing the target variable readmitted, we can see that we are facing a imbalanced multi-classification problem. where the Category NO represents almost the 54% of the observations which is considerably bigger than the other two categories, and <30 category just represents the 11.16%. This scenario is not a extreme case of a imbalanced dataset as it can be for example a fraud detection problem. However is likely that by using some resampling techniques, we can get a better performance in the models (We will check this techniques later on)."
   ]
  },
  {
   "cell_type": "markdown",
   "id": "0d8c0f5a",
   "metadata": {},
   "source": [
    "**encounter_id**"
   ]
  },
  {
   "cell_type": "code",
   "execution_count": 13,
   "id": "aab7e850",
   "metadata": {},
   "outputs": [
    {
     "data": {
      "text/html": [
       "<div>\n",
       "<style scoped>\n",
       "    .dataframe tbody tr th:only-of-type {\n",
       "        vertical-align: middle;\n",
       "    }\n",
       "\n",
       "    .dataframe tbody tr th {\n",
       "        vertical-align: top;\n",
       "    }\n",
       "\n",
       "    .dataframe thead th {\n",
       "        text-align: right;\n",
       "    }\n",
       "</style>\n",
       "<table border=\"1\" class=\"dataframe\">\n",
       "  <thead>\n",
       "    <tr style=\"text-align: right;\">\n",
       "      <th></th>\n",
       "      <th>value</th>\n",
       "    </tr>\n",
       "  </thead>\n",
       "  <tbody>\n",
       "    <tr>\n",
       "      <th>% missing_values</th>\n",
       "      <td>0.0</td>\n",
       "    </tr>\n",
       "    <tr>\n",
       "      <th>distinct_categories</th>\n",
       "      <td>101766</td>\n",
       "    </tr>\n",
       "  </tbody>\n",
       "</table>\n",
       "</div>"
      ],
      "text/plain": [
       "                      value\n",
       "% missing_values        0.0\n",
       "distinct_categories  101766"
      ]
     },
     "execution_count": 13,
     "metadata": {},
     "output_type": "execute_result"
    }
   ],
   "source": [
    "col = 'encounter_id'\n",
    "encounter_id_info_table = get_info_table(df,col)\n",
    "encounter_id_info_table"
   ]
  },
  {
   "cell_type": "code",
   "execution_count": 14,
   "id": "70bae2db",
   "metadata": {},
   "outputs": [
    {
     "data": {
      "text/plain": [
       "0"
      ]
     },
     "execution_count": 14,
     "metadata": {},
     "output_type": "execute_result"
    }
   ],
   "source": [
    "#check for duplicated values\n",
    "df[col].duplicated().sum()"
   ]
  },
  {
   "cell_type": "markdown",
   "id": "bf029292",
   "metadata": {},
   "source": [
    "The encounter_id Variable is going to be useful to identify every row, however this is not going to be a useful variable for the model. the most important aspect to highlight is that there are no duplicated values in this field."
   ]
  },
  {
   "cell_type": "markdown",
   "id": "de9c16d6",
   "metadata": {},
   "source": [
    "**patient_nbr**"
   ]
  },
  {
   "cell_type": "code",
   "execution_count": 15,
   "id": "ddda4888",
   "metadata": {},
   "outputs": [
    {
     "data": {
      "text/html": [
       "<div>\n",
       "<style scoped>\n",
       "    .dataframe tbody tr th:only-of-type {\n",
       "        vertical-align: middle;\n",
       "    }\n",
       "\n",
       "    .dataframe tbody tr th {\n",
       "        vertical-align: top;\n",
       "    }\n",
       "\n",
       "    .dataframe thead th {\n",
       "        text-align: right;\n",
       "    }\n",
       "</style>\n",
       "<table border=\"1\" class=\"dataframe\">\n",
       "  <thead>\n",
       "    <tr style=\"text-align: right;\">\n",
       "      <th></th>\n",
       "      <th>value</th>\n",
       "    </tr>\n",
       "  </thead>\n",
       "  <tbody>\n",
       "    <tr>\n",
       "      <th>% missing_values</th>\n",
       "      <td>0.0</td>\n",
       "    </tr>\n",
       "    <tr>\n",
       "      <th>distinct_categories</th>\n",
       "      <td>71518</td>\n",
       "    </tr>\n",
       "  </tbody>\n",
       "</table>\n",
       "</div>"
      ],
      "text/plain": [
       "                     value\n",
       "% missing_values       0.0\n",
       "distinct_categories  71518"
      ]
     },
     "execution_count": 15,
     "metadata": {},
     "output_type": "execute_result"
    }
   ],
   "source": [
    "col = 'patient_nbr'\n",
    "patient_nbr_info_table = get_info_table(df,col)\n",
    "patient_nbr_info_table"
   ]
  },
  {
   "cell_type": "code",
   "execution_count": 16,
   "id": "0143f034",
   "metadata": {},
   "outputs": [
    {
     "data": {
      "text/plain": [
       "30248"
      ]
     },
     "execution_count": 16,
     "metadata": {},
     "output_type": "execute_result"
    }
   ],
   "source": [
    "#check for duplicated values\n",
    "df[col].duplicated().sum()"
   ]
  },
  {
   "cell_type": "markdown",
   "id": "038ec058",
   "metadata": {},
   "source": [
    "patient_nbr is a variable that will allows  to check if a patient has been treated in the past multiple times. but it is not likely that this variable is going to be used by itself because of its nature."
   ]
  },
  {
   "cell_type": "markdown",
   "id": "fafbe425",
   "metadata": {},
   "source": [
    "**race**"
   ]
  },
  {
   "cell_type": "code",
   "execution_count": 17,
   "id": "1cc73a53",
   "metadata": {},
   "outputs": [
    {
     "data": {
      "text/html": [
       "<div>\n",
       "<style scoped>\n",
       "    .dataframe tbody tr th:only-of-type {\n",
       "        vertical-align: middle;\n",
       "    }\n",
       "\n",
       "    .dataframe tbody tr th {\n",
       "        vertical-align: top;\n",
       "    }\n",
       "\n",
       "    .dataframe thead th {\n",
       "        text-align: right;\n",
       "    }\n",
       "</style>\n",
       "<table border=\"1\" class=\"dataframe\">\n",
       "  <thead>\n",
       "    <tr style=\"text-align: right;\">\n",
       "      <th></th>\n",
       "      <th>value</th>\n",
       "    </tr>\n",
       "  </thead>\n",
       "  <tbody>\n",
       "    <tr>\n",
       "      <th>% missing_values</th>\n",
       "      <td>2.23</td>\n",
       "    </tr>\n",
       "    <tr>\n",
       "      <th>distinct_categories</th>\n",
       "      <td>5</td>\n",
       "    </tr>\n",
       "  </tbody>\n",
       "</table>\n",
       "</div>"
      ],
      "text/plain": [
       "                    value\n",
       "% missing_values     2.23\n",
       "distinct_categories     5"
      ]
     },
     "execution_count": 17,
     "metadata": {},
     "output_type": "execute_result"
    }
   ],
   "source": [
    "col = 'race'\n",
    "race_info_table = get_info_table(df,col)\n",
    "race_info_table"
   ]
  },
  {
   "cell_type": "code",
   "execution_count": 18,
   "id": "cf23b1c5",
   "metadata": {},
   "outputs": [
    {
     "data": {
      "text/html": [
       "<div>\n",
       "<style scoped>\n",
       "    .dataframe tbody tr th:only-of-type {\n",
       "        vertical-align: middle;\n",
       "    }\n",
       "\n",
       "    .dataframe tbody tr th {\n",
       "        vertical-align: top;\n",
       "    }\n",
       "\n",
       "    .dataframe thead th {\n",
       "        text-align: right;\n",
       "    }\n",
       "</style>\n",
       "<table border=\"1\" class=\"dataframe\">\n",
       "  <thead>\n",
       "    <tr style=\"text-align: right;\">\n",
       "      <th></th>\n",
       "      <th>count</th>\n",
       "      <th>percentage</th>\n",
       "    </tr>\n",
       "    <tr>\n",
       "      <th>race</th>\n",
       "      <th></th>\n",
       "      <th></th>\n",
       "    </tr>\n",
       "  </thead>\n",
       "  <tbody>\n",
       "    <tr>\n",
       "      <th>Caucasian</th>\n",
       "      <td>76099</td>\n",
       "      <td>76.49</td>\n",
       "    </tr>\n",
       "    <tr>\n",
       "      <th>AfricanAmerican</th>\n",
       "      <td>19210</td>\n",
       "      <td>19.31</td>\n",
       "    </tr>\n",
       "    <tr>\n",
       "      <th>Hispanic</th>\n",
       "      <td>2037</td>\n",
       "      <td>2.05</td>\n",
       "    </tr>\n",
       "    <tr>\n",
       "      <th>Other</th>\n",
       "      <td>1506</td>\n",
       "      <td>1.51</td>\n",
       "    </tr>\n",
       "    <tr>\n",
       "      <th>Asian</th>\n",
       "      <td>641</td>\n",
       "      <td>0.64</td>\n",
       "    </tr>\n",
       "  </tbody>\n",
       "</table>\n",
       "</div>"
      ],
      "text/plain": [
       "                 count  percentage\n",
       "race                              \n",
       "Caucasian        76099       76.49\n",
       "AfricanAmerican  19210       19.31\n",
       "Hispanic          2037        2.05\n",
       "Other             1506        1.51\n",
       "Asian              641        0.64"
      ]
     },
     "execution_count": 18,
     "metadata": {},
     "output_type": "execute_result"
    }
   ],
   "source": [
    "race_count_table = get_count_table(df,id_col,col)\n",
    "race_count_table"
   ]
  },
  {
   "cell_type": "code",
   "execution_count": 19,
   "id": "f2f25ffc",
   "metadata": {},
   "outputs": [
    {
     "data": {
      "image/png": "[encoded data removed]",
      "text/plain": [
       "<Figure size 432x288 with 1 Axes>"
      ]
     },
     "metadata": {
      "needs_background": "light"
     },
     "output_type": "display_data"
    }
   ],
   "source": [
    "plot_chart(race_count_table,'Count of races')"
   ]
  },
  {
   "cell_type": "markdown",
   "id": "0546d8a1",
   "metadata": {},
   "source": [
    "As we can see, the caucasian race represents the majority of the population. On the other hand, the Asian race just represents the 0.64%. The 2.23% of the values are missing."
   ]
  },
  {
   "cell_type": "code",
   "execution_count": 20,
   "id": "8d578f1e",
   "metadata": {},
   "outputs": [
    {
     "data": {
      "text/html": [
       "<div>\n",
       "<style scoped>\n",
       "    .dataframe tbody tr th:only-of-type {\n",
       "        vertical-align: middle;\n",
       "    }\n",
       "\n",
       "    .dataframe tbody tr th {\n",
       "        vertical-align: top;\n",
       "    }\n",
       "\n",
       "    .dataframe thead th {\n",
       "        text-align: right;\n",
       "    }\n",
       "</style>\n",
       "<table border=\"1\" class=\"dataframe\">\n",
       "  <thead>\n",
       "    <tr style=\"text-align: right;\">\n",
       "      <th>race</th>\n",
       "      <th>AfricanAmerican</th>\n",
       "      <th>Asian</th>\n",
       "      <th>Caucasian</th>\n",
       "      <th>Hispanic</th>\n",
       "      <th>Other</th>\n",
       "    </tr>\n",
       "    <tr>\n",
       "      <th>readmitted</th>\n",
       "      <th></th>\n",
       "      <th></th>\n",
       "      <th></th>\n",
       "      <th></th>\n",
       "      <th></th>\n",
       "    </tr>\n",
       "  </thead>\n",
       "  <tbody>\n",
       "    <tr>\n",
       "      <th>&lt;30</th>\n",
       "      <td>11.22</td>\n",
       "      <td>10.14</td>\n",
       "      <td>11.29</td>\n",
       "      <td>10.41</td>\n",
       "      <td>9.63</td>\n",
       "    </tr>\n",
       "    <tr>\n",
       "      <th>&gt;30</th>\n",
       "      <td>34.53</td>\n",
       "      <td>25.12</td>\n",
       "      <td>35.64</td>\n",
       "      <td>31.52</td>\n",
       "      <td>29.61</td>\n",
       "    </tr>\n",
       "    <tr>\n",
       "      <th>NO</th>\n",
       "      <td>54.25</td>\n",
       "      <td>64.74</td>\n",
       "      <td>53.07</td>\n",
       "      <td>58.08</td>\n",
       "      <td>60.76</td>\n",
       "    </tr>\n",
       "  </tbody>\n",
       "</table>\n",
       "</div>"
      ],
      "text/plain": [
       "race        AfricanAmerican  Asian  Caucasian  Hispanic  Other\n",
       "readmitted                                                    \n",
       "<30                   11.22  10.14      11.29     10.41   9.63\n",
       ">30                   34.53  25.12      35.64     31.52  29.61\n",
       "NO                    54.25  64.74      53.07     58.08  60.76"
      ]
     },
     "execution_count": 20,
     "metadata": {},
     "output_type": "execute_result"
    }
   ],
   "source": [
    "# get percentage distribution of each target outcome for every category.\n",
    "get_cross_table(df,col)"
   ]
  },
  {
   "cell_type": "markdown",
   "id": "7ec8c935",
   "metadata": {},
   "source": [
    "Analizing the cross table race, we can suggest that in general the Asian, Hispanic and other patients are less prone to be readmitted in comparison to Caucasian and AfricanAmerican people. However this situation might be due to a lack of enough information because these categories represent less than the 5% of the total population."
   ]
  },
  {
   "cell_type": "markdown",
   "id": "8b6713d6",
   "metadata": {},
   "source": [
    "**gender**\n"
   ]
  },
  {
   "cell_type": "code",
   "execution_count": 21,
   "id": "536a5969",
   "metadata": {},
   "outputs": [
    {
     "data": {
      "text/html": [
       "<div>\n",
       "<style scoped>\n",
       "    .dataframe tbody tr th:only-of-type {\n",
       "        vertical-align: middle;\n",
       "    }\n",
       "\n",
       "    .dataframe tbody tr th {\n",
       "        vertical-align: top;\n",
       "    }\n",
       "\n",
       "    .dataframe thead th {\n",
       "        text-align: right;\n",
       "    }\n",
       "</style>\n",
       "<table border=\"1\" class=\"dataframe\">\n",
       "  <thead>\n",
       "    <tr style=\"text-align: right;\">\n",
       "      <th></th>\n",
       "      <th>value</th>\n",
       "    </tr>\n",
       "  </thead>\n",
       "  <tbody>\n",
       "    <tr>\n",
       "      <th>% missing_values</th>\n",
       "      <td>0.0</td>\n",
       "    </tr>\n",
       "    <tr>\n",
       "      <th>distinct_categories</th>\n",
       "      <td>3</td>\n",
       "    </tr>\n",
       "  </tbody>\n",
       "</table>\n",
       "</div>"
      ],
      "text/plain": [
       "                    value\n",
       "% missing_values      0.0\n",
       "distinct_categories     3"
      ]
     },
     "execution_count": 21,
     "metadata": {},
     "output_type": "execute_result"
    }
   ],
   "source": [
    "col = 'gender'\n",
    "gender_info_table = get_info_table(df,col)\n",
    "gender_info_table"
   ]
  },
  {
   "cell_type": "code",
   "execution_count": 22,
   "id": "7d281a55",
   "metadata": {},
   "outputs": [
    {
     "data": {
      "text/html": [
       "<div>\n",
       "<style scoped>\n",
       "    .dataframe tbody tr th:only-of-type {\n",
       "        vertical-align: middle;\n",
       "    }\n",
       "\n",
       "    .dataframe tbody tr th {\n",
       "        vertical-align: top;\n",
       "    }\n",
       "\n",
       "    .dataframe thead th {\n",
       "        text-align: right;\n",
       "    }\n",
       "</style>\n",
       "<table border=\"1\" class=\"dataframe\">\n",
       "  <thead>\n",
       "    <tr style=\"text-align: right;\">\n",
       "      <th></th>\n",
       "      <th>count</th>\n",
       "      <th>percentage</th>\n",
       "    </tr>\n",
       "    <tr>\n",
       "      <th>gender</th>\n",
       "      <th></th>\n",
       "      <th></th>\n",
       "    </tr>\n",
       "  </thead>\n",
       "  <tbody>\n",
       "    <tr>\n",
       "      <th>Female</th>\n",
       "      <td>54708</td>\n",
       "      <td>53.76</td>\n",
       "    </tr>\n",
       "    <tr>\n",
       "      <th>Male</th>\n",
       "      <td>47055</td>\n",
       "      <td>46.24</td>\n",
       "    </tr>\n",
       "    <tr>\n",
       "      <th>Unknown/Invalid</th>\n",
       "      <td>3</td>\n",
       "      <td>0.00</td>\n",
       "    </tr>\n",
       "  </tbody>\n",
       "</table>\n",
       "</div>"
      ],
      "text/plain": [
       "                 count  percentage\n",
       "gender                            \n",
       "Female           54708       53.76\n",
       "Male             47055       46.24\n",
       "Unknown/Invalid      3        0.00"
      ]
     },
     "execution_count": 22,
     "metadata": {},
     "output_type": "execute_result"
    }
   ],
   "source": [
    "gender_count_table = get_count_table(df,id_col,col)\n",
    "gender_count_table"
   ]
  },
  {
   "cell_type": "code",
   "execution_count": 23,
   "id": "a85ed199",
   "metadata": {},
   "outputs": [
    {
     "data": {
      "image/png": "[encoded data removed]",
      "text/plain": [
       "<Figure size 432x288 with 1 Axes>"
      ]
     },
     "metadata": {
      "needs_background": "light"
     },
     "output_type": "display_data"
    }
   ],
   "source": [
    "plot_chart(gender_count_table,'Count of gender')"
   ]
  },
  {
   "cell_type": "code",
   "execution_count": 24,
   "id": "fe7c9905",
   "metadata": {},
   "outputs": [
    {
     "data": {
      "text/html": [
       "<div>\n",
       "<style scoped>\n",
       "    .dataframe tbody tr th:only-of-type {\n",
       "        vertical-align: middle;\n",
       "    }\n",
       "\n",
       "    .dataframe tbody tr th {\n",
       "        vertical-align: top;\n",
       "    }\n",
       "\n",
       "    .dataframe thead th {\n",
       "        text-align: right;\n",
       "    }\n",
       "</style>\n",
       "<table border=\"1\" class=\"dataframe\">\n",
       "  <thead>\n",
       "    <tr style=\"text-align: right;\">\n",
       "      <th>gender</th>\n",
       "      <th>Female</th>\n",
       "      <th>Male</th>\n",
       "      <th>Unknown/Invalid</th>\n",
       "    </tr>\n",
       "    <tr>\n",
       "      <th>readmitted</th>\n",
       "      <th></th>\n",
       "      <th></th>\n",
       "      <th></th>\n",
       "    </tr>\n",
       "  </thead>\n",
       "  <tbody>\n",
       "    <tr>\n",
       "      <th>&lt;30</th>\n",
       "      <td>11.25</td>\n",
       "      <td>11.06</td>\n",
       "      <td>0.0</td>\n",
       "    </tr>\n",
       "    <tr>\n",
       "      <th>&gt;30</th>\n",
       "      <td>35.68</td>\n",
       "      <td>34.06</td>\n",
       "      <td>0.0</td>\n",
       "    </tr>\n",
       "    <tr>\n",
       "      <th>NO</th>\n",
       "      <td>53.08</td>\n",
       "      <td>54.88</td>\n",
       "      <td>100.0</td>\n",
       "    </tr>\n",
       "  </tbody>\n",
       "</table>\n",
       "</div>"
      ],
      "text/plain": [
       "gender      Female   Male  Unknown/Invalid\n",
       "readmitted                                \n",
       "<30          11.25  11.06              0.0\n",
       ">30          35.68  34.06              0.0\n",
       "NO           53.08  54.88            100.0"
      ]
     },
     "execution_count": 24,
     "metadata": {},
     "output_type": "execute_result"
    }
   ],
   "source": [
    "get_cross_table(df,col)"
   ]
  },
  {
   "cell_type": "markdown",
   "id": "3cc229bd",
   "metadata": {},
   "source": [
    "Based on the last information, whe might think that the women tend to be readmitted more often that men. However this difference does not seem considerable. Something else to check is about the Unknown/Invalid category, it just represents 3 observations and it woul be better to handle this as NAN valued instead of a third category."
   ]
  },
  {
   "cell_type": "code",
   "execution_count": 25,
   "id": "35cee14f",
   "metadata": {},
   "outputs": [],
   "source": [
    "# replace category unknown/invalid for na\n",
    "df['gender']=df['gender'].replace('Unknown/Invalid',np.nan)"
   ]
  },
  {
   "cell_type": "markdown",
   "id": "9b979568",
   "metadata": {},
   "source": [
    "**Age**"
   ]
  },
  {
   "cell_type": "code",
   "execution_count": 26,
   "id": "ac651d94",
   "metadata": {},
   "outputs": [
    {
     "data": {
      "text/html": [
       "<div>\n",
       "<style scoped>\n",
       "    .dataframe tbody tr th:only-of-type {\n",
       "        vertical-align: middle;\n",
       "    }\n",
       "\n",
       "    .dataframe tbody tr th {\n",
       "        vertical-align: top;\n",
       "    }\n",
       "\n",
       "    .dataframe thead th {\n",
       "        text-align: right;\n",
       "    }\n",
       "</style>\n",
       "<table border=\"1\" class=\"dataframe\">\n",
       "  <thead>\n",
       "    <tr style=\"text-align: right;\">\n",
       "      <th></th>\n",
       "      <th>value</th>\n",
       "    </tr>\n",
       "  </thead>\n",
       "  <tbody>\n",
       "    <tr>\n",
       "      <th>% missing_values</th>\n",
       "      <td>0.0</td>\n",
       "    </tr>\n",
       "    <tr>\n",
       "      <th>distinct_categories</th>\n",
       "      <td>10</td>\n",
       "    </tr>\n",
       "  </tbody>\n",
       "</table>\n",
       "</div>"
      ],
      "text/plain": [
       "                    value\n",
       "% missing_values      0.0\n",
       "distinct_categories    10"
      ]
     },
     "execution_count": 26,
     "metadata": {},
     "output_type": "execute_result"
    }
   ],
   "source": [
    "col = 'age'\n",
    "age_info_table = get_info_table(df,col)\n",
    "age_info_table"
   ]
  },
  {
   "cell_type": "code",
   "execution_count": 27,
   "id": "c6ca8ba4",
   "metadata": {},
   "outputs": [
    {
     "data": {
      "text/html": [
       "<div>\n",
       "<style scoped>\n",
       "    .dataframe tbody tr th:only-of-type {\n",
       "        vertical-align: middle;\n",
       "    }\n",
       "\n",
       "    .dataframe tbody tr th {\n",
       "        vertical-align: top;\n",
       "    }\n",
       "\n",
       "    .dataframe thead th {\n",
       "        text-align: right;\n",
       "    }\n",
       "</style>\n",
       "<table border=\"1\" class=\"dataframe\">\n",
       "  <thead>\n",
       "    <tr style=\"text-align: right;\">\n",
       "      <th></th>\n",
       "      <th>count</th>\n",
       "      <th>percentage</th>\n",
       "    </tr>\n",
       "    <tr>\n",
       "      <th>age</th>\n",
       "      <th></th>\n",
       "      <th></th>\n",
       "    </tr>\n",
       "  </thead>\n",
       "  <tbody>\n",
       "    <tr>\n",
       "      <th>[70-80)</th>\n",
       "      <td>26068</td>\n",
       "      <td>25.62</td>\n",
       "    </tr>\n",
       "    <tr>\n",
       "      <th>[60-70)</th>\n",
       "      <td>22483</td>\n",
       "      <td>22.09</td>\n",
       "    </tr>\n",
       "    <tr>\n",
       "      <th>[50-60)</th>\n",
       "      <td>17256</td>\n",
       "      <td>16.96</td>\n",
       "    </tr>\n",
       "    <tr>\n",
       "      <th>[80-90)</th>\n",
       "      <td>17197</td>\n",
       "      <td>16.90</td>\n",
       "    </tr>\n",
       "    <tr>\n",
       "      <th>[40-50)</th>\n",
       "      <td>9685</td>\n",
       "      <td>9.52</td>\n",
       "    </tr>\n",
       "    <tr>\n",
       "      <th>[30-40)</th>\n",
       "      <td>3775</td>\n",
       "      <td>3.71</td>\n",
       "    </tr>\n",
       "    <tr>\n",
       "      <th>[90-100)</th>\n",
       "      <td>2793</td>\n",
       "      <td>2.74</td>\n",
       "    </tr>\n",
       "    <tr>\n",
       "      <th>[20-30)</th>\n",
       "      <td>1657</td>\n",
       "      <td>1.63</td>\n",
       "    </tr>\n",
       "    <tr>\n",
       "      <th>[10-20)</th>\n",
       "      <td>691</td>\n",
       "      <td>0.68</td>\n",
       "    </tr>\n",
       "    <tr>\n",
       "      <th>[0-10)</th>\n",
       "      <td>161</td>\n",
       "      <td>0.16</td>\n",
       "    </tr>\n",
       "  </tbody>\n",
       "</table>\n",
       "</div>"
      ],
      "text/plain": [
       "          count  percentage\n",
       "age                        \n",
       "[70-80)   26068       25.62\n",
       "[60-70)   22483       22.09\n",
       "[50-60)   17256       16.96\n",
       "[80-90)   17197       16.90\n",
       "[40-50)    9685        9.52\n",
       "[30-40)    3775        3.71\n",
       "[90-100)   2793        2.74\n",
       "[20-30)    1657        1.63\n",
       "[10-20)     691        0.68\n",
       "[0-10)      161        0.16"
      ]
     },
     "execution_count": 27,
     "metadata": {},
     "output_type": "execute_result"
    }
   ],
   "source": [
    "age_count_table = get_count_table(df,id_col,col)\n",
    "age_count_table"
   ]
  },
  {
   "cell_type": "code",
   "execution_count": 28,
   "id": "6cff3ca9",
   "metadata": {},
   "outputs": [
    {
     "data": {
      "image/png": "[encoded data removed]",
      "text/plain": [
       "<Figure size 432x288 with 1 Axes>"
      ]
     },
     "metadata": {
      "needs_background": "light"
     },
     "output_type": "display_data"
    }
   ],
   "source": [
    "plot_chart(age_count_table,'Count of age')"
   ]
  },
  {
   "cell_type": "code",
   "execution_count": 29,
   "id": "6e527318",
   "metadata": {},
   "outputs": [
    {
     "data": {
      "text/html": [
       "<div>\n",
       "<style scoped>\n",
       "    .dataframe tbody tr th:only-of-type {\n",
       "        vertical-align: middle;\n",
       "    }\n",
       "\n",
       "    .dataframe tbody tr th {\n",
       "        vertical-align: top;\n",
       "    }\n",
       "\n",
       "    .dataframe thead th {\n",
       "        text-align: right;\n",
       "    }\n",
       "</style>\n",
       "<table border=\"1\" class=\"dataframe\">\n",
       "  <thead>\n",
       "    <tr style=\"text-align: right;\">\n",
       "      <th>age</th>\n",
       "      <th>[0-10)</th>\n",
       "      <th>[10-20)</th>\n",
       "      <th>[20-30)</th>\n",
       "      <th>[30-40)</th>\n",
       "      <th>[40-50)</th>\n",
       "      <th>[50-60)</th>\n",
       "      <th>[60-70)</th>\n",
       "      <th>[70-80)</th>\n",
       "      <th>[80-90)</th>\n",
       "      <th>[90-100)</th>\n",
       "    </tr>\n",
       "    <tr>\n",
       "      <th>readmitted</th>\n",
       "      <th></th>\n",
       "      <th></th>\n",
       "      <th></th>\n",
       "      <th></th>\n",
       "      <th></th>\n",
       "      <th></th>\n",
       "      <th></th>\n",
       "      <th></th>\n",
       "      <th></th>\n",
       "      <th></th>\n",
       "    </tr>\n",
       "  </thead>\n",
       "  <tbody>\n",
       "    <tr>\n",
       "      <th>&lt;30</th>\n",
       "      <td>1.86</td>\n",
       "      <td>5.79</td>\n",
       "      <td>14.24</td>\n",
       "      <td>11.23</td>\n",
       "      <td>10.60</td>\n",
       "      <td>9.67</td>\n",
       "      <td>11.13</td>\n",
       "      <td>11.77</td>\n",
       "      <td>12.08</td>\n",
       "      <td>11.10</td>\n",
       "    </tr>\n",
       "    <tr>\n",
       "      <th>&gt;30</th>\n",
       "      <td>16.15</td>\n",
       "      <td>32.42</td>\n",
       "      <td>30.78</td>\n",
       "      <td>31.44</td>\n",
       "      <td>33.85</td>\n",
       "      <td>34.29</td>\n",
       "      <td>35.12</td>\n",
       "      <td>36.35</td>\n",
       "      <td>36.19</td>\n",
       "      <td>28.93</td>\n",
       "    </tr>\n",
       "    <tr>\n",
       "      <th>NO</th>\n",
       "      <td>81.99</td>\n",
       "      <td>61.79</td>\n",
       "      <td>54.98</td>\n",
       "      <td>57.32</td>\n",
       "      <td>55.55</td>\n",
       "      <td>56.04</td>\n",
       "      <td>53.75</td>\n",
       "      <td>51.88</td>\n",
       "      <td>51.73</td>\n",
       "      <td>59.97</td>\n",
       "    </tr>\n",
       "  </tbody>\n",
       "</table>\n",
       "</div>"
      ],
      "text/plain": [
       "age         [0-10)  [10-20)  [20-30)  [30-40)  [40-50)  [50-60)  [60-70)  \\\n",
       "readmitted                                                                 \n",
       "<30           1.86     5.79    14.24    11.23    10.60     9.67    11.13   \n",
       ">30          16.15    32.42    30.78    31.44    33.85    34.29    35.12   \n",
       "NO           81.99    61.79    54.98    57.32    55.55    56.04    53.75   \n",
       "\n",
       "age         [70-80)  [80-90)  [90-100)  \n",
       "readmitted                              \n",
       "<30           11.77    12.08     11.10  \n",
       ">30           36.35    36.19     28.93  \n",
       "NO            51.88    51.73     59.97  "
      ]
     },
     "execution_count": 29,
     "metadata": {},
     "output_type": "execute_result"
    }
   ],
   "source": [
    "get_cross_table(df,col)"
   ]
  },
  {
   "cell_type": "markdown",
   "id": "24fc1eba",
   "metadata": {},
   "source": [
    "the age field shows that most of the people that have diabetes related problems are those older than 50 years. We can also see that when the age range get bigger, it is more likely that the person will be readmitted except for the 90-100 range, it might be due to the low number of patients in the sample for this category. This field is an ordinal variable wich means it has some hierarchy in the values. the are no missing values."
   ]
  },
  {
   "cell_type": "markdown",
   "id": "2bf94b6b",
   "metadata": {},
   "source": [
    "**weight**"
   ]
  },
  {
   "cell_type": "code",
   "execution_count": 30,
   "id": "caaed593",
   "metadata": {},
   "outputs": [
    {
     "data": {
      "text/html": [
       "<div>\n",
       "<style scoped>\n",
       "    .dataframe tbody tr th:only-of-type {\n",
       "        vertical-align: middle;\n",
       "    }\n",
       "\n",
       "    .dataframe tbody tr th {\n",
       "        vertical-align: top;\n",
       "    }\n",
       "\n",
       "    .dataframe thead th {\n",
       "        text-align: right;\n",
       "    }\n",
       "</style>\n",
       "<table border=\"1\" class=\"dataframe\">\n",
       "  <thead>\n",
       "    <tr style=\"text-align: right;\">\n",
       "      <th></th>\n",
       "      <th>value</th>\n",
       "    </tr>\n",
       "  </thead>\n",
       "  <tbody>\n",
       "    <tr>\n",
       "      <th>% missing_values</th>\n",
       "      <td>96.86</td>\n",
       "    </tr>\n",
       "    <tr>\n",
       "      <th>distinct_categories</th>\n",
       "      <td>9</td>\n",
       "    </tr>\n",
       "  </tbody>\n",
       "</table>\n",
       "</div>"
      ],
      "text/plain": [
       "                     value\n",
       "% missing_values     96.86\n",
       "distinct_categories      9"
      ]
     },
     "execution_count": 30,
     "metadata": {},
     "output_type": "execute_result"
    }
   ],
   "source": [
    "col = 'weight'\n",
    "age_info_table = get_info_table(df,col)\n",
    "age_info_table"
   ]
  },
  {
   "cell_type": "markdown",
   "id": "4f961ff4",
   "metadata": {},
   "source": [
    "Almost the 97% percent of the values in this field are missing. it is likely that this variable will be dropped, because there is no enough information to impute correctly."
   ]
  },
  {
   "cell_type": "markdown",
   "id": "cd8ac48c",
   "metadata": {},
   "source": [
    "**admission_type_id**"
   ]
  },
  {
   "cell_type": "markdown",
   "id": "4df07630",
   "metadata": {},
   "source": [
    "According to the information supplied about mapping, we will consider the categories 5 (Not Available), 6 (NULL) and 8 (Not Mapped) as missing values."
   ]
  },
  {
   "cell_type": "code",
   "execution_count": 31,
   "id": "d36e8113",
   "metadata": {},
   "outputs": [],
   "source": [
    "dict_missing = {\n",
    "    5:np.nan,\n",
    "    6:np.nan,\n",
    "    8:np.nan,\n",
    "}\n",
    "\n",
    "df['admission_type_id'] = df['admission_type_id'].replace(dict_missing)"
   ]
  },
  {
   "cell_type": "code",
   "execution_count": 32,
   "id": "855f370f",
   "metadata": {},
   "outputs": [
    {
     "data": {
      "text/html": [
       "<div>\n",
       "<style scoped>\n",
       "    .dataframe tbody tr th:only-of-type {\n",
       "        vertical-align: middle;\n",
       "    }\n",
       "\n",
       "    .dataframe tbody tr th {\n",
       "        vertical-align: top;\n",
       "    }\n",
       "\n",
       "    .dataframe thead th {\n",
       "        text-align: right;\n",
       "    }\n",
       "</style>\n",
       "<table border=\"1\" class=\"dataframe\">\n",
       "  <thead>\n",
       "    <tr style=\"text-align: right;\">\n",
       "      <th></th>\n",
       "      <th>value</th>\n",
       "    </tr>\n",
       "  </thead>\n",
       "  <tbody>\n",
       "    <tr>\n",
       "      <th>% missing_values</th>\n",
       "      <td>10.22</td>\n",
       "    </tr>\n",
       "    <tr>\n",
       "      <th>distinct_categories</th>\n",
       "      <td>5</td>\n",
       "    </tr>\n",
       "  </tbody>\n",
       "</table>\n",
       "</div>"
      ],
      "text/plain": [
       "                     value\n",
       "% missing_values     10.22\n",
       "distinct_categories      5"
      ]
     },
     "execution_count": 32,
     "metadata": {},
     "output_type": "execute_result"
    }
   ],
   "source": [
    "col = 'admission_type_id'\n",
    "admission_type_id_info_table = get_info_table(df,col)\n",
    "admission_type_id_info_table"
   ]
  },
  {
   "cell_type": "code",
   "execution_count": 33,
   "id": "3c72e8c7",
   "metadata": {},
   "outputs": [
    {
     "data": {
      "text/html": [
       "<div>\n",
       "<style scoped>\n",
       "    .dataframe tbody tr th:only-of-type {\n",
       "        vertical-align: middle;\n",
       "    }\n",
       "\n",
       "    .dataframe tbody tr th {\n",
       "        vertical-align: top;\n",
       "    }\n",
       "\n",
       "    .dataframe thead th {\n",
       "        text-align: right;\n",
       "    }\n",
       "</style>\n",
       "<table border=\"1\" class=\"dataframe\">\n",
       "  <thead>\n",
       "    <tr style=\"text-align: right;\">\n",
       "      <th></th>\n",
       "      <th>count</th>\n",
       "      <th>percentage</th>\n",
       "    </tr>\n",
       "    <tr>\n",
       "      <th>admission_type_id</th>\n",
       "      <th></th>\n",
       "      <th></th>\n",
       "    </tr>\n",
       "  </thead>\n",
       "  <tbody>\n",
       "    <tr>\n",
       "      <th>1.0</th>\n",
       "      <td>53990</td>\n",
       "      <td>59.09</td>\n",
       "    </tr>\n",
       "    <tr>\n",
       "      <th>3.0</th>\n",
       "      <td>18869</td>\n",
       "      <td>20.65</td>\n",
       "    </tr>\n",
       "    <tr>\n",
       "      <th>2.0</th>\n",
       "      <td>18480</td>\n",
       "      <td>20.23</td>\n",
       "    </tr>\n",
       "    <tr>\n",
       "      <th>7.0</th>\n",
       "      <td>21</td>\n",
       "      <td>0.02</td>\n",
       "    </tr>\n",
       "    <tr>\n",
       "      <th>4.0</th>\n",
       "      <td>10</td>\n",
       "      <td>0.01</td>\n",
       "    </tr>\n",
       "  </tbody>\n",
       "</table>\n",
       "</div>"
      ],
      "text/plain": [
       "                   count  percentage\n",
       "admission_type_id                   \n",
       "1.0                53990       59.09\n",
       "3.0                18869       20.65\n",
       "2.0                18480       20.23\n",
       "7.0                   21        0.02\n",
       "4.0                   10        0.01"
      ]
     },
     "execution_count": 33,
     "metadata": {},
     "output_type": "execute_result"
    }
   ],
   "source": [
    "admission_type_id_count_table = get_count_table(df,id_col,col)\n",
    "admission_type_id_count_table"
   ]
  },
  {
   "cell_type": "code",
   "execution_count": 34,
   "id": "35143b9b",
   "metadata": {},
   "outputs": [
    {
     "data": {
      "image/png": "[encoded data removed]",
      "text/plain": [
       "<Figure size 432x288 with 1 Axes>"
      ]
     },
     "metadata": {
      "needs_background": "light"
     },
     "output_type": "display_data"
    }
   ],
   "source": [
    "plot_chart(admission_type_id_count_table,'Count of admission_type_id')"
   ]
  },
  {
   "cell_type": "code",
   "execution_count": 35,
   "id": "60277356",
   "metadata": {},
   "outputs": [
    {
     "data": {
      "text/html": [
       "<div>\n",
       "<style scoped>\n",
       "    .dataframe tbody tr th:only-of-type {\n",
       "        vertical-align: middle;\n",
       "    }\n",
       "\n",
       "    .dataframe tbody tr th {\n",
       "        vertical-align: top;\n",
       "    }\n",
       "\n",
       "    .dataframe thead th {\n",
       "        text-align: right;\n",
       "    }\n",
       "</style>\n",
       "<table border=\"1\" class=\"dataframe\">\n",
       "  <thead>\n",
       "    <tr style=\"text-align: right;\">\n",
       "      <th>admission_type_id</th>\n",
       "      <th>1.0</th>\n",
       "      <th>2.0</th>\n",
       "      <th>3.0</th>\n",
       "      <th>4.0</th>\n",
       "      <th>7.0</th>\n",
       "    </tr>\n",
       "    <tr>\n",
       "      <th>readmitted</th>\n",
       "      <th></th>\n",
       "      <th></th>\n",
       "      <th></th>\n",
       "      <th></th>\n",
       "      <th></th>\n",
       "    </tr>\n",
       "  </thead>\n",
       "  <tbody>\n",
       "    <tr>\n",
       "      <th>&lt;30</th>\n",
       "      <td>11.52</td>\n",
       "      <td>11.18</td>\n",
       "      <td>10.39</td>\n",
       "      <td>10.0</td>\n",
       "      <td>0.0</td>\n",
       "    </tr>\n",
       "    <tr>\n",
       "      <th>&gt;30</th>\n",
       "      <td>35.76</td>\n",
       "      <td>34.91</td>\n",
       "      <td>30.45</td>\n",
       "      <td>20.0</td>\n",
       "      <td>0.0</td>\n",
       "    </tr>\n",
       "    <tr>\n",
       "      <th>NO</th>\n",
       "      <td>52.71</td>\n",
       "      <td>53.91</td>\n",
       "      <td>59.16</td>\n",
       "      <td>70.0</td>\n",
       "      <td>100.0</td>\n",
       "    </tr>\n",
       "  </tbody>\n",
       "</table>\n",
       "</div>"
      ],
      "text/plain": [
       "admission_type_id    1.0    2.0    3.0   4.0    7.0\n",
       "readmitted                                         \n",
       "<30                11.52  11.18  10.39  10.0    0.0\n",
       ">30                35.76  34.91  30.45  20.0    0.0\n",
       "NO                 52.71  53.91  59.16  70.0  100.0"
      ]
     },
     "execution_count": 35,
     "metadata": {},
     "output_type": "execute_result"
    }
   ],
   "source": [
    "get_cross_table(df,col)"
   ]
  },
  {
   "cell_type": "markdown",
   "id": "c8e44dd4",
   "metadata": {},
   "source": [
    "Most of the people that were treated at the hospital related to diabetes issues had an emergency admission type. It's hard to know the influence of this field in the target variable, because all the classes are higly unbalance the differences among classes migth be to a lack of information. there are 10.22% of missing values."
   ]
  },
  {
   "cell_type": "markdown",
   "id": "2cdef905",
   "metadata": {},
   "source": [
    "**discharge_disposition_id**"
   ]
  },
  {
   "cell_type": "markdown",
   "id": "c8ef971e",
   "metadata": {},
   "source": [
    "According to the information supplied about mapping, we will consider the categories 18 (NULL), 25 (Not Mapped) and 26 (unkwown/invalid) as missing values."
   ]
  },
  {
   "cell_type": "code",
   "execution_count": 36,
   "id": "54844254",
   "metadata": {},
   "outputs": [],
   "source": [
    "\n",
    "dict_missing = {\n",
    "    18:np.nan,\n",
    "    25:np.nan,\n",
    "    26:np.nan,\n",
    "}\n",
    "\n",
    "df['discharge_disposition_id'] = df['discharge_disposition_id'].replace(dict_missing)"
   ]
  },
  {
   "cell_type": "code",
   "execution_count": 37,
   "id": "5b3eedaf",
   "metadata": {},
   "outputs": [
    {
     "data": {
      "text/html": [
       "<div>\n",
       "<style scoped>\n",
       "    .dataframe tbody tr th:only-of-type {\n",
       "        vertical-align: middle;\n",
       "    }\n",
       "\n",
       "    .dataframe tbody tr th {\n",
       "        vertical-align: top;\n",
       "    }\n",
       "\n",
       "    .dataframe thead th {\n",
       "        text-align: right;\n",
       "    }\n",
       "</style>\n",
       "<table border=\"1\" class=\"dataframe\">\n",
       "  <thead>\n",
       "    <tr style=\"text-align: right;\">\n",
       "      <th></th>\n",
       "      <th>value</th>\n",
       "    </tr>\n",
       "  </thead>\n",
       "  <tbody>\n",
       "    <tr>\n",
       "      <th>% missing_values</th>\n",
       "      <td>4.6</td>\n",
       "    </tr>\n",
       "    <tr>\n",
       "      <th>distinct_categories</th>\n",
       "      <td>24</td>\n",
       "    </tr>\n",
       "  </tbody>\n",
       "</table>\n",
       "</div>"
      ],
      "text/plain": [
       "                    value\n",
       "% missing_values      4.6\n",
       "distinct_categories    24"
      ]
     },
     "execution_count": 37,
     "metadata": {},
     "output_type": "execute_result"
    }
   ],
   "source": [
    "col = 'discharge_disposition_id'\n",
    "discharge_disposition_id_info_table = get_info_table(df,col)\n",
    "discharge_disposition_id_info_table"
   ]
  },
  {
   "cell_type": "code",
   "execution_count": 38,
   "id": "1d6b706a",
   "metadata": {},
   "outputs": [
    {
     "data": {
      "text/html": [
       "<div>\n",
       "<style scoped>\n",
       "    .dataframe tbody tr th:only-of-type {\n",
       "        vertical-align: middle;\n",
       "    }\n",
       "\n",
       "    .dataframe tbody tr th {\n",
       "        vertical-align: top;\n",
       "    }\n",
       "\n",
       "    .dataframe thead th {\n",
       "        text-align: right;\n",
       "    }\n",
       "</style>\n",
       "<table border=\"1\" class=\"dataframe\">\n",
       "  <thead>\n",
       "    <tr style=\"text-align: right;\">\n",
       "      <th></th>\n",
       "      <th>count</th>\n",
       "      <th>percentage</th>\n",
       "    </tr>\n",
       "    <tr>\n",
       "      <th>discharge_disposition_id</th>\n",
       "      <th></th>\n",
       "      <th></th>\n",
       "    </tr>\n",
       "  </thead>\n",
       "  <tbody>\n",
       "    <tr>\n",
       "      <th>1.0</th>\n",
       "      <td>60234</td>\n",
       "      <td>62.04</td>\n",
       "    </tr>\n",
       "    <tr>\n",
       "      <th>3.0</th>\n",
       "      <td>13954</td>\n",
       "      <td>14.37</td>\n",
       "    </tr>\n",
       "    <tr>\n",
       "      <th>6.0</th>\n",
       "      <td>12902</td>\n",
       "      <td>13.29</td>\n",
       "    </tr>\n",
       "    <tr>\n",
       "      <th>2.0</th>\n",
       "      <td>2128</td>\n",
       "      <td>2.19</td>\n",
       "    </tr>\n",
       "    <tr>\n",
       "      <th>22.0</th>\n",
       "      <td>1993</td>\n",
       "      <td>2.05</td>\n",
       "    </tr>\n",
       "    <tr>\n",
       "      <th>11.0</th>\n",
       "      <td>1642</td>\n",
       "      <td>1.69</td>\n",
       "    </tr>\n",
       "    <tr>\n",
       "      <th>5.0</th>\n",
       "      <td>1184</td>\n",
       "      <td>1.22</td>\n",
       "    </tr>\n",
       "    <tr>\n",
       "      <th>4.0</th>\n",
       "      <td>815</td>\n",
       "      <td>0.84</td>\n",
       "    </tr>\n",
       "    <tr>\n",
       "      <th>7.0</th>\n",
       "      <td>623</td>\n",
       "      <td>0.64</td>\n",
       "    </tr>\n",
       "    <tr>\n",
       "      <th>23.0</th>\n",
       "      <td>412</td>\n",
       "      <td>0.42</td>\n",
       "    </tr>\n",
       "    <tr>\n",
       "      <th>13.0</th>\n",
       "      <td>399</td>\n",
       "      <td>0.41</td>\n",
       "    </tr>\n",
       "    <tr>\n",
       "      <th>14.0</th>\n",
       "      <td>372</td>\n",
       "      <td>0.38</td>\n",
       "    </tr>\n",
       "    <tr>\n",
       "      <th>28.0</th>\n",
       "      <td>139</td>\n",
       "      <td>0.14</td>\n",
       "    </tr>\n",
       "    <tr>\n",
       "      <th>8.0</th>\n",
       "      <td>108</td>\n",
       "      <td>0.11</td>\n",
       "    </tr>\n",
       "    <tr>\n",
       "      <th>15.0</th>\n",
       "      <td>63</td>\n",
       "      <td>0.06</td>\n",
       "    </tr>\n",
       "    <tr>\n",
       "      <th>24.0</th>\n",
       "      <td>48</td>\n",
       "      <td>0.05</td>\n",
       "    </tr>\n",
       "    <tr>\n",
       "      <th>9.0</th>\n",
       "      <td>21</td>\n",
       "      <td>0.02</td>\n",
       "    </tr>\n",
       "    <tr>\n",
       "      <th>17.0</th>\n",
       "      <td>14</td>\n",
       "      <td>0.01</td>\n",
       "    </tr>\n",
       "    <tr>\n",
       "      <th>16.0</th>\n",
       "      <td>11</td>\n",
       "      <td>0.01</td>\n",
       "    </tr>\n",
       "    <tr>\n",
       "      <th>19.0</th>\n",
       "      <td>8</td>\n",
       "      <td>0.01</td>\n",
       "    </tr>\n",
       "    <tr>\n",
       "      <th>10.0</th>\n",
       "      <td>6</td>\n",
       "      <td>0.01</td>\n",
       "    </tr>\n",
       "    <tr>\n",
       "      <th>27.0</th>\n",
       "      <td>5</td>\n",
       "      <td>0.01</td>\n",
       "    </tr>\n",
       "    <tr>\n",
       "      <th>12.0</th>\n",
       "      <td>3</td>\n",
       "      <td>0.00</td>\n",
       "    </tr>\n",
       "    <tr>\n",
       "      <th>20.0</th>\n",
       "      <td>2</td>\n",
       "      <td>0.00</td>\n",
       "    </tr>\n",
       "  </tbody>\n",
       "</table>\n",
       "</div>"
      ],
      "text/plain": [
       "                          count  percentage\n",
       "discharge_disposition_id                   \n",
       "1.0                       60234       62.04\n",
       "3.0                       13954       14.37\n",
       "6.0                       12902       13.29\n",
       "2.0                        2128        2.19\n",
       "22.0                       1993        2.05\n",
       "11.0                       1642        1.69\n",
       "5.0                        1184        1.22\n",
       "4.0                         815        0.84\n",
       "7.0                         623        0.64\n",
       "23.0                        412        0.42\n",
       "13.0                        399        0.41\n",
       "14.0                        372        0.38\n",
       "28.0                        139        0.14\n",
       "8.0                         108        0.11\n",
       "15.0                         63        0.06\n",
       "24.0                         48        0.05\n",
       "9.0                          21        0.02\n",
       "17.0                         14        0.01\n",
       "16.0                         11        0.01\n",
       "19.0                          8        0.01\n",
       "10.0                          6        0.01\n",
       "27.0                          5        0.01\n",
       "12.0                          3        0.00\n",
       "20.0                          2        0.00"
      ]
     },
     "execution_count": 38,
     "metadata": {},
     "output_type": "execute_result"
    }
   ],
   "source": [
    "discharge_disposition_id_count_table = get_count_table(df,id_col,col)\n",
    "discharge_disposition_id_count_table"
   ]
  },
  {
   "cell_type": "code",
   "execution_count": 39,
   "id": "f8b347f4",
   "metadata": {},
   "outputs": [
    {
     "data": {
      "image/png": "[encoded data removed]",
      "text/plain": [
       "<Figure size 432x288 with 1 Axes>"
      ]
     },
     "metadata": {
      "needs_background": "light"
     },
     "output_type": "display_data"
    }
   ],
   "source": [
    "plot_chart(discharge_disposition_id_count_table,'Count of admission_type_id')"
   ]
  },
  {
   "cell_type": "code",
   "execution_count": 40,
   "id": "8e01597b",
   "metadata": {},
   "outputs": [
    {
     "data": {
      "text/html": [
       "<div>\n",
       "<style scoped>\n",
       "    .dataframe tbody tr th:only-of-type {\n",
       "        vertical-align: middle;\n",
       "    }\n",
       "\n",
       "    .dataframe tbody tr th {\n",
       "        vertical-align: top;\n",
       "    }\n",
       "\n",
       "    .dataframe thead th {\n",
       "        text-align: right;\n",
       "    }\n",
       "</style>\n",
       "<table border=\"1\" class=\"dataframe\">\n",
       "  <thead>\n",
       "    <tr style=\"text-align: right;\">\n",
       "      <th>discharge_disposition_id</th>\n",
       "      <th>1.0</th>\n",
       "      <th>2.0</th>\n",
       "      <th>3.0</th>\n",
       "      <th>4.0</th>\n",
       "      <th>5.0</th>\n",
       "      <th>6.0</th>\n",
       "      <th>7.0</th>\n",
       "      <th>8.0</th>\n",
       "      <th>9.0</th>\n",
       "      <th>10.0</th>\n",
       "      <th>...</th>\n",
       "      <th>15.0</th>\n",
       "      <th>16.0</th>\n",
       "      <th>17.0</th>\n",
       "      <th>19.0</th>\n",
       "      <th>20.0</th>\n",
       "      <th>22.0</th>\n",
       "      <th>23.0</th>\n",
       "      <th>24.0</th>\n",
       "      <th>27.0</th>\n",
       "      <th>28.0</th>\n",
       "    </tr>\n",
       "    <tr>\n",
       "      <th>readmitted</th>\n",
       "      <th></th>\n",
       "      <th></th>\n",
       "      <th></th>\n",
       "      <th></th>\n",
       "      <th></th>\n",
       "      <th></th>\n",
       "      <th></th>\n",
       "      <th></th>\n",
       "      <th></th>\n",
       "      <th></th>\n",
       "      <th></th>\n",
       "      <th></th>\n",
       "      <th></th>\n",
       "      <th></th>\n",
       "      <th></th>\n",
       "      <th></th>\n",
       "      <th></th>\n",
       "      <th></th>\n",
       "      <th></th>\n",
       "      <th></th>\n",
       "      <th></th>\n",
       "    </tr>\n",
       "  </thead>\n",
       "  <tbody>\n",
       "    <tr>\n",
       "      <th>&lt;30</th>\n",
       "      <td>9.30</td>\n",
       "      <td>16.07</td>\n",
       "      <td>14.66</td>\n",
       "      <td>12.76</td>\n",
       "      <td>20.86</td>\n",
       "      <td>12.70</td>\n",
       "      <td>14.45</td>\n",
       "      <td>13.89</td>\n",
       "      <td>42.86</td>\n",
       "      <td>0.00</td>\n",
       "      <td>...</td>\n",
       "      <td>44.44</td>\n",
       "      <td>0.00</td>\n",
       "      <td>0.00</td>\n",
       "      <td>0.0</td>\n",
       "      <td>0.0</td>\n",
       "      <td>27.70</td>\n",
       "      <td>7.28</td>\n",
       "      <td>14.58</td>\n",
       "      <td>0.0</td>\n",
       "      <td>36.69</td>\n",
       "    </tr>\n",
       "    <tr>\n",
       "      <th>&gt;30</th>\n",
       "      <td>35.72</td>\n",
       "      <td>31.39</td>\n",
       "      <td>35.23</td>\n",
       "      <td>34.11</td>\n",
       "      <td>29.56</td>\n",
       "      <td>41.56</td>\n",
       "      <td>35.47</td>\n",
       "      <td>35.19</td>\n",
       "      <td>9.52</td>\n",
       "      <td>66.67</td>\n",
       "      <td>...</td>\n",
       "      <td>28.57</td>\n",
       "      <td>54.55</td>\n",
       "      <td>35.71</td>\n",
       "      <td>0.0</td>\n",
       "      <td>0.0</td>\n",
       "      <td>26.04</td>\n",
       "      <td>34.95</td>\n",
       "      <td>33.33</td>\n",
       "      <td>20.0</td>\n",
       "      <td>24.46</td>\n",
       "    </tr>\n",
       "    <tr>\n",
       "      <th>NO</th>\n",
       "      <td>54.98</td>\n",
       "      <td>52.54</td>\n",
       "      <td>50.11</td>\n",
       "      <td>53.13</td>\n",
       "      <td>49.58</td>\n",
       "      <td>45.74</td>\n",
       "      <td>50.08</td>\n",
       "      <td>50.93</td>\n",
       "      <td>47.62</td>\n",
       "      <td>33.33</td>\n",
       "      <td>...</td>\n",
       "      <td>26.98</td>\n",
       "      <td>45.45</td>\n",
       "      <td>64.29</td>\n",
       "      <td>100.0</td>\n",
       "      <td>100.0</td>\n",
       "      <td>46.26</td>\n",
       "      <td>57.77</td>\n",
       "      <td>52.08</td>\n",
       "      <td>80.0</td>\n",
       "      <td>38.85</td>\n",
       "    </tr>\n",
       "  </tbody>\n",
       "</table>\n",
       "<p>3 rows × 24 columns</p>\n",
       "</div>"
      ],
      "text/plain": [
       "discharge_disposition_id   1.0    2.0    3.0    4.0    5.0    6.0    7.0   \\\n",
       "readmitted                                                                  \n",
       "<30                        9.30  16.07  14.66  12.76  20.86  12.70  14.45   \n",
       ">30                       35.72  31.39  35.23  34.11  29.56  41.56  35.47   \n",
       "NO                        54.98  52.54  50.11  53.13  49.58  45.74  50.08   \n",
       "\n",
       "discharge_disposition_id   8.0    9.0    10.0  ...   15.0   16.0   17.0  \\\n",
       "readmitted                                     ...                        \n",
       "<30                       13.89  42.86   0.00  ...  44.44   0.00   0.00   \n",
       ">30                       35.19   9.52  66.67  ...  28.57  54.55  35.71   \n",
       "NO                        50.93  47.62  33.33  ...  26.98  45.45  64.29   \n",
       "\n",
       "discharge_disposition_id   19.0   20.0   22.0   23.0   24.0  27.0   28.0  \n",
       "readmitted                                                                \n",
       "<30                         0.0    0.0  27.70   7.28  14.58   0.0  36.69  \n",
       ">30                         0.0    0.0  26.04  34.95  33.33  20.0  24.46  \n",
       "NO                        100.0  100.0  46.26  57.77  52.08  80.0  38.85  \n",
       "\n",
       "[3 rows x 24 columns]"
      ]
     },
     "execution_count": 40,
     "metadata": {},
     "output_type": "execute_result"
    }
   ],
   "source": [
    "get_cross_table(df,col)"
   ]
  },
  {
   "cell_type": "markdown",
   "id": "775ce184",
   "metadata": {},
   "source": [
    "Most of the people were discharged to home. The are a lof of scenarios to consider and analyze. However we can see at glance that the people that are discharged to home are  less likely to be readmitted again, specially in the < 30 day window."
   ]
  },
  {
   "cell_type": "markdown",
   "id": "9decd1c1",
   "metadata": {},
   "source": [
    "**admission_source_id**"
   ]
  },
  {
   "cell_type": "markdown",
   "id": "4e091b6c",
   "metadata": {},
   "source": [
    "According to the information supplied about mapping, we will consider the categories 15 (Not Available) 17 (NULL), 20 (Not Mapped) and 21 (unkwown/invalid) as missing values."
   ]
  },
  {
   "cell_type": "code",
   "execution_count": 41,
   "id": "7e33183e",
   "metadata": {},
   "outputs": [],
   "source": [
    "dict_missing = {\n",
    "    18:np.nan,\n",
    "    25:np.nan,\n",
    "    26:np.nan,\n",
    "}\n",
    "\n",
    "df['admission_source_id'] = df['admission_source_id'].replace(dict_missing)"
   ]
  },
  {
   "cell_type": "code",
   "execution_count": 42,
   "id": "d4e0cf10",
   "metadata": {},
   "outputs": [
    {
     "data": {
      "text/html": [
       "<div>\n",
       "<style scoped>\n",
       "    .dataframe tbody tr th:only-of-type {\n",
       "        vertical-align: middle;\n",
       "    }\n",
       "\n",
       "    .dataframe tbody tr th {\n",
       "        vertical-align: top;\n",
       "    }\n",
       "\n",
       "    .dataframe thead th {\n",
       "        text-align: right;\n",
       "    }\n",
       "</style>\n",
       "<table border=\"1\" class=\"dataframe\">\n",
       "  <thead>\n",
       "    <tr style=\"text-align: right;\">\n",
       "      <th></th>\n",
       "      <th>value</th>\n",
       "    </tr>\n",
       "  </thead>\n",
       "  <tbody>\n",
       "    <tr>\n",
       "      <th>% missing_values</th>\n",
       "      <td>0.0</td>\n",
       "    </tr>\n",
       "    <tr>\n",
       "      <th>distinct_categories</th>\n",
       "      <td>16</td>\n",
       "    </tr>\n",
       "  </tbody>\n",
       "</table>\n",
       "</div>"
      ],
      "text/plain": [
       "                    value\n",
       "% missing_values      0.0\n",
       "distinct_categories    16"
      ]
     },
     "execution_count": 42,
     "metadata": {},
     "output_type": "execute_result"
    }
   ],
   "source": [
    "col = 'admission_source_id'\n",
    "admission_source_id_info_table = get_info_table(df,col)\n",
    "admission_source_id_info_table"
   ]
  },
  {
   "cell_type": "code",
   "execution_count": 43,
   "id": "369b18ea",
   "metadata": {},
   "outputs": [
    {
     "data": {
      "text/html": [
       "<div>\n",
       "<style scoped>\n",
       "    .dataframe tbody tr th:only-of-type {\n",
       "        vertical-align: middle;\n",
       "    }\n",
       "\n",
       "    .dataframe tbody tr th {\n",
       "        vertical-align: top;\n",
       "    }\n",
       "\n",
       "    .dataframe thead th {\n",
       "        text-align: right;\n",
       "    }\n",
       "</style>\n",
       "<table border=\"1\" class=\"dataframe\">\n",
       "  <thead>\n",
       "    <tr style=\"text-align: right;\">\n",
       "      <th></th>\n",
       "      <th>count</th>\n",
       "      <th>percentage</th>\n",
       "    </tr>\n",
       "    <tr>\n",
       "      <th>admission_source_id</th>\n",
       "      <th></th>\n",
       "      <th></th>\n",
       "    </tr>\n",
       "  </thead>\n",
       "  <tbody>\n",
       "    <tr>\n",
       "      <th>7.0</th>\n",
       "      <td>57494</td>\n",
       "      <td>56.50</td>\n",
       "    </tr>\n",
       "    <tr>\n",
       "      <th>1.0</th>\n",
       "      <td>29565</td>\n",
       "      <td>29.05</td>\n",
       "    </tr>\n",
       "    <tr>\n",
       "      <th>17.0</th>\n",
       "      <td>6781</td>\n",
       "      <td>6.66</td>\n",
       "    </tr>\n",
       "    <tr>\n",
       "      <th>4.0</th>\n",
       "      <td>3187</td>\n",
       "      <td>3.13</td>\n",
       "    </tr>\n",
       "    <tr>\n",
       "      <th>6.0</th>\n",
       "      <td>2264</td>\n",
       "      <td>2.22</td>\n",
       "    </tr>\n",
       "    <tr>\n",
       "      <th>2.0</th>\n",
       "      <td>1104</td>\n",
       "      <td>1.08</td>\n",
       "    </tr>\n",
       "    <tr>\n",
       "      <th>5.0</th>\n",
       "      <td>855</td>\n",
       "      <td>0.84</td>\n",
       "    </tr>\n",
       "    <tr>\n",
       "      <th>3.0</th>\n",
       "      <td>187</td>\n",
       "      <td>0.18</td>\n",
       "    </tr>\n",
       "    <tr>\n",
       "      <th>20.0</th>\n",
       "      <td>161</td>\n",
       "      <td>0.16</td>\n",
       "    </tr>\n",
       "    <tr>\n",
       "      <th>9.0</th>\n",
       "      <td>125</td>\n",
       "      <td>0.12</td>\n",
       "    </tr>\n",
       "    <tr>\n",
       "      <th>8.0</th>\n",
       "      <td>16</td>\n",
       "      <td>0.02</td>\n",
       "    </tr>\n",
       "    <tr>\n",
       "      <th>22.0</th>\n",
       "      <td>12</td>\n",
       "      <td>0.01</td>\n",
       "    </tr>\n",
       "    <tr>\n",
       "      <th>10.0</th>\n",
       "      <td>8</td>\n",
       "      <td>0.01</td>\n",
       "    </tr>\n",
       "    <tr>\n",
       "      <th>11.0</th>\n",
       "      <td>2</td>\n",
       "      <td>0.00</td>\n",
       "    </tr>\n",
       "    <tr>\n",
       "      <th>14.0</th>\n",
       "      <td>2</td>\n",
       "      <td>0.00</td>\n",
       "    </tr>\n",
       "    <tr>\n",
       "      <th>13.0</th>\n",
       "      <td>1</td>\n",
       "      <td>0.00</td>\n",
       "    </tr>\n",
       "  </tbody>\n",
       "</table>\n",
       "</div>"
      ],
      "text/plain": [
       "                     count  percentage\n",
       "admission_source_id                   \n",
       "7.0                  57494       56.50\n",
       "1.0                  29565       29.05\n",
       "17.0                  6781        6.66\n",
       "4.0                   3187        3.13\n",
       "6.0                   2264        2.22\n",
       "2.0                   1104        1.08\n",
       "5.0                    855        0.84\n",
       "3.0                    187        0.18\n",
       "20.0                   161        0.16\n",
       "9.0                    125        0.12\n",
       "8.0                     16        0.02\n",
       "22.0                    12        0.01\n",
       "10.0                     8        0.01\n",
       "11.0                     2        0.00\n",
       "14.0                     2        0.00\n",
       "13.0                     1        0.00"
      ]
     },
     "execution_count": 43,
     "metadata": {},
     "output_type": "execute_result"
    }
   ],
   "source": [
    "admission_source_id_count_table = get_count_table(df,id_col,col)\n",
    "admission_source_id_count_table"
   ]
  },
  {
   "cell_type": "code",
   "execution_count": 44,
   "id": "aee378fe",
   "metadata": {},
   "outputs": [
    {
     "data": {
      "image/png": "[encoded data removed]",
      "text/plain": [
       "<Figure size 432x288 with 1 Axes>"
      ]
     },
     "metadata": {
      "needs_background": "light"
     },
     "output_type": "display_data"
    }
   ],
   "source": [
    "plot_chart(admission_source_id_count_table,'admission_source_id')"
   ]
  },
  {
   "cell_type": "code",
   "execution_count": 45,
   "id": "c6dbaa89",
   "metadata": {},
   "outputs": [
    {
     "data": {
      "text/html": [
       "<div>\n",
       "<style scoped>\n",
       "    .dataframe tbody tr th:only-of-type {\n",
       "        vertical-align: middle;\n",
       "    }\n",
       "\n",
       "    .dataframe tbody tr th {\n",
       "        vertical-align: top;\n",
       "    }\n",
       "\n",
       "    .dataframe thead th {\n",
       "        text-align: right;\n",
       "    }\n",
       "</style>\n",
       "<table border=\"1\" class=\"dataframe\">\n",
       "  <thead>\n",
       "    <tr style=\"text-align: right;\">\n",
       "      <th>admission_source_id</th>\n",
       "      <th>1.0</th>\n",
       "      <th>2.0</th>\n",
       "      <th>3.0</th>\n",
       "      <th>4.0</th>\n",
       "      <th>5.0</th>\n",
       "      <th>6.0</th>\n",
       "      <th>7.0</th>\n",
       "      <th>8.0</th>\n",
       "      <th>9.0</th>\n",
       "      <th>10.0</th>\n",
       "      <th>11.0</th>\n",
       "      <th>13.0</th>\n",
       "      <th>14.0</th>\n",
       "      <th>17.0</th>\n",
       "      <th>20.0</th>\n",
       "      <th>22.0</th>\n",
       "    </tr>\n",
       "    <tr>\n",
       "      <th>readmitted</th>\n",
       "      <th></th>\n",
       "      <th></th>\n",
       "      <th></th>\n",
       "      <th></th>\n",
       "      <th></th>\n",
       "      <th></th>\n",
       "      <th></th>\n",
       "      <th></th>\n",
       "      <th></th>\n",
       "      <th></th>\n",
       "      <th></th>\n",
       "      <th></th>\n",
       "      <th></th>\n",
       "      <th></th>\n",
       "      <th></th>\n",
       "      <th></th>\n",
       "    </tr>\n",
       "  </thead>\n",
       "  <tbody>\n",
       "    <tr>\n",
       "      <th>&lt;30</th>\n",
       "      <td>10.59</td>\n",
       "      <td>10.05</td>\n",
       "      <td>15.51</td>\n",
       "      <td>9.70</td>\n",
       "      <td>11.81</td>\n",
       "      <td>9.36</td>\n",
       "      <td>11.69</td>\n",
       "      <td>12.5</td>\n",
       "      <td>10.4</td>\n",
       "      <td>0.0</td>\n",
       "      <td>0.0</td>\n",
       "      <td>0.0</td>\n",
       "      <td>0.0</td>\n",
       "      <td>10.41</td>\n",
       "      <td>13.66</td>\n",
       "      <td>16.67</td>\n",
       "    </tr>\n",
       "    <tr>\n",
       "      <th>&gt;30</th>\n",
       "      <td>32.61</td>\n",
       "      <td>28.08</td>\n",
       "      <td>31.02</td>\n",
       "      <td>21.09</td>\n",
       "      <td>27.60</td>\n",
       "      <td>17.58</td>\n",
       "      <td>37.69</td>\n",
       "      <td>25.0</td>\n",
       "      <td>12.8</td>\n",
       "      <td>25.0</td>\n",
       "      <td>0.0</td>\n",
       "      <td>0.0</td>\n",
       "      <td>0.0</td>\n",
       "      <td>36.25</td>\n",
       "      <td>50.31</td>\n",
       "      <td>25.00</td>\n",
       "    </tr>\n",
       "    <tr>\n",
       "      <th>NO</th>\n",
       "      <td>56.81</td>\n",
       "      <td>61.87</td>\n",
       "      <td>53.48</td>\n",
       "      <td>69.22</td>\n",
       "      <td>60.58</td>\n",
       "      <td>73.06</td>\n",
       "      <td>50.63</td>\n",
       "      <td>62.5</td>\n",
       "      <td>76.8</td>\n",
       "      <td>75.0</td>\n",
       "      <td>100.0</td>\n",
       "      <td>100.0</td>\n",
       "      <td>100.0</td>\n",
       "      <td>53.34</td>\n",
       "      <td>36.02</td>\n",
       "      <td>58.33</td>\n",
       "    </tr>\n",
       "  </tbody>\n",
       "</table>\n",
       "</div>"
      ],
      "text/plain": [
       "admission_source_id   1.0    2.0    3.0    4.0    5.0    6.0    7.0   8.0   \\\n",
       "readmitted                                                                   \n",
       "<30                  10.59  10.05  15.51   9.70  11.81   9.36  11.69  12.5   \n",
       ">30                  32.61  28.08  31.02  21.09  27.60  17.58  37.69  25.0   \n",
       "NO                   56.81  61.87  53.48  69.22  60.58  73.06  50.63  62.5   \n",
       "\n",
       "admission_source_id  9.0   10.0   11.0   13.0   14.0   17.0   20.0   22.0  \n",
       "readmitted                                                                 \n",
       "<30                  10.4   0.0    0.0    0.0    0.0  10.41  13.66  16.67  \n",
       ">30                  12.8  25.0    0.0    0.0    0.0  36.25  50.31  25.00  \n",
       "NO                   76.8  75.0  100.0  100.0  100.0  53.34  36.02  58.33  "
      ]
     },
     "execution_count": 45,
     "metadata": {},
     "output_type": "execute_result"
    }
   ],
   "source": [
    "get_cross_table(df,col)"
   ]
  },
  {
   "cell_type": "markdown",
   "id": "dc9a4734",
   "metadata": {},
   "source": [
    "The categories 7 (Emergency room) and 1 (physician referral) are by far the most representative categories in this field. We can see that comparing both of them, the results make sense because the people that were admitted by emergency room are more likely to be readmitted in the future. There are no missing values."
   ]
  },
  {
   "cell_type": "markdown",
   "id": "7caa55ac",
   "metadata": {},
   "source": [
    "**time_in_hospital**"
   ]
  },
  {
   "cell_type": "code",
   "execution_count": 46,
   "id": "7b2d3fd0",
   "metadata": {},
   "outputs": [
    {
     "data": {
      "text/html": [
       "<div>\n",
       "<style scoped>\n",
       "    .dataframe tbody tr th:only-of-type {\n",
       "        vertical-align: middle;\n",
       "    }\n",
       "\n",
       "    .dataframe tbody tr th {\n",
       "        vertical-align: top;\n",
       "    }\n",
       "\n",
       "    .dataframe thead th {\n",
       "        text-align: right;\n",
       "    }\n",
       "</style>\n",
       "<table border=\"1\" class=\"dataframe\">\n",
       "  <thead>\n",
       "    <tr style=\"text-align: right;\">\n",
       "      <th></th>\n",
       "      <th>value</th>\n",
       "    </tr>\n",
       "  </thead>\n",
       "  <tbody>\n",
       "    <tr>\n",
       "      <th>% missing_values</th>\n",
       "      <td>0.0</td>\n",
       "    </tr>\n",
       "    <tr>\n",
       "      <th>distinct_categories</th>\n",
       "      <td>N/A</td>\n",
       "    </tr>\n",
       "  </tbody>\n",
       "</table>\n",
       "</div>"
      ],
      "text/plain": [
       "                    value\n",
       "% missing_values      0.0\n",
       "distinct_categories   N/A"
      ]
     },
     "execution_count": 46,
     "metadata": {},
     "output_type": "execute_result"
    }
   ],
   "source": [
    "col = 'time_in_hospital'\n",
    "time_in_hospital_info_table = get_info_table(df,col,num_flag = True)\n",
    "time_in_hospital_info_table"
   ]
  },
  {
   "cell_type": "code",
   "execution_count": 47,
   "id": "a12adced-884b-48cb-9027-efbeb12205e0",
   "metadata": {},
   "outputs": [
    {
     "data": {
      "text/html": [
       "<div>\n",
       "<style scoped>\n",
       "    .dataframe tbody tr th:only-of-type {\n",
       "        vertical-align: middle;\n",
       "    }\n",
       "\n",
       "    .dataframe tbody tr th {\n",
       "        vertical-align: top;\n",
       "    }\n",
       "\n",
       "    .dataframe thead th {\n",
       "        text-align: right;\n",
       "    }\n",
       "</style>\n",
       "<table border=\"1\" class=\"dataframe\">\n",
       "  <thead>\n",
       "    <tr style=\"text-align: right;\">\n",
       "      <th></th>\n",
       "      <th>count</th>\n",
       "      <th>percentage</th>\n",
       "    </tr>\n",
       "    <tr>\n",
       "      <th>time_in_hospital</th>\n",
       "      <th></th>\n",
       "      <th></th>\n",
       "    </tr>\n",
       "  </thead>\n",
       "  <tbody>\n",
       "    <tr>\n",
       "      <th>3</th>\n",
       "      <td>17756</td>\n",
       "      <td>17.45</td>\n",
       "    </tr>\n",
       "    <tr>\n",
       "      <th>2</th>\n",
       "      <td>17224</td>\n",
       "      <td>16.93</td>\n",
       "    </tr>\n",
       "    <tr>\n",
       "      <th>1</th>\n",
       "      <td>14208</td>\n",
       "      <td>13.96</td>\n",
       "    </tr>\n",
       "    <tr>\n",
       "      <th>4</th>\n",
       "      <td>13924</td>\n",
       "      <td>13.68</td>\n",
       "    </tr>\n",
       "    <tr>\n",
       "      <th>5</th>\n",
       "      <td>9966</td>\n",
       "      <td>9.79</td>\n",
       "    </tr>\n",
       "    <tr>\n",
       "      <th>6</th>\n",
       "      <td>7539</td>\n",
       "      <td>7.41</td>\n",
       "    </tr>\n",
       "    <tr>\n",
       "      <th>7</th>\n",
       "      <td>5859</td>\n",
       "      <td>5.76</td>\n",
       "    </tr>\n",
       "    <tr>\n",
       "      <th>8</th>\n",
       "      <td>4391</td>\n",
       "      <td>4.31</td>\n",
       "    </tr>\n",
       "    <tr>\n",
       "      <th>9</th>\n",
       "      <td>3002</td>\n",
       "      <td>2.95</td>\n",
       "    </tr>\n",
       "    <tr>\n",
       "      <th>10</th>\n",
       "      <td>2342</td>\n",
       "      <td>2.30</td>\n",
       "    </tr>\n",
       "    <tr>\n",
       "      <th>11</th>\n",
       "      <td>1855</td>\n",
       "      <td>1.82</td>\n",
       "    </tr>\n",
       "    <tr>\n",
       "      <th>12</th>\n",
       "      <td>1448</td>\n",
       "      <td>1.42</td>\n",
       "    </tr>\n",
       "    <tr>\n",
       "      <th>13</th>\n",
       "      <td>1210</td>\n",
       "      <td>1.19</td>\n",
       "    </tr>\n",
       "    <tr>\n",
       "      <th>14</th>\n",
       "      <td>1042</td>\n",
       "      <td>1.02</td>\n",
       "    </tr>\n",
       "  </tbody>\n",
       "</table>\n",
       "</div>"
      ],
      "text/plain": [
       "                  count  percentage\n",
       "time_in_hospital                   \n",
       "3                 17756       17.45\n",
       "2                 17224       16.93\n",
       "1                 14208       13.96\n",
       "4                 13924       13.68\n",
       "5                  9966        9.79\n",
       "6                  7539        7.41\n",
       "7                  5859        5.76\n",
       "8                  4391        4.31\n",
       "9                  3002        2.95\n",
       "10                 2342        2.30\n",
       "11                 1855        1.82\n",
       "12                 1448        1.42\n",
       "13                 1210        1.19\n",
       "14                 1042        1.02"
      ]
     },
     "execution_count": 47,
     "metadata": {},
     "output_type": "execute_result"
    }
   ],
   "source": [
    "time_in_hospital_count_table = get_count_table(df,id_col,col)\n",
    "time_in_hospital_count_table"
   ]
  },
  {
   "cell_type": "code",
   "execution_count": 48,
   "id": "52e6f6ac-8497-4d14-a985-9e37084dfb7b",
   "metadata": {},
   "outputs": [
    {
     "data": {
      "image/png": "[encoded data removed]",
      "text/plain": [
       "<Figure size 432x288 with 1 Axes>"
      ]
     },
     "metadata": {
      "needs_background": "light"
     },
     "output_type": "display_data"
    }
   ],
   "source": [
    "plot_chart(time_in_hospital_count_table,'time_in_hospital',True)"
   ]
  },
  {
   "cell_type": "code",
   "execution_count": 49,
   "id": "88860890-b2bf-4fbc-997e-faf0d649153b",
   "metadata": {},
   "outputs": [
    {
     "data": {
      "text/plain": [
       "count    101766.000000\n",
       "mean          4.395987\n",
       "std           2.985108\n",
       "min           1.000000\n",
       "25%           2.000000\n",
       "50%           4.000000\n",
       "75%           6.000000\n",
       "max          14.000000\n",
       "Name: time_in_hospital, dtype: float64"
      ]
     },
     "execution_count": 49,
     "metadata": {},
     "output_type": "execute_result"
    }
   ],
   "source": [
    "df[col].describe()"
   ]
  },
  {
   "cell_type": "code",
   "execution_count": 50,
   "id": "7f665ac8-49a1-4a4b-a4cc-fb717b805327",
   "metadata": {},
   "outputs": [
    {
     "data": {
      "image/png": "[encoded data removed]",
      "text/plain": [
       "<Figure size 432x288 with 1 Axes>"
      ]
     },
     "metadata": {
      "needs_background": "light"
     },
     "output_type": "display_data"
    }
   ],
   "source": [
    "plot_boxplot(df,col)"
   ]
  },
  {
   "cell_type": "markdown",
   "id": "23c6df3b-751d-46aa-9d9a-3e9b7c2393cb",
   "metadata": {},
   "source": [
    "In this case the time_in_hospital is a discrete variable. in general most of the people tend to be at the hospital shorts periods of time. Analyzing the boxplots we can see that the median of the NO category is lower than the other categories, it migh suggest that the people that stay longer periods of time are more likely to be readmitted."
   ]
  },
  {
   "cell_type": "markdown",
   "id": "4b6de9fe-b59a-43ac-8665-e5d20ac1227f",
   "metadata": {},
   "source": [
    "**payer_code**"
   ]
  },
  {
   "cell_type": "code",
   "execution_count": 51,
   "id": "dbb26573-9a47-4f33-9142-d09d7303275c",
   "metadata": {},
   "outputs": [
    {
     "data": {
      "text/html": [
       "<div>\n",
       "<style scoped>\n",
       "    .dataframe tbody tr th:only-of-type {\n",
       "        vertical-align: middle;\n",
       "    }\n",
       "\n",
       "    .dataframe tbody tr th {\n",
       "        vertical-align: top;\n",
       "    }\n",
       "\n",
       "    .dataframe thead th {\n",
       "        text-align: right;\n",
       "    }\n",
       "</style>\n",
       "<table border=\"1\" class=\"dataframe\">\n",
       "  <thead>\n",
       "    <tr style=\"text-align: right;\">\n",
       "      <th></th>\n",
       "      <th>value</th>\n",
       "    </tr>\n",
       "  </thead>\n",
       "  <tbody>\n",
       "    <tr>\n",
       "      <th>% missing_values</th>\n",
       "      <td>39.56</td>\n",
       "    </tr>\n",
       "    <tr>\n",
       "      <th>distinct_categories</th>\n",
       "      <td>17</td>\n",
       "    </tr>\n",
       "  </tbody>\n",
       "</table>\n",
       "</div>"
      ],
      "text/plain": [
       "                     value\n",
       "% missing_values     39.56\n",
       "distinct_categories     17"
      ]
     },
     "execution_count": 51,
     "metadata": {},
     "output_type": "execute_result"
    }
   ],
   "source": [
    "col = 'payer_code'\n",
    "payer_code_id_info_table = get_info_table(df,col)\n",
    "payer_code_id_info_table"
   ]
  },
  {
   "cell_type": "markdown",
   "id": "0d2c95e0-70db-4be2-84ba-760141bfdb4e",
   "metadata": {},
   "source": [
    "payer code is a variable with a high percentage of missing values, therefore it will not be analyze because we will drop it in the data processing process"
   ]
  },
  {
   "cell_type": "markdown",
   "id": "78c3f705-3f01-4e23-b010-1bd691f1b171",
   "metadata": {},
   "source": [
    "**medical_specialty**\n"
   ]
  },
  {
   "cell_type": "code",
   "execution_count": 52,
   "id": "18c0159a-38fe-4e16-b98e-eee68794a3c5",
   "metadata": {},
   "outputs": [
    {
     "data": {
      "text/html": [
       "<div>\n",
       "<style scoped>\n",
       "    .dataframe tbody tr th:only-of-type {\n",
       "        vertical-align: middle;\n",
       "    }\n",
       "\n",
       "    .dataframe tbody tr th {\n",
       "        vertical-align: top;\n",
       "    }\n",
       "\n",
       "    .dataframe thead th {\n",
       "        text-align: right;\n",
       "    }\n",
       "</style>\n",
       "<table border=\"1\" class=\"dataframe\">\n",
       "  <thead>\n",
       "    <tr style=\"text-align: right;\">\n",
       "      <th></th>\n",
       "      <th>value</th>\n",
       "    </tr>\n",
       "  </thead>\n",
       "  <tbody>\n",
       "    <tr>\n",
       "      <th>% missing_values</th>\n",
       "      <td>49.08</td>\n",
       "    </tr>\n",
       "    <tr>\n",
       "      <th>distinct_categories</th>\n",
       "      <td>72</td>\n",
       "    </tr>\n",
       "  </tbody>\n",
       "</table>\n",
       "</div>"
      ],
      "text/plain": [
       "                     value\n",
       "% missing_values     49.08\n",
       "distinct_categories     72"
      ]
     },
     "execution_count": 52,
     "metadata": {},
     "output_type": "execute_result"
    }
   ],
   "source": [
    "col = 'medical_specialty'\n",
    "payer_code_id_info_table = get_info_table(df,col)\n",
    "payer_code_id_info_table"
   ]
  },
  {
   "cell_type": "markdown",
   "id": "9982f438-153c-4473-ad38-953f58629096",
   "metadata": {},
   "source": [
    "medical_specialty is a variable with a high percentage of missing values, therefore it will not be analyze because we will drop it in the data processing process."
   ]
  },
  {
   "cell_type": "markdown",
   "id": "f6fe7c3a-6274-4c96-8530-262470703067",
   "metadata": {},
   "source": [
    "**num_lab_procedures**"
   ]
  },
  {
   "cell_type": "code",
   "execution_count": 53,
   "id": "53577ebc-4e59-48e4-9311-a5b269f88204",
   "metadata": {},
   "outputs": [
    {
     "data": {
      "text/html": [
       "<div>\n",
       "<style scoped>\n",
       "    .dataframe tbody tr th:only-of-type {\n",
       "        vertical-align: middle;\n",
       "    }\n",
       "\n",
       "    .dataframe tbody tr th {\n",
       "        vertical-align: top;\n",
       "    }\n",
       "\n",
       "    .dataframe thead th {\n",
       "        text-align: right;\n",
       "    }\n",
       "</style>\n",
       "<table border=\"1\" class=\"dataframe\">\n",
       "  <thead>\n",
       "    <tr style=\"text-align: right;\">\n",
       "      <th></th>\n",
       "      <th>value</th>\n",
       "    </tr>\n",
       "  </thead>\n",
       "  <tbody>\n",
       "    <tr>\n",
       "      <th>% missing_values</th>\n",
       "      <td>0.0</td>\n",
       "    </tr>\n",
       "    <tr>\n",
       "      <th>distinct_categories</th>\n",
       "      <td>N/A</td>\n",
       "    </tr>\n",
       "  </tbody>\n",
       "</table>\n",
       "</div>"
      ],
      "text/plain": [
       "                    value\n",
       "% missing_values      0.0\n",
       "distinct_categories   N/A"
      ]
     },
     "execution_count": 53,
     "metadata": {},
     "output_type": "execute_result"
    }
   ],
   "source": [
    "col = 'num_lab_procedures'\n",
    "num_lab_procedures_info_table = get_info_table(df,col,num_flag = True)\n",
    "num_lab_procedures_info_table"
   ]
  },
  {
   "cell_type": "code",
   "execution_count": 54,
   "id": "cb0ffd2f-3d86-4e42-9639-b59336261642",
   "metadata": {},
   "outputs": [
    {
     "data": {
      "text/html": [
       "<div>\n",
       "<style scoped>\n",
       "    .dataframe tbody tr th:only-of-type {\n",
       "        vertical-align: middle;\n",
       "    }\n",
       "\n",
       "    .dataframe tbody tr th {\n",
       "        vertical-align: top;\n",
       "    }\n",
       "\n",
       "    .dataframe thead th {\n",
       "        text-align: right;\n",
       "    }\n",
       "</style>\n",
       "<table border=\"1\" class=\"dataframe\">\n",
       "  <thead>\n",
       "    <tr style=\"text-align: right;\">\n",
       "      <th></th>\n",
       "      <th>count</th>\n",
       "      <th>percentage</th>\n",
       "    </tr>\n",
       "    <tr>\n",
       "      <th>num_lab_procedures</th>\n",
       "      <th></th>\n",
       "      <th></th>\n",
       "    </tr>\n",
       "  </thead>\n",
       "  <tbody>\n",
       "    <tr>\n",
       "      <th>1</th>\n",
       "      <td>3208</td>\n",
       "      <td>3.15</td>\n",
       "    </tr>\n",
       "    <tr>\n",
       "      <th>43</th>\n",
       "      <td>2804</td>\n",
       "      <td>2.76</td>\n",
       "    </tr>\n",
       "    <tr>\n",
       "      <th>44</th>\n",
       "      <td>2496</td>\n",
       "      <td>2.45</td>\n",
       "    </tr>\n",
       "    <tr>\n",
       "      <th>45</th>\n",
       "      <td>2376</td>\n",
       "      <td>2.33</td>\n",
       "    </tr>\n",
       "    <tr>\n",
       "      <th>38</th>\n",
       "      <td>2213</td>\n",
       "      <td>2.17</td>\n",
       "    </tr>\n",
       "    <tr>\n",
       "      <th>...</th>\n",
       "      <td>...</td>\n",
       "      <td>...</td>\n",
       "    </tr>\n",
       "    <tr>\n",
       "      <th>120</th>\n",
       "      <td>1</td>\n",
       "      <td>0.00</td>\n",
       "    </tr>\n",
       "    <tr>\n",
       "      <th>121</th>\n",
       "      <td>1</td>\n",
       "      <td>0.00</td>\n",
       "    </tr>\n",
       "    <tr>\n",
       "      <th>126</th>\n",
       "      <td>1</td>\n",
       "      <td>0.00</td>\n",
       "    </tr>\n",
       "    <tr>\n",
       "      <th>129</th>\n",
       "      <td>1</td>\n",
       "      <td>0.00</td>\n",
       "    </tr>\n",
       "    <tr>\n",
       "      <th>132</th>\n",
       "      <td>1</td>\n",
       "      <td>0.00</td>\n",
       "    </tr>\n",
       "  </tbody>\n",
       "</table>\n",
       "<p>118 rows × 2 columns</p>\n",
       "</div>"
      ],
      "text/plain": [
       "                    count  percentage\n",
       "num_lab_procedures                   \n",
       "1                    3208        3.15\n",
       "43                   2804        2.76\n",
       "44                   2496        2.45\n",
       "45                   2376        2.33\n",
       "38                   2213        2.17\n",
       "...                   ...         ...\n",
       "120                     1        0.00\n",
       "121                     1        0.00\n",
       "126                     1        0.00\n",
       "129                     1        0.00\n",
       "132                     1        0.00\n",
       "\n",
       "[118 rows x 2 columns]"
      ]
     },
     "execution_count": 54,
     "metadata": {},
     "output_type": "execute_result"
    }
   ],
   "source": [
    "num_lab_procedures_count_table = get_count_table(df,id_col,col)\n",
    "num_lab_procedures_count_table"
   ]
  },
  {
   "cell_type": "code",
   "execution_count": 55,
   "id": "ad6c38f9-32eb-4c71-a675-4f49f5dff3c6",
   "metadata": {},
   "outputs": [
    {
     "data": {
      "image/png": "[encoded data removed]",
      "text/plain": [
       "<Figure size 432x288 with 1 Axes>"
      ]
     },
     "metadata": {
      "needs_background": "light"
     },
     "output_type": "display_data"
    }
   ],
   "source": [
    "plot_chart(time_in_hospital_count_table,'num_lab_procedures',True)"
   ]
  },
  {
   "cell_type": "code",
   "execution_count": 56,
   "id": "2644b3c7-9432-4c4a-a98e-d1e0f7e6c7a4",
   "metadata": {},
   "outputs": [
    {
     "data": {
      "text/plain": [
       "count    101766.000000\n",
       "mean         43.095641\n",
       "std          19.674362\n",
       "min           1.000000\n",
       "25%          31.000000\n",
       "50%          44.000000\n",
       "75%          57.000000\n",
       "max         132.000000\n",
       "Name: num_lab_procedures, dtype: float64"
      ]
     },
     "execution_count": 56,
     "metadata": {},
     "output_type": "execute_result"
    }
   ],
   "source": [
    "df[col].describe()"
   ]
  },
  {
   "cell_type": "code",
   "execution_count": 57,
   "id": "cf8c787d-17dc-4498-be96-49cd0caf2d32",
   "metadata": {},
   "outputs": [
    {
     "data": {
      "image/png": "[encoded data removed]",
      "text/plain": [
       "<Figure size 432x288 with 1 Axes>"
      ]
     },
     "metadata": {
      "needs_background": "light"
     },
     "output_type": "display_data"
    }
   ],
   "source": [
    "plot_boxplot(df,col)"
   ]
  },
  {
   "cell_type": "markdown",
   "id": "db7598f8-88f3-41a8-bab4-3b3719897396",
   "metadata": {},
   "source": [
    "the variable num_lab_procedures has a right-skewed distribution. when we look closer the boxplot, it does not show any visible insight. because the distribution of the data seems very similar for all te categories. we can observe that there is a considerable amount of outliers. There are no missing values."
   ]
  },
  {
   "cell_type": "markdown",
   "id": "83e466bb-5abe-4c88-a995-7a09e164406e",
   "metadata": {},
   "source": [
    "**num_procedures**"
   ]
  },
  {
   "cell_type": "code",
   "execution_count": 58,
   "id": "0c79beb2-b2f2-4595-a53c-200e7e399b84",
   "metadata": {},
   "outputs": [
    {
     "data": {
      "text/html": [
       "<div>\n",
       "<style scoped>\n",
       "    .dataframe tbody tr th:only-of-type {\n",
       "        vertical-align: middle;\n",
       "    }\n",
       "\n",
       "    .dataframe tbody tr th {\n",
       "        vertical-align: top;\n",
       "    }\n",
       "\n",
       "    .dataframe thead th {\n",
       "        text-align: right;\n",
       "    }\n",
       "</style>\n",
       "<table border=\"1\" class=\"dataframe\">\n",
       "  <thead>\n",
       "    <tr style=\"text-align: right;\">\n",
       "      <th></th>\n",
       "      <th>value</th>\n",
       "    </tr>\n",
       "  </thead>\n",
       "  <tbody>\n",
       "    <tr>\n",
       "      <th>% missing_values</th>\n",
       "      <td>0.0</td>\n",
       "    </tr>\n",
       "    <tr>\n",
       "      <th>distinct_categories</th>\n",
       "      <td>N/A</td>\n",
       "    </tr>\n",
       "  </tbody>\n",
       "</table>\n",
       "</div>"
      ],
      "text/plain": [
       "                    value\n",
       "% missing_values      0.0\n",
       "distinct_categories   N/A"
      ]
     },
     "execution_count": 58,
     "metadata": {},
     "output_type": "execute_result"
    }
   ],
   "source": [
    "col = 'num_procedures'\n",
    "num_procedures_info_table = get_info_table(df,col,num_flag = True)\n",
    "num_procedures_info_table"
   ]
  },
  {
   "cell_type": "code",
   "execution_count": 59,
   "id": "c42261ac-10ae-4e56-8e2a-40dd6f72b9e6",
   "metadata": {},
   "outputs": [
    {
     "data": {
      "text/html": [
       "<div>\n",
       "<style scoped>\n",
       "    .dataframe tbody tr th:only-of-type {\n",
       "        vertical-align: middle;\n",
       "    }\n",
       "\n",
       "    .dataframe tbody tr th {\n",
       "        vertical-align: top;\n",
       "    }\n",
       "\n",
       "    .dataframe thead th {\n",
       "        text-align: right;\n",
       "    }\n",
       "</style>\n",
       "<table border=\"1\" class=\"dataframe\">\n",
       "  <thead>\n",
       "    <tr style=\"text-align: right;\">\n",
       "      <th></th>\n",
       "      <th>count</th>\n",
       "      <th>percentage</th>\n",
       "    </tr>\n",
       "    <tr>\n",
       "      <th>num_procedures</th>\n",
       "      <th></th>\n",
       "      <th></th>\n",
       "    </tr>\n",
       "  </thead>\n",
       "  <tbody>\n",
       "    <tr>\n",
       "      <th>0</th>\n",
       "      <td>46652</td>\n",
       "      <td>45.84</td>\n",
       "    </tr>\n",
       "    <tr>\n",
       "      <th>1</th>\n",
       "      <td>20742</td>\n",
       "      <td>20.38</td>\n",
       "    </tr>\n",
       "    <tr>\n",
       "      <th>2</th>\n",
       "      <td>12717</td>\n",
       "      <td>12.50</td>\n",
       "    </tr>\n",
       "    <tr>\n",
       "      <th>3</th>\n",
       "      <td>9443</td>\n",
       "      <td>9.28</td>\n",
       "    </tr>\n",
       "    <tr>\n",
       "      <th>6</th>\n",
       "      <td>4954</td>\n",
       "      <td>4.87</td>\n",
       "    </tr>\n",
       "    <tr>\n",
       "      <th>4</th>\n",
       "      <td>4180</td>\n",
       "      <td>4.11</td>\n",
       "    </tr>\n",
       "    <tr>\n",
       "      <th>5</th>\n",
       "      <td>3078</td>\n",
       "      <td>3.02</td>\n",
       "    </tr>\n",
       "  </tbody>\n",
       "</table>\n",
       "</div>"
      ],
      "text/plain": [
       "                count  percentage\n",
       "num_procedures                   \n",
       "0               46652       45.84\n",
       "1               20742       20.38\n",
       "2               12717       12.50\n",
       "3                9443        9.28\n",
       "6                4954        4.87\n",
       "4                4180        4.11\n",
       "5                3078        3.02"
      ]
     },
     "execution_count": 59,
     "metadata": {},
     "output_type": "execute_result"
    }
   ],
   "source": [
    "num_procedures_count_table = get_count_table(df,id_col,col)\n",
    "num_procedures_count_table"
   ]
  },
  {
   "cell_type": "code",
   "execution_count": 60,
   "id": "59689e77-eeb9-4ca5-ae27-626605f5bdd1",
   "metadata": {},
   "outputs": [
    {
     "data": {
      "image/png": "[encoded data removed]",
      "text/plain": [
       "<Figure size 432x288 with 1 Axes>"
      ]
     },
     "metadata": {
      "needs_background": "light"
     },
     "output_type": "display_data"
    }
   ],
   "source": [
    "plot_chart(time_in_hospital_count_table,'num_procedures',True)"
   ]
  },
  {
   "cell_type": "code",
   "execution_count": 61,
   "id": "b6ba754c-2c08-49ca-ba51-7ddbce573501",
   "metadata": {},
   "outputs": [
    {
     "data": {
      "text/plain": [
       "count    101766.000000\n",
       "mean          1.339730\n",
       "std           1.705807\n",
       "min           0.000000\n",
       "25%           0.000000\n",
       "50%           1.000000\n",
       "75%           2.000000\n",
       "max           6.000000\n",
       "Name: num_procedures, dtype: float64"
      ]
     },
     "execution_count": 61,
     "metadata": {},
     "output_type": "execute_result"
    }
   ],
   "source": [
    "df[col].describe()"
   ]
  },
  {
   "cell_type": "code",
   "execution_count": 62,
   "id": "afb3ab19-d8d6-4e9c-b037-bf61d9fbf707",
   "metadata": {},
   "outputs": [
    {
     "data": {
      "image/png": "[encoded data removed]",
      "text/plain": [
       "<Figure size 432x288 with 1 Axes>"
      ]
     },
     "metadata": {
      "needs_background": "light"
     },
     "output_type": "display_data"
    }
   ],
   "source": [
    "plot_boxplot(df,col)"
   ]
  },
  {
   "cell_type": "markdown",
   "id": "4277b42b-4148-4772-ab19-9be08dd4cb8c",
   "metadata": {},
   "source": [
    "the variable num_procedures has a right-skewed distribution. when we look closer the boxplot, it does not show any visible insight, because the distribution of the data seems very similar for all te categories.There are no missing values."
   ]
  },
  {
   "cell_type": "markdown",
   "id": "4b950158-03a5-4619-82cb-d59556cb674f",
   "metadata": {},
   "source": [
    "**num_medications**"
   ]
  },
  {
   "cell_type": "code",
   "execution_count": 63,
   "id": "a2f91f09-f9e6-4eed-9871-f51570931335",
   "metadata": {},
   "outputs": [
    {
     "data": {
      "text/html": [
       "<div>\n",
       "<style scoped>\n",
       "    .dataframe tbody tr th:only-of-type {\n",
       "        vertical-align: middle;\n",
       "    }\n",
       "\n",
       "    .dataframe tbody tr th {\n",
       "        vertical-align: top;\n",
       "    }\n",
       "\n",
       "    .dataframe thead th {\n",
       "        text-align: right;\n",
       "    }\n",
       "</style>\n",
       "<table border=\"1\" class=\"dataframe\">\n",
       "  <thead>\n",
       "    <tr style=\"text-align: right;\">\n",
       "      <th></th>\n",
       "      <th>value</th>\n",
       "    </tr>\n",
       "  </thead>\n",
       "  <tbody>\n",
       "    <tr>\n",
       "      <th>% missing_values</th>\n",
       "      <td>0.0</td>\n",
       "    </tr>\n",
       "    <tr>\n",
       "      <th>distinct_categories</th>\n",
       "      <td>N/A</td>\n",
       "    </tr>\n",
       "  </tbody>\n",
       "</table>\n",
       "</div>"
      ],
      "text/plain": [
       "                    value\n",
       "% missing_values      0.0\n",
       "distinct_categories   N/A"
      ]
     },
     "execution_count": 63,
     "metadata": {},
     "output_type": "execute_result"
    }
   ],
   "source": [
    "col = 'num_medications'\n",
    "num_medications_info_table = get_info_table(df,col,num_flag = True)\n",
    "num_medications_info_table"
   ]
  },
  {
   "cell_type": "code",
   "execution_count": 64,
   "id": "defdb587-f837-483b-b3d8-3ced7a3ebec9",
   "metadata": {},
   "outputs": [
    {
     "data": {
      "text/html": [
       "<div>\n",
       "<style scoped>\n",
       "    .dataframe tbody tr th:only-of-type {\n",
       "        vertical-align: middle;\n",
       "    }\n",
       "\n",
       "    .dataframe tbody tr th {\n",
       "        vertical-align: top;\n",
       "    }\n",
       "\n",
       "    .dataframe thead th {\n",
       "        text-align: right;\n",
       "    }\n",
       "</style>\n",
       "<table border=\"1\" class=\"dataframe\">\n",
       "  <thead>\n",
       "    <tr style=\"text-align: right;\">\n",
       "      <th></th>\n",
       "      <th>count</th>\n",
       "      <th>percentage</th>\n",
       "    </tr>\n",
       "    <tr>\n",
       "      <th>num_medications</th>\n",
       "      <th></th>\n",
       "      <th></th>\n",
       "    </tr>\n",
       "  </thead>\n",
       "  <tbody>\n",
       "    <tr>\n",
       "      <th>13</th>\n",
       "      <td>6086</td>\n",
       "      <td>5.98</td>\n",
       "    </tr>\n",
       "    <tr>\n",
       "      <th>12</th>\n",
       "      <td>6004</td>\n",
       "      <td>5.90</td>\n",
       "    </tr>\n",
       "    <tr>\n",
       "      <th>11</th>\n",
       "      <td>5795</td>\n",
       "      <td>5.69</td>\n",
       "    </tr>\n",
       "    <tr>\n",
       "      <th>15</th>\n",
       "      <td>5792</td>\n",
       "      <td>5.69</td>\n",
       "    </tr>\n",
       "    <tr>\n",
       "      <th>14</th>\n",
       "      <td>5707</td>\n",
       "      <td>5.61</td>\n",
       "    </tr>\n",
       "    <tr>\n",
       "      <th>...</th>\n",
       "      <td>...</td>\n",
       "      <td>...</td>\n",
       "    </tr>\n",
       "    <tr>\n",
       "      <th>70</th>\n",
       "      <td>2</td>\n",
       "      <td>0.00</td>\n",
       "    </tr>\n",
       "    <tr>\n",
       "      <th>75</th>\n",
       "      <td>2</td>\n",
       "      <td>0.00</td>\n",
       "    </tr>\n",
       "    <tr>\n",
       "      <th>74</th>\n",
       "      <td>1</td>\n",
       "      <td>0.00</td>\n",
       "    </tr>\n",
       "    <tr>\n",
       "      <th>79</th>\n",
       "      <td>1</td>\n",
       "      <td>0.00</td>\n",
       "    </tr>\n",
       "    <tr>\n",
       "      <th>81</th>\n",
       "      <td>1</td>\n",
       "      <td>0.00</td>\n",
       "    </tr>\n",
       "  </tbody>\n",
       "</table>\n",
       "<p>75 rows × 2 columns</p>\n",
       "</div>"
      ],
      "text/plain": [
       "                 count  percentage\n",
       "num_medications                   \n",
       "13                6086        5.98\n",
       "12                6004        5.90\n",
       "11                5795        5.69\n",
       "15                5792        5.69\n",
       "14                5707        5.61\n",
       "...                ...         ...\n",
       "70                   2        0.00\n",
       "75                   2        0.00\n",
       "74                   1        0.00\n",
       "79                   1        0.00\n",
       "81                   1        0.00\n",
       "\n",
       "[75 rows x 2 columns]"
      ]
     },
     "execution_count": 64,
     "metadata": {},
     "output_type": "execute_result"
    }
   ],
   "source": [
    "num_medications_count_table = get_count_table(df,id_col,col)\n",
    "num_medications_count_table"
   ]
  },
  {
   "cell_type": "code",
   "execution_count": 65,
   "id": "edf6e480-7643-4211-b02e-09ac53038abe",
   "metadata": {},
   "outputs": [
    {
     "data": {
      "image/png": "[encoded data removed]",
      "text/plain": [
       "<Figure size 432x288 with 1 Axes>"
      ]
     },
     "metadata": {
      "needs_background": "light"
     },
     "output_type": "display_data"
    }
   ],
   "source": [
    "plot_chart(num_medications_count_table,'num_medications',True)"
   ]
  },
  {
   "cell_type": "code",
   "execution_count": 66,
   "id": "d5db6b10-7970-43c1-b1cc-0bab2a3057f1",
   "metadata": {},
   "outputs": [
    {
     "data": {
      "text/plain": [
       "count    101766.000000\n",
       "mean         16.021844\n",
       "std           8.127566\n",
       "min           1.000000\n",
       "25%          10.000000\n",
       "50%          15.000000\n",
       "75%          20.000000\n",
       "max          81.000000\n",
       "Name: num_medications, dtype: float64"
      ]
     },
     "execution_count": 66,
     "metadata": {},
     "output_type": "execute_result"
    }
   ],
   "source": [
    "df[col].describe()"
   ]
  },
  {
   "cell_type": "code",
   "execution_count": 67,
   "id": "230f4ce7-5d66-4e15-976e-40d3ce768b6f",
   "metadata": {},
   "outputs": [
    {
     "data": {
      "image/png": "[encoded data removed]",
      "text/plain": [
       "<Figure size 432x288 with 1 Axes>"
      ]
     },
     "metadata": {
      "needs_background": "light"
     },
     "output_type": "display_data"
    }
   ],
   "source": [
    "plot_boxplot(df,col)"
   ]
  },
  {
   "cell_type": "markdown",
   "id": "0c7fe095-d287-438f-835e-c0ebe80f044f",
   "metadata": {},
   "source": [
    "the variable num_medications has a right-skewed distribution. Analyzing the boxplot we can observe a slight difference in the distribution of the NO category, where the median and the 75% percentile are a lit bit lower than the other categories. This field has a lot of outliers values. There are no missing values."
   ]
  },
  {
   "cell_type": "markdown",
   "id": "563802c3-644a-46f7-a826-000e79efa48e",
   "metadata": {},
   "source": [
    "**number_outpatient**"
   ]
  },
  {
   "cell_type": "code",
   "execution_count": 68,
   "id": "dc998b60-cf23-41e4-afd0-3abfdf9d44c8",
   "metadata": {},
   "outputs": [
    {
     "data": {
      "text/html": [
       "<div>\n",
       "<style scoped>\n",
       "    .dataframe tbody tr th:only-of-type {\n",
       "        vertical-align: middle;\n",
       "    }\n",
       "\n",
       "    .dataframe tbody tr th {\n",
       "        vertical-align: top;\n",
       "    }\n",
       "\n",
       "    .dataframe thead th {\n",
       "        text-align: right;\n",
       "    }\n",
       "</style>\n",
       "<table border=\"1\" class=\"dataframe\">\n",
       "  <thead>\n",
       "    <tr style=\"text-align: right;\">\n",
       "      <th></th>\n",
       "      <th>value</th>\n",
       "    </tr>\n",
       "  </thead>\n",
       "  <tbody>\n",
       "    <tr>\n",
       "      <th>% missing_values</th>\n",
       "      <td>0.0</td>\n",
       "    </tr>\n",
       "    <tr>\n",
       "      <th>distinct_categories</th>\n",
       "      <td>N/A</td>\n",
       "    </tr>\n",
       "  </tbody>\n",
       "</table>\n",
       "</div>"
      ],
      "text/plain": [
       "                    value\n",
       "% missing_values      0.0\n",
       "distinct_categories   N/A"
      ]
     },
     "execution_count": 68,
     "metadata": {},
     "output_type": "execute_result"
    }
   ],
   "source": [
    "col = 'number_outpatient'\n",
    "number_outpatient_info_table = get_info_table(df,col,num_flag = True)\n",
    "number_outpatient_info_table"
   ]
  },
  {
   "cell_type": "code",
   "execution_count": 69,
   "id": "e50871d1-78ae-4602-b11f-9e32e4128c90",
   "metadata": {},
   "outputs": [
    {
     "data": {
      "text/html": [
       "<div>\n",
       "<style scoped>\n",
       "    .dataframe tbody tr th:only-of-type {\n",
       "        vertical-align: middle;\n",
       "    }\n",
       "\n",
       "    .dataframe tbody tr th {\n",
       "        vertical-align: top;\n",
       "    }\n",
       "\n",
       "    .dataframe thead th {\n",
       "        text-align: right;\n",
       "    }\n",
       "</style>\n",
       "<table border=\"1\" class=\"dataframe\">\n",
       "  <thead>\n",
       "    <tr style=\"text-align: right;\">\n",
       "      <th></th>\n",
       "      <th>count</th>\n",
       "      <th>percentage</th>\n",
       "    </tr>\n",
       "    <tr>\n",
       "      <th>number_outpatient</th>\n",
       "      <th></th>\n",
       "      <th></th>\n",
       "    </tr>\n",
       "  </thead>\n",
       "  <tbody>\n",
       "    <tr>\n",
       "      <th>0</th>\n",
       "      <td>85027</td>\n",
       "      <td>83.55</td>\n",
       "    </tr>\n",
       "    <tr>\n",
       "      <th>1</th>\n",
       "      <td>8547</td>\n",
       "      <td>8.40</td>\n",
       "    </tr>\n",
       "    <tr>\n",
       "      <th>2</th>\n",
       "      <td>3594</td>\n",
       "      <td>3.53</td>\n",
       "    </tr>\n",
       "    <tr>\n",
       "      <th>3</th>\n",
       "      <td>2042</td>\n",
       "      <td>2.01</td>\n",
       "    </tr>\n",
       "    <tr>\n",
       "      <th>4</th>\n",
       "      <td>1099</td>\n",
       "      <td>1.08</td>\n",
       "    </tr>\n",
       "    <tr>\n",
       "      <th>5</th>\n",
       "      <td>533</td>\n",
       "      <td>0.52</td>\n",
       "    </tr>\n",
       "    <tr>\n",
       "      <th>6</th>\n",
       "      <td>303</td>\n",
       "      <td>0.30</td>\n",
       "    </tr>\n",
       "    <tr>\n",
       "      <th>7</th>\n",
       "      <td>155</td>\n",
       "      <td>0.15</td>\n",
       "    </tr>\n",
       "    <tr>\n",
       "      <th>8</th>\n",
       "      <td>98</td>\n",
       "      <td>0.10</td>\n",
       "    </tr>\n",
       "    <tr>\n",
       "      <th>9</th>\n",
       "      <td>83</td>\n",
       "      <td>0.08</td>\n",
       "    </tr>\n",
       "    <tr>\n",
       "      <th>10</th>\n",
       "      <td>57</td>\n",
       "      <td>0.06</td>\n",
       "    </tr>\n",
       "    <tr>\n",
       "      <th>11</th>\n",
       "      <td>42</td>\n",
       "      <td>0.04</td>\n",
       "    </tr>\n",
       "    <tr>\n",
       "      <th>13</th>\n",
       "      <td>31</td>\n",
       "      <td>0.03</td>\n",
       "    </tr>\n",
       "    <tr>\n",
       "      <th>12</th>\n",
       "      <td>30</td>\n",
       "      <td>0.03</td>\n",
       "    </tr>\n",
       "    <tr>\n",
       "      <th>14</th>\n",
       "      <td>28</td>\n",
       "      <td>0.03</td>\n",
       "    </tr>\n",
       "    <tr>\n",
       "      <th>15</th>\n",
       "      <td>20</td>\n",
       "      <td>0.02</td>\n",
       "    </tr>\n",
       "    <tr>\n",
       "      <th>16</th>\n",
       "      <td>15</td>\n",
       "      <td>0.01</td>\n",
       "    </tr>\n",
       "    <tr>\n",
       "      <th>17</th>\n",
       "      <td>8</td>\n",
       "      <td>0.01</td>\n",
       "    </tr>\n",
       "    <tr>\n",
       "      <th>20</th>\n",
       "      <td>7</td>\n",
       "      <td>0.01</td>\n",
       "    </tr>\n",
       "    <tr>\n",
       "      <th>21</th>\n",
       "      <td>7</td>\n",
       "      <td>0.01</td>\n",
       "    </tr>\n",
       "    <tr>\n",
       "      <th>18</th>\n",
       "      <td>5</td>\n",
       "      <td>0.00</td>\n",
       "    </tr>\n",
       "    <tr>\n",
       "      <th>22</th>\n",
       "      <td>5</td>\n",
       "      <td>0.00</td>\n",
       "    </tr>\n",
       "    <tr>\n",
       "      <th>24</th>\n",
       "      <td>3</td>\n",
       "      <td>0.00</td>\n",
       "    </tr>\n",
       "    <tr>\n",
       "      <th>27</th>\n",
       "      <td>3</td>\n",
       "      <td>0.00</td>\n",
       "    </tr>\n",
       "    <tr>\n",
       "      <th>19</th>\n",
       "      <td>3</td>\n",
       "      <td>0.00</td>\n",
       "    </tr>\n",
       "    <tr>\n",
       "      <th>25</th>\n",
       "      <td>2</td>\n",
       "      <td>0.00</td>\n",
       "    </tr>\n",
       "    <tr>\n",
       "      <th>26</th>\n",
       "      <td>2</td>\n",
       "      <td>0.00</td>\n",
       "    </tr>\n",
       "    <tr>\n",
       "      <th>23</th>\n",
       "      <td>2</td>\n",
       "      <td>0.00</td>\n",
       "    </tr>\n",
       "    <tr>\n",
       "      <th>29</th>\n",
       "      <td>2</td>\n",
       "      <td>0.00</td>\n",
       "    </tr>\n",
       "    <tr>\n",
       "      <th>33</th>\n",
       "      <td>2</td>\n",
       "      <td>0.00</td>\n",
       "    </tr>\n",
       "    <tr>\n",
       "      <th>35</th>\n",
       "      <td>2</td>\n",
       "      <td>0.00</td>\n",
       "    </tr>\n",
       "    <tr>\n",
       "      <th>36</th>\n",
       "      <td>2</td>\n",
       "      <td>0.00</td>\n",
       "    </tr>\n",
       "    <tr>\n",
       "      <th>28</th>\n",
       "      <td>1</td>\n",
       "      <td>0.00</td>\n",
       "    </tr>\n",
       "    <tr>\n",
       "      <th>34</th>\n",
       "      <td>1</td>\n",
       "      <td>0.00</td>\n",
       "    </tr>\n",
       "    <tr>\n",
       "      <th>37</th>\n",
       "      <td>1</td>\n",
       "      <td>0.00</td>\n",
       "    </tr>\n",
       "    <tr>\n",
       "      <th>38</th>\n",
       "      <td>1</td>\n",
       "      <td>0.00</td>\n",
       "    </tr>\n",
       "    <tr>\n",
       "      <th>39</th>\n",
       "      <td>1</td>\n",
       "      <td>0.00</td>\n",
       "    </tr>\n",
       "    <tr>\n",
       "      <th>40</th>\n",
       "      <td>1</td>\n",
       "      <td>0.00</td>\n",
       "    </tr>\n",
       "    <tr>\n",
       "      <th>42</th>\n",
       "      <td>1</td>\n",
       "      <td>0.00</td>\n",
       "    </tr>\n",
       "  </tbody>\n",
       "</table>\n",
       "</div>"
      ],
      "text/plain": [
       "                   count  percentage\n",
       "number_outpatient                   \n",
       "0                  85027       83.55\n",
       "1                   8547        8.40\n",
       "2                   3594        3.53\n",
       "3                   2042        2.01\n",
       "4                   1099        1.08\n",
       "5                    533        0.52\n",
       "6                    303        0.30\n",
       "7                    155        0.15\n",
       "8                     98        0.10\n",
       "9                     83        0.08\n",
       "10                    57        0.06\n",
       "11                    42        0.04\n",
       "13                    31        0.03\n",
       "12                    30        0.03\n",
       "14                    28        0.03\n",
       "15                    20        0.02\n",
       "16                    15        0.01\n",
       "17                     8        0.01\n",
       "20                     7        0.01\n",
       "21                     7        0.01\n",
       "18                     5        0.00\n",
       "22                     5        0.00\n",
       "24                     3        0.00\n",
       "27                     3        0.00\n",
       "19                     3        0.00\n",
       "25                     2        0.00\n",
       "26                     2        0.00\n",
       "23                     2        0.00\n",
       "29                     2        0.00\n",
       "33                     2        0.00\n",
       "35                     2        0.00\n",
       "36                     2        0.00\n",
       "28                     1        0.00\n",
       "34                     1        0.00\n",
       "37                     1        0.00\n",
       "38                     1        0.00\n",
       "39                     1        0.00\n",
       "40                     1        0.00\n",
       "42                     1        0.00"
      ]
     },
     "execution_count": 69,
     "metadata": {},
     "output_type": "execute_result"
    }
   ],
   "source": [
    "number_outpatient_count_table = get_count_table(df,id_col,col)\n",
    "number_outpatient_count_table"
   ]
  },
  {
   "cell_type": "code",
   "execution_count": 70,
   "id": "2356adfb-5d64-40d7-92cf-c51567769022",
   "metadata": {},
   "outputs": [
    {
     "data": {
      "image/png": "[encoded data removed]",
      "text/plain": [
       "<Figure size 432x288 with 1 Axes>"
      ]
     },
     "metadata": {
      "needs_background": "light"
     },
     "output_type": "display_data"
    }
   ],
   "source": [
    "plot_chart(number_outpatient_count_table,'number_outpatient',True)"
   ]
  },
  {
   "cell_type": "code",
   "execution_count": 71,
   "id": "9068a69d-1bab-46e4-a8d7-dac82d1eec72",
   "metadata": {},
   "outputs": [
    {
     "data": {
      "text/plain": [
       "count    101766.000000\n",
       "mean          0.369357\n",
       "std           1.267265\n",
       "min           0.000000\n",
       "25%           0.000000\n",
       "50%           0.000000\n",
       "75%           0.000000\n",
       "max          42.000000\n",
       "Name: number_outpatient, dtype: float64"
      ]
     },
     "execution_count": 71,
     "metadata": {},
     "output_type": "execute_result"
    }
   ],
   "source": [
    "df[col].describe()"
   ]
  },
  {
   "cell_type": "code",
   "execution_count": 72,
   "id": "f19b825a-15ff-47be-9e9d-8ca0e341dcd8",
   "metadata": {},
   "outputs": [
    {
     "data": {
      "image/png": "[encoded data removed]",
      "text/plain": [
       "<Figure size 432x288 with 1 Axes>"
      ]
     },
     "metadata": {
      "needs_background": "light"
     },
     "output_type": "display_data"
    }
   ],
   "source": [
    "plot_boxplot(df,col)"
   ]
  },
  {
   "cell_type": "markdown",
   "id": "4859fbb1-bf72-4fa8-bada-a17754bc8ccc",
   "metadata": {},
   "source": [
    "the variable num_outpatient has a high right-skewed distribution. Analyzing the boxplot we can observe that the boxplot bodies are very small, and there are a lot of outliers. However it is not clear if exists any valuable information.  There are no missing values."
   ]
  },
  {
   "cell_type": "markdown",
   "id": "929c383f-d232-4f65-8422-99ce20280a91",
   "metadata": {},
   "source": [
    "**number_emergency**"
   ]
  },
  {
   "cell_type": "code",
   "execution_count": 73,
   "id": "5132e47b-90ae-4098-b0e0-dcd542fe6fa0",
   "metadata": {},
   "outputs": [
    {
     "data": {
      "text/html": [
       "<div>\n",
       "<style scoped>\n",
       "    .dataframe tbody tr th:only-of-type {\n",
       "        vertical-align: middle;\n",
       "    }\n",
       "\n",
       "    .dataframe tbody tr th {\n",
       "        vertical-align: top;\n",
       "    }\n",
       "\n",
       "    .dataframe thead th {\n",
       "        text-align: right;\n",
       "    }\n",
       "</style>\n",
       "<table border=\"1\" class=\"dataframe\">\n",
       "  <thead>\n",
       "    <tr style=\"text-align: right;\">\n",
       "      <th></th>\n",
       "      <th>value</th>\n",
       "    </tr>\n",
       "  </thead>\n",
       "  <tbody>\n",
       "    <tr>\n",
       "      <th>% missing_values</th>\n",
       "      <td>0.0</td>\n",
       "    </tr>\n",
       "    <tr>\n",
       "      <th>distinct_categories</th>\n",
       "      <td>N/A</td>\n",
       "    </tr>\n",
       "  </tbody>\n",
       "</table>\n",
       "</div>"
      ],
      "text/plain": [
       "                    value\n",
       "% missing_values      0.0\n",
       "distinct_categories   N/A"
      ]
     },
     "execution_count": 73,
     "metadata": {},
     "output_type": "execute_result"
    }
   ],
   "source": [
    "col = 'number_emergency'\n",
    "number_emergency_info_table = get_info_table(df,col,num_flag = True)\n",
    "number_emergency_info_table"
   ]
  },
  {
   "cell_type": "code",
   "execution_count": 74,
   "id": "d1dd2ec6-8a44-41e3-acee-621a126a0386",
   "metadata": {},
   "outputs": [
    {
     "data": {
      "text/html": [
       "<div>\n",
       "<style scoped>\n",
       "    .dataframe tbody tr th:only-of-type {\n",
       "        vertical-align: middle;\n",
       "    }\n",
       "\n",
       "    .dataframe tbody tr th {\n",
       "        vertical-align: top;\n",
       "    }\n",
       "\n",
       "    .dataframe thead th {\n",
       "        text-align: right;\n",
       "    }\n",
       "</style>\n",
       "<table border=\"1\" class=\"dataframe\">\n",
       "  <thead>\n",
       "    <tr style=\"text-align: right;\">\n",
       "      <th></th>\n",
       "      <th>count</th>\n",
       "      <th>percentage</th>\n",
       "    </tr>\n",
       "    <tr>\n",
       "      <th>number_emergency</th>\n",
       "      <th></th>\n",
       "      <th></th>\n",
       "    </tr>\n",
       "  </thead>\n",
       "  <tbody>\n",
       "    <tr>\n",
       "      <th>0</th>\n",
       "      <td>90383</td>\n",
       "      <td>88.81</td>\n",
       "    </tr>\n",
       "    <tr>\n",
       "      <th>1</th>\n",
       "      <td>7677</td>\n",
       "      <td>7.54</td>\n",
       "    </tr>\n",
       "    <tr>\n",
       "      <th>2</th>\n",
       "      <td>2042</td>\n",
       "      <td>2.01</td>\n",
       "    </tr>\n",
       "    <tr>\n",
       "      <th>3</th>\n",
       "      <td>725</td>\n",
       "      <td>0.71</td>\n",
       "    </tr>\n",
       "    <tr>\n",
       "      <th>4</th>\n",
       "      <td>374</td>\n",
       "      <td>0.37</td>\n",
       "    </tr>\n",
       "    <tr>\n",
       "      <th>5</th>\n",
       "      <td>192</td>\n",
       "      <td>0.19</td>\n",
       "    </tr>\n",
       "    <tr>\n",
       "      <th>6</th>\n",
       "      <td>94</td>\n",
       "      <td>0.09</td>\n",
       "    </tr>\n",
       "    <tr>\n",
       "      <th>7</th>\n",
       "      <td>73</td>\n",
       "      <td>0.07</td>\n",
       "    </tr>\n",
       "    <tr>\n",
       "      <th>8</th>\n",
       "      <td>50</td>\n",
       "      <td>0.05</td>\n",
       "    </tr>\n",
       "    <tr>\n",
       "      <th>10</th>\n",
       "      <td>34</td>\n",
       "      <td>0.03</td>\n",
       "    </tr>\n",
       "    <tr>\n",
       "      <th>9</th>\n",
       "      <td>33</td>\n",
       "      <td>0.03</td>\n",
       "    </tr>\n",
       "    <tr>\n",
       "      <th>11</th>\n",
       "      <td>23</td>\n",
       "      <td>0.02</td>\n",
       "    </tr>\n",
       "    <tr>\n",
       "      <th>13</th>\n",
       "      <td>12</td>\n",
       "      <td>0.01</td>\n",
       "    </tr>\n",
       "    <tr>\n",
       "      <th>12</th>\n",
       "      <td>10</td>\n",
       "      <td>0.01</td>\n",
       "    </tr>\n",
       "    <tr>\n",
       "      <th>22</th>\n",
       "      <td>6</td>\n",
       "      <td>0.01</td>\n",
       "    </tr>\n",
       "    <tr>\n",
       "      <th>18</th>\n",
       "      <td>5</td>\n",
       "      <td>0.00</td>\n",
       "    </tr>\n",
       "    <tr>\n",
       "      <th>16</th>\n",
       "      <td>5</td>\n",
       "      <td>0.00</td>\n",
       "    </tr>\n",
       "    <tr>\n",
       "      <th>19</th>\n",
       "      <td>4</td>\n",
       "      <td>0.00</td>\n",
       "    </tr>\n",
       "    <tr>\n",
       "      <th>20</th>\n",
       "      <td>4</td>\n",
       "      <td>0.00</td>\n",
       "    </tr>\n",
       "    <tr>\n",
       "      <th>15</th>\n",
       "      <td>3</td>\n",
       "      <td>0.00</td>\n",
       "    </tr>\n",
       "    <tr>\n",
       "      <th>14</th>\n",
       "      <td>3</td>\n",
       "      <td>0.00</td>\n",
       "    </tr>\n",
       "    <tr>\n",
       "      <th>21</th>\n",
       "      <td>2</td>\n",
       "      <td>0.00</td>\n",
       "    </tr>\n",
       "    <tr>\n",
       "      <th>25</th>\n",
       "      <td>2</td>\n",
       "      <td>0.00</td>\n",
       "    </tr>\n",
       "    <tr>\n",
       "      <th>24</th>\n",
       "      <td>1</td>\n",
       "      <td>0.00</td>\n",
       "    </tr>\n",
       "    <tr>\n",
       "      <th>28</th>\n",
       "      <td>1</td>\n",
       "      <td>0.00</td>\n",
       "    </tr>\n",
       "    <tr>\n",
       "      <th>29</th>\n",
       "      <td>1</td>\n",
       "      <td>0.00</td>\n",
       "    </tr>\n",
       "    <tr>\n",
       "      <th>37</th>\n",
       "      <td>1</td>\n",
       "      <td>0.00</td>\n",
       "    </tr>\n",
       "    <tr>\n",
       "      <th>42</th>\n",
       "      <td>1</td>\n",
       "      <td>0.00</td>\n",
       "    </tr>\n",
       "    <tr>\n",
       "      <th>46</th>\n",
       "      <td>1</td>\n",
       "      <td>0.00</td>\n",
       "    </tr>\n",
       "    <tr>\n",
       "      <th>54</th>\n",
       "      <td>1</td>\n",
       "      <td>0.00</td>\n",
       "    </tr>\n",
       "    <tr>\n",
       "      <th>63</th>\n",
       "      <td>1</td>\n",
       "      <td>0.00</td>\n",
       "    </tr>\n",
       "    <tr>\n",
       "      <th>64</th>\n",
       "      <td>1</td>\n",
       "      <td>0.00</td>\n",
       "    </tr>\n",
       "    <tr>\n",
       "      <th>76</th>\n",
       "      <td>1</td>\n",
       "      <td>0.00</td>\n",
       "    </tr>\n",
       "  </tbody>\n",
       "</table>\n",
       "</div>"
      ],
      "text/plain": [
       "                  count  percentage\n",
       "number_emergency                   \n",
       "0                 90383       88.81\n",
       "1                  7677        7.54\n",
       "2                  2042        2.01\n",
       "3                   725        0.71\n",
       "4                   374        0.37\n",
       "5                   192        0.19\n",
       "6                    94        0.09\n",
       "7                    73        0.07\n",
       "8                    50        0.05\n",
       "10                   34        0.03\n",
       "9                    33        0.03\n",
       "11                   23        0.02\n",
       "13                   12        0.01\n",
       "12                   10        0.01\n",
       "22                    6        0.01\n",
       "18                    5        0.00\n",
       "16                    5        0.00\n",
       "19                    4        0.00\n",
       "20                    4        0.00\n",
       "15                    3        0.00\n",
       "14                    3        0.00\n",
       "21                    2        0.00\n",
       "25                    2        0.00\n",
       "24                    1        0.00\n",
       "28                    1        0.00\n",
       "29                    1        0.00\n",
       "37                    1        0.00\n",
       "42                    1        0.00\n",
       "46                    1        0.00\n",
       "54                    1        0.00\n",
       "63                    1        0.00\n",
       "64                    1        0.00\n",
       "76                    1        0.00"
      ]
     },
     "execution_count": 74,
     "metadata": {},
     "output_type": "execute_result"
    }
   ],
   "source": [
    "number_emergency_count_table = get_count_table(df,id_col,col)\n",
    "number_emergency_count_table"
   ]
  },
  {
   "cell_type": "code",
   "execution_count": 75,
   "id": "64acad64-e43b-498c-920d-3c13f4ebc7f8",
   "metadata": {},
   "outputs": [
    {
     "data": {
      "image/png": "[encoded data removed]",
      "text/plain": [
       "<Figure size 432x288 with 1 Axes>"
      ]
     },
     "metadata": {
      "needs_background": "light"
     },
     "output_type": "display_data"
    }
   ],
   "source": [
    "plot_chart(number_emergency_count_table,'number_emergency',True)"
   ]
  },
  {
   "cell_type": "code",
   "execution_count": 76,
   "id": "c2187df9-e7ad-4b0f-a59c-85b65e05196a",
   "metadata": {},
   "outputs": [
    {
     "data": {
      "text/plain": [
       "count    101766.000000\n",
       "mean          0.197836\n",
       "std           0.930472\n",
       "min           0.000000\n",
       "25%           0.000000\n",
       "50%           0.000000\n",
       "75%           0.000000\n",
       "max          76.000000\n",
       "Name: number_emergency, dtype: float64"
      ]
     },
     "execution_count": 76,
     "metadata": {},
     "output_type": "execute_result"
    }
   ],
   "source": [
    "df[col].describe()"
   ]
  },
  {
   "cell_type": "code",
   "execution_count": 77,
   "id": "adc348e3-6cd8-4585-9e0d-2eeb7080cbd5",
   "metadata": {},
   "outputs": [
    {
     "data": {
      "image/png": "[encoded data removed]",
      "text/plain": [
       "<Figure size 432x288 with 1 Axes>"
      ]
     },
     "metadata": {
      "needs_background": "light"
     },
     "output_type": "display_data"
    }
   ],
   "source": [
    "plot_boxplot(df,col)"
   ]
  },
  {
   "cell_type": "markdown",
   "id": "da3d08a0-53d3-4e1e-9543-1b4af2ea2adc",
   "metadata": {},
   "source": [
    "the variable num_emergency has a high right-skewed distribution. Analyzing the boxplot we can observe that the boxplot bodies are very small, and there are a lot of outliers. However it is not clear if exists any valuable information.  There are no missing values."
   ]
  },
  {
   "cell_type": "markdown",
   "id": "c535611b-a313-48c8-8c8c-db7298910c55",
   "metadata": {},
   "source": [
    "**number_inpatient**"
   ]
  },
  {
   "cell_type": "code",
   "execution_count": 78,
   "id": "781a857d-e83a-4de5-b334-adabda090da5",
   "metadata": {},
   "outputs": [
    {
     "data": {
      "text/html": [
       "<div>\n",
       "<style scoped>\n",
       "    .dataframe tbody tr th:only-of-type {\n",
       "        vertical-align: middle;\n",
       "    }\n",
       "\n",
       "    .dataframe tbody tr th {\n",
       "        vertical-align: top;\n",
       "    }\n",
       "\n",
       "    .dataframe thead th {\n",
       "        text-align: right;\n",
       "    }\n",
       "</style>\n",
       "<table border=\"1\" class=\"dataframe\">\n",
       "  <thead>\n",
       "    <tr style=\"text-align: right;\">\n",
       "      <th></th>\n",
       "      <th>value</th>\n",
       "    </tr>\n",
       "  </thead>\n",
       "  <tbody>\n",
       "    <tr>\n",
       "      <th>% missing_values</th>\n",
       "      <td>0.0</td>\n",
       "    </tr>\n",
       "    <tr>\n",
       "      <th>distinct_categories</th>\n",
       "      <td>N/A</td>\n",
       "    </tr>\n",
       "  </tbody>\n",
       "</table>\n",
       "</div>"
      ],
      "text/plain": [
       "                    value\n",
       "% missing_values      0.0\n",
       "distinct_categories   N/A"
      ]
     },
     "execution_count": 78,
     "metadata": {},
     "output_type": "execute_result"
    }
   ],
   "source": [
    "col = 'number_inpatient'\n",
    "number_inpatient_info_table = get_info_table(df,col,num_flag = True)\n",
    "number_inpatient_info_table"
   ]
  },
  {
   "cell_type": "code",
   "execution_count": 79,
   "id": "5c968503-6560-4bf6-9010-70db898313b2",
   "metadata": {},
   "outputs": [
    {
     "data": {
      "text/html": [
       "<div>\n",
       "<style scoped>\n",
       "    .dataframe tbody tr th:only-of-type {\n",
       "        vertical-align: middle;\n",
       "    }\n",
       "\n",
       "    .dataframe tbody tr th {\n",
       "        vertical-align: top;\n",
       "    }\n",
       "\n",
       "    .dataframe thead th {\n",
       "        text-align: right;\n",
       "    }\n",
       "</style>\n",
       "<table border=\"1\" class=\"dataframe\">\n",
       "  <thead>\n",
       "    <tr style=\"text-align: right;\">\n",
       "      <th></th>\n",
       "      <th>count</th>\n",
       "      <th>percentage</th>\n",
       "    </tr>\n",
       "    <tr>\n",
       "      <th>number_inpatient</th>\n",
       "      <th></th>\n",
       "      <th></th>\n",
       "    </tr>\n",
       "  </thead>\n",
       "  <tbody>\n",
       "    <tr>\n",
       "      <th>0</th>\n",
       "      <td>67630</td>\n",
       "      <td>66.46</td>\n",
       "    </tr>\n",
       "    <tr>\n",
       "      <th>1</th>\n",
       "      <td>19521</td>\n",
       "      <td>19.18</td>\n",
       "    </tr>\n",
       "    <tr>\n",
       "      <th>2</th>\n",
       "      <td>7566</td>\n",
       "      <td>7.43</td>\n",
       "    </tr>\n",
       "    <tr>\n",
       "      <th>3</th>\n",
       "      <td>3411</td>\n",
       "      <td>3.35</td>\n",
       "    </tr>\n",
       "    <tr>\n",
       "      <th>4</th>\n",
       "      <td>1622</td>\n",
       "      <td>1.59</td>\n",
       "    </tr>\n",
       "    <tr>\n",
       "      <th>5</th>\n",
       "      <td>812</td>\n",
       "      <td>0.80</td>\n",
       "    </tr>\n",
       "    <tr>\n",
       "      <th>6</th>\n",
       "      <td>480</td>\n",
       "      <td>0.47</td>\n",
       "    </tr>\n",
       "    <tr>\n",
       "      <th>7</th>\n",
       "      <td>268</td>\n",
       "      <td>0.26</td>\n",
       "    </tr>\n",
       "    <tr>\n",
       "      <th>8</th>\n",
       "      <td>151</td>\n",
       "      <td>0.15</td>\n",
       "    </tr>\n",
       "    <tr>\n",
       "      <th>9</th>\n",
       "      <td>111</td>\n",
       "      <td>0.11</td>\n",
       "    </tr>\n",
       "    <tr>\n",
       "      <th>10</th>\n",
       "      <td>61</td>\n",
       "      <td>0.06</td>\n",
       "    </tr>\n",
       "    <tr>\n",
       "      <th>11</th>\n",
       "      <td>49</td>\n",
       "      <td>0.05</td>\n",
       "    </tr>\n",
       "    <tr>\n",
       "      <th>12</th>\n",
       "      <td>34</td>\n",
       "      <td>0.03</td>\n",
       "    </tr>\n",
       "    <tr>\n",
       "      <th>13</th>\n",
       "      <td>20</td>\n",
       "      <td>0.02</td>\n",
       "    </tr>\n",
       "    <tr>\n",
       "      <th>14</th>\n",
       "      <td>10</td>\n",
       "      <td>0.01</td>\n",
       "    </tr>\n",
       "    <tr>\n",
       "      <th>15</th>\n",
       "      <td>9</td>\n",
       "      <td>0.01</td>\n",
       "    </tr>\n",
       "    <tr>\n",
       "      <th>16</th>\n",
       "      <td>6</td>\n",
       "      <td>0.01</td>\n",
       "    </tr>\n",
       "    <tr>\n",
       "      <th>19</th>\n",
       "      <td>2</td>\n",
       "      <td>0.00</td>\n",
       "    </tr>\n",
       "    <tr>\n",
       "      <th>17</th>\n",
       "      <td>1</td>\n",
       "      <td>0.00</td>\n",
       "    </tr>\n",
       "    <tr>\n",
       "      <th>18</th>\n",
       "      <td>1</td>\n",
       "      <td>0.00</td>\n",
       "    </tr>\n",
       "    <tr>\n",
       "      <th>21</th>\n",
       "      <td>1</td>\n",
       "      <td>0.00</td>\n",
       "    </tr>\n",
       "  </tbody>\n",
       "</table>\n",
       "</div>"
      ],
      "text/plain": [
       "                  count  percentage\n",
       "number_inpatient                   \n",
       "0                 67630       66.46\n",
       "1                 19521       19.18\n",
       "2                  7566        7.43\n",
       "3                  3411        3.35\n",
       "4                  1622        1.59\n",
       "5                   812        0.80\n",
       "6                   480        0.47\n",
       "7                   268        0.26\n",
       "8                   151        0.15\n",
       "9                   111        0.11\n",
       "10                   61        0.06\n",
       "11                   49        0.05\n",
       "12                   34        0.03\n",
       "13                   20        0.02\n",
       "14                   10        0.01\n",
       "15                    9        0.01\n",
       "16                    6        0.01\n",
       "19                    2        0.00\n",
       "17                    1        0.00\n",
       "18                    1        0.00\n",
       "21                    1        0.00"
      ]
     },
     "execution_count": 79,
     "metadata": {},
     "output_type": "execute_result"
    }
   ],
   "source": [
    "number_inpatient_count_table = get_count_table(df,id_col,col)\n",
    "number_inpatient_count_table"
   ]
  },
  {
   "cell_type": "code",
   "execution_count": 80,
   "id": "aef7d4dc-9a74-42d0-a6dd-f5b9fc7a35ea",
   "metadata": {},
   "outputs": [
    {
     "data": {
      "image/png": "[encoded data removed]",
      "text/plain": [
       "<Figure size 432x288 with 1 Axes>"
      ]
     },
     "metadata": {
      "needs_background": "light"
     },
     "output_type": "display_data"
    }
   ],
   "source": [
    "plot_chart(number_inpatient_count_table,'number_inpatient',True)"
   ]
  },
  {
   "cell_type": "code",
   "execution_count": 81,
   "id": "74a96d36-71c0-43f5-bcf1-2e98c2233816",
   "metadata": {},
   "outputs": [
    {
     "data": {
      "text/plain": [
       "count    101766.000000\n",
       "mean          0.635566\n",
       "std           1.262863\n",
       "min           0.000000\n",
       "25%           0.000000\n",
       "50%           0.000000\n",
       "75%           1.000000\n",
       "max          21.000000\n",
       "Name: number_inpatient, dtype: float64"
      ]
     },
     "execution_count": 81,
     "metadata": {},
     "output_type": "execute_result"
    }
   ],
   "source": [
    "df[col].describe()"
   ]
  },
  {
   "cell_type": "code",
   "execution_count": 82,
   "id": "d357ad65-59e7-479c-af15-8d6fb97569e7",
   "metadata": {},
   "outputs": [
    {
     "data": {
      "image/png": "[encoded data removed]",
      "text/plain": [
       "<Figure size 432x288 with 1 Axes>"
      ]
     },
     "metadata": {
      "needs_background": "light"
     },
     "output_type": "display_data"
    }
   ],
   "source": [
    "plot_boxplot(df,col)"
   ]
  },
  {
   "cell_type": "markdown",
   "id": "adbc37e1-e12d-4d51-9c74-0a1a429438fd",
   "metadata": {},
   "source": [
    "This variable seems very important because the distribution of the boxplot is very clear, most of the people that were not inpatients were not readmitted. The median and the percentiles are lower than the other categories. There are some outliers. The are no missing values"
   ]
  },
  {
   "cell_type": "markdown",
   "id": "5a759f81-990d-4442-a7e1-677f208ab113",
   "metadata": {},
   "source": [
    "**diag_1**"
   ]
  },
  {
   "cell_type": "code",
   "execution_count": 83,
   "id": "99303723-0db0-4d41-8c59-6ca21b2eb8c6",
   "metadata": {},
   "outputs": [
    {
     "data": {
      "text/html": [
       "<div>\n",
       "<style scoped>\n",
       "    .dataframe tbody tr th:only-of-type {\n",
       "        vertical-align: middle;\n",
       "    }\n",
       "\n",
       "    .dataframe tbody tr th {\n",
       "        vertical-align: top;\n",
       "    }\n",
       "\n",
       "    .dataframe thead th {\n",
       "        text-align: right;\n",
       "    }\n",
       "</style>\n",
       "<table border=\"1\" class=\"dataframe\">\n",
       "  <thead>\n",
       "    <tr style=\"text-align: right;\">\n",
       "      <th></th>\n",
       "      <th>value</th>\n",
       "    </tr>\n",
       "  </thead>\n",
       "  <tbody>\n",
       "    <tr>\n",
       "      <th>% missing_values</th>\n",
       "      <td>0.02</td>\n",
       "    </tr>\n",
       "    <tr>\n",
       "      <th>distinct_categories</th>\n",
       "      <td>716</td>\n",
       "    </tr>\n",
       "  </tbody>\n",
       "</table>\n",
       "</div>"
      ],
      "text/plain": [
       "                    value\n",
       "% missing_values     0.02\n",
       "distinct_categories   716"
      ]
     },
     "execution_count": 83,
     "metadata": {},
     "output_type": "execute_result"
    }
   ],
   "source": [
    "col = 'diag_1'\n",
    "diag_1_info_table = get_info_table(df,col)\n",
    "diag_1_info_table"
   ]
  },
  {
   "cell_type": "code",
   "execution_count": 84,
   "id": "07d3fee7-e26b-4de8-b767-106629e8234e",
   "metadata": {},
   "outputs": [
    {
     "data": {
      "text/html": [
       "<div>\n",
       "<style scoped>\n",
       "    .dataframe tbody tr th:only-of-type {\n",
       "        vertical-align: middle;\n",
       "    }\n",
       "\n",
       "    .dataframe tbody tr th {\n",
       "        vertical-align: top;\n",
       "    }\n",
       "\n",
       "    .dataframe thead th {\n",
       "        text-align: right;\n",
       "    }\n",
       "</style>\n",
       "<table border=\"1\" class=\"dataframe\">\n",
       "  <thead>\n",
       "    <tr style=\"text-align: right;\">\n",
       "      <th></th>\n",
       "      <th>count</th>\n",
       "      <th>percentage</th>\n",
       "    </tr>\n",
       "    <tr>\n",
       "      <th>diag_1</th>\n",
       "      <th></th>\n",
       "      <th></th>\n",
       "    </tr>\n",
       "  </thead>\n",
       "  <tbody>\n",
       "    <tr>\n",
       "      <th>428</th>\n",
       "      <td>6862</td>\n",
       "      <td>6.74</td>\n",
       "    </tr>\n",
       "    <tr>\n",
       "      <th>414</th>\n",
       "      <td>6581</td>\n",
       "      <td>6.47</td>\n",
       "    </tr>\n",
       "    <tr>\n",
       "      <th>786</th>\n",
       "      <td>4016</td>\n",
       "      <td>3.95</td>\n",
       "    </tr>\n",
       "    <tr>\n",
       "      <th>410</th>\n",
       "      <td>3614</td>\n",
       "      <td>3.55</td>\n",
       "    </tr>\n",
       "    <tr>\n",
       "      <th>486</th>\n",
       "      <td>3508</td>\n",
       "      <td>3.45</td>\n",
       "    </tr>\n",
       "    <tr>\n",
       "      <th>...</th>\n",
       "      <td>...</td>\n",
       "      <td>...</td>\n",
       "    </tr>\n",
       "    <tr>\n",
       "      <th>832</th>\n",
       "      <td>1</td>\n",
       "      <td>0.00</td>\n",
       "    </tr>\n",
       "    <tr>\n",
       "      <th>919</th>\n",
       "      <td>1</td>\n",
       "      <td>0.00</td>\n",
       "    </tr>\n",
       "    <tr>\n",
       "      <th>833</th>\n",
       "      <td>1</td>\n",
       "      <td>0.00</td>\n",
       "    </tr>\n",
       "    <tr>\n",
       "      <th>834</th>\n",
       "      <td>1</td>\n",
       "      <td>0.00</td>\n",
       "    </tr>\n",
       "    <tr>\n",
       "      <th>10</th>\n",
       "      <td>1</td>\n",
       "      <td>0.00</td>\n",
       "    </tr>\n",
       "  </tbody>\n",
       "</table>\n",
       "<p>716 rows × 2 columns</p>\n",
       "</div>"
      ],
      "text/plain": [
       "        count  percentage\n",
       "diag_1                   \n",
       "428      6862        6.74\n",
       "414      6581        6.47\n",
       "786      4016        3.95\n",
       "410      3614        3.55\n",
       "486      3508        3.45\n",
       "...       ...         ...\n",
       "832         1        0.00\n",
       "919         1        0.00\n",
       "833         1        0.00\n",
       "834         1        0.00\n",
       "10          1        0.00\n",
       "\n",
       "[716 rows x 2 columns]"
      ]
     },
     "execution_count": 84,
     "metadata": {},
     "output_type": "execute_result"
    }
   ],
   "source": [
    "diag_1_count_table = get_count_table(df,id_col,col)\n",
    "diag_1_count_table"
   ]
  },
  {
   "cell_type": "markdown",
   "id": "574199d2-510f-4c4a-9daa-9639e870a069",
   "metadata": {},
   "source": [
    "It is a high cardinality categorical variable, so it is hard to find some insights by exploring the data manually. The are some missing values."
   ]
  },
  {
   "cell_type": "markdown",
   "id": "7c3149f1-863d-4e11-81f6-1749b1bba176",
   "metadata": {},
   "source": [
    "**diag_2**"
   ]
  },
  {
   "cell_type": "code",
   "execution_count": 85,
   "id": "d53dba0c-7a71-4ef0-9ef4-600caa93801e",
   "metadata": {},
   "outputs": [
    {
     "data": {
      "text/html": [
       "<div>\n",
       "<style scoped>\n",
       "    .dataframe tbody tr th:only-of-type {\n",
       "        vertical-align: middle;\n",
       "    }\n",
       "\n",
       "    .dataframe tbody tr th {\n",
       "        vertical-align: top;\n",
       "    }\n",
       "\n",
       "    .dataframe thead th {\n",
       "        text-align: right;\n",
       "    }\n",
       "</style>\n",
       "<table border=\"1\" class=\"dataframe\">\n",
       "  <thead>\n",
       "    <tr style=\"text-align: right;\">\n",
       "      <th></th>\n",
       "      <th>value</th>\n",
       "    </tr>\n",
       "  </thead>\n",
       "  <tbody>\n",
       "    <tr>\n",
       "      <th>% missing_values</th>\n",
       "      <td>0.35</td>\n",
       "    </tr>\n",
       "    <tr>\n",
       "      <th>distinct_categories</th>\n",
       "      <td>748</td>\n",
       "    </tr>\n",
       "  </tbody>\n",
       "</table>\n",
       "</div>"
      ],
      "text/plain": [
       "                    value\n",
       "% missing_values     0.35\n",
       "distinct_categories   748"
      ]
     },
     "execution_count": 85,
     "metadata": {},
     "output_type": "execute_result"
    }
   ],
   "source": [
    "col = 'diag_2'\n",
    "diag_2_info_table = get_info_table(df,col)\n",
    "diag_2_info_table"
   ]
  },
  {
   "cell_type": "markdown",
   "id": "c2cb747d-5ea4-40c6-9090-ddb92e6f031c",
   "metadata": {},
   "source": [
    "It is a high cardinality categorical variable, so it is hard to find some insights by exploring the data manually. The are some missing values."
   ]
  },
  {
   "cell_type": "code",
   "execution_count": 86,
   "id": "feedede4-3315-4c45-8f96-77b3285bc5a4",
   "metadata": {},
   "outputs": [
    {
     "data": {
      "text/html": [
       "<div>\n",
       "<style scoped>\n",
       "    .dataframe tbody tr th:only-of-type {\n",
       "        vertical-align: middle;\n",
       "    }\n",
       "\n",
       "    .dataframe tbody tr th {\n",
       "        vertical-align: top;\n",
       "    }\n",
       "\n",
       "    .dataframe thead th {\n",
       "        text-align: right;\n",
       "    }\n",
       "</style>\n",
       "<table border=\"1\" class=\"dataframe\">\n",
       "  <thead>\n",
       "    <tr style=\"text-align: right;\">\n",
       "      <th></th>\n",
       "      <th>count</th>\n",
       "      <th>percentage</th>\n",
       "    </tr>\n",
       "    <tr>\n",
       "      <th>diag_2</th>\n",
       "      <th></th>\n",
       "      <th></th>\n",
       "    </tr>\n",
       "  </thead>\n",
       "  <tbody>\n",
       "    <tr>\n",
       "      <th>276</th>\n",
       "      <td>6752</td>\n",
       "      <td>6.66</td>\n",
       "    </tr>\n",
       "    <tr>\n",
       "      <th>428</th>\n",
       "      <td>6662</td>\n",
       "      <td>6.57</td>\n",
       "    </tr>\n",
       "    <tr>\n",
       "      <th>250</th>\n",
       "      <td>6071</td>\n",
       "      <td>5.99</td>\n",
       "    </tr>\n",
       "    <tr>\n",
       "      <th>427</th>\n",
       "      <td>5036</td>\n",
       "      <td>4.97</td>\n",
       "    </tr>\n",
       "    <tr>\n",
       "      <th>401</th>\n",
       "      <td>3736</td>\n",
       "      <td>3.68</td>\n",
       "    </tr>\n",
       "    <tr>\n",
       "      <th>...</th>\n",
       "      <td>...</td>\n",
       "      <td>...</td>\n",
       "    </tr>\n",
       "    <tr>\n",
       "      <th>880</th>\n",
       "      <td>1</td>\n",
       "      <td>0.00</td>\n",
       "    </tr>\n",
       "    <tr>\n",
       "      <th>994</th>\n",
       "      <td>1</td>\n",
       "      <td>0.00</td>\n",
       "    </tr>\n",
       "    <tr>\n",
       "      <th>811</th>\n",
       "      <td>1</td>\n",
       "      <td>0.00</td>\n",
       "    </tr>\n",
       "    <tr>\n",
       "      <th>990</th>\n",
       "      <td>1</td>\n",
       "      <td>0.00</td>\n",
       "    </tr>\n",
       "    <tr>\n",
       "      <th>800</th>\n",
       "      <td>1</td>\n",
       "      <td>0.00</td>\n",
       "    </tr>\n",
       "  </tbody>\n",
       "</table>\n",
       "<p>748 rows × 2 columns</p>\n",
       "</div>"
      ],
      "text/plain": [
       "        count  percentage\n",
       "diag_2                   \n",
       "276      6752        6.66\n",
       "428      6662        6.57\n",
       "250      6071        5.99\n",
       "427      5036        4.97\n",
       "401      3736        3.68\n",
       "...       ...         ...\n",
       "880         1        0.00\n",
       "994         1        0.00\n",
       "811         1        0.00\n",
       "990         1        0.00\n",
       "800         1        0.00\n",
       "\n",
       "[748 rows x 2 columns]"
      ]
     },
     "execution_count": 86,
     "metadata": {},
     "output_type": "execute_result"
    }
   ],
   "source": [
    "diag_2_count_table = get_count_table(df,id_col,col)\n",
    "diag_2_count_table"
   ]
  },
  {
   "cell_type": "markdown",
   "id": "178344e9-be94-4966-b620-30a13b186b30",
   "metadata": {},
   "source": [
    "**diag_3**"
   ]
  },
  {
   "cell_type": "code",
   "execution_count": 87,
   "id": "6748eef7-42cb-4f38-8aa6-6a9bbed3c643",
   "metadata": {},
   "outputs": [
    {
     "data": {
      "text/html": [
       "<div>\n",
       "<style scoped>\n",
       "    .dataframe tbody tr th:only-of-type {\n",
       "        vertical-align: middle;\n",
       "    }\n",
       "\n",
       "    .dataframe tbody tr th {\n",
       "        vertical-align: top;\n",
       "    }\n",
       "\n",
       "    .dataframe thead th {\n",
       "        text-align: right;\n",
       "    }\n",
       "</style>\n",
       "<table border=\"1\" class=\"dataframe\">\n",
       "  <thead>\n",
       "    <tr style=\"text-align: right;\">\n",
       "      <th></th>\n",
       "      <th>value</th>\n",
       "    </tr>\n",
       "  </thead>\n",
       "  <tbody>\n",
       "    <tr>\n",
       "      <th>% missing_values</th>\n",
       "      <td>1.4</td>\n",
       "    </tr>\n",
       "    <tr>\n",
       "      <th>distinct_categories</th>\n",
       "      <td>789</td>\n",
       "    </tr>\n",
       "  </tbody>\n",
       "</table>\n",
       "</div>"
      ],
      "text/plain": [
       "                    value\n",
       "% missing_values      1.4\n",
       "distinct_categories   789"
      ]
     },
     "execution_count": 87,
     "metadata": {},
     "output_type": "execute_result"
    }
   ],
   "source": [
    "col = 'diag_3'\n",
    "diag_3_info_table = get_info_table(df,col)\n",
    "diag_3_info_table"
   ]
  },
  {
   "cell_type": "code",
   "execution_count": 88,
   "id": "d98de5dd-3890-49b7-99a0-52cb5c227604",
   "metadata": {},
   "outputs": [
    {
     "data": {
      "text/html": [
       "<div>\n",
       "<style scoped>\n",
       "    .dataframe tbody tr th:only-of-type {\n",
       "        vertical-align: middle;\n",
       "    }\n",
       "\n",
       "    .dataframe tbody tr th {\n",
       "        vertical-align: top;\n",
       "    }\n",
       "\n",
       "    .dataframe thead th {\n",
       "        text-align: right;\n",
       "    }\n",
       "</style>\n",
       "<table border=\"1\" class=\"dataframe\">\n",
       "  <thead>\n",
       "    <tr style=\"text-align: right;\">\n",
       "      <th></th>\n",
       "      <th>count</th>\n",
       "      <th>percentage</th>\n",
       "    </tr>\n",
       "    <tr>\n",
       "      <th>diag_3</th>\n",
       "      <th></th>\n",
       "      <th></th>\n",
       "    </tr>\n",
       "  </thead>\n",
       "  <tbody>\n",
       "    <tr>\n",
       "      <th>250</th>\n",
       "      <td>11555</td>\n",
       "      <td>11.52</td>\n",
       "    </tr>\n",
       "    <tr>\n",
       "      <th>401</th>\n",
       "      <td>8289</td>\n",
       "      <td>8.26</td>\n",
       "    </tr>\n",
       "    <tr>\n",
       "      <th>276</th>\n",
       "      <td>5175</td>\n",
       "      <td>5.16</td>\n",
       "    </tr>\n",
       "    <tr>\n",
       "      <th>428</th>\n",
       "      <td>4577</td>\n",
       "      <td>4.56</td>\n",
       "    </tr>\n",
       "    <tr>\n",
       "      <th>427</th>\n",
       "      <td>3955</td>\n",
       "      <td>3.94</td>\n",
       "    </tr>\n",
       "    <tr>\n",
       "      <th>...</th>\n",
       "      <td>...</td>\n",
       "      <td>...</td>\n",
       "    </tr>\n",
       "    <tr>\n",
       "      <th>E864</th>\n",
       "      <td>1</td>\n",
       "      <td>0.00</td>\n",
       "    </tr>\n",
       "    <tr>\n",
       "      <th>E861</th>\n",
       "      <td>1</td>\n",
       "      <td>0.00</td>\n",
       "    </tr>\n",
       "    <tr>\n",
       "      <th>E854</th>\n",
       "      <td>1</td>\n",
       "      <td>0.00</td>\n",
       "    </tr>\n",
       "    <tr>\n",
       "      <th>E853</th>\n",
       "      <td>1</td>\n",
       "      <td>0.00</td>\n",
       "    </tr>\n",
       "    <tr>\n",
       "      <th>841</th>\n",
       "      <td>1</td>\n",
       "      <td>0.00</td>\n",
       "    </tr>\n",
       "  </tbody>\n",
       "</table>\n",
       "<p>789 rows × 2 columns</p>\n",
       "</div>"
      ],
      "text/plain": [
       "        count  percentage\n",
       "diag_3                   \n",
       "250     11555       11.52\n",
       "401      8289        8.26\n",
       "276      5175        5.16\n",
       "428      4577        4.56\n",
       "427      3955        3.94\n",
       "...       ...         ...\n",
       "E864        1        0.00\n",
       "E861        1        0.00\n",
       "E854        1        0.00\n",
       "E853        1        0.00\n",
       "841         1        0.00\n",
       "\n",
       "[789 rows x 2 columns]"
      ]
     },
     "execution_count": 88,
     "metadata": {},
     "output_type": "execute_result"
    }
   ],
   "source": [
    "diag_3_count_table = get_count_table(df,id_col,col)\n",
    "diag_3_count_table"
   ]
  },
  {
   "cell_type": "markdown",
   "id": "1f854396-1695-45a1-bc21-1c13ffbb349d",
   "metadata": {},
   "source": [
    "It is a high cardinality categorical variable, so it is hard to find some insights by exploring the data manually. The are some missing values."
   ]
  },
  {
   "cell_type": "markdown",
   "id": "82f991e0-98d9-4436-a314-6461dee5e62a",
   "metadata": {},
   "source": [
    "**number_diagnoses**"
   ]
  },
  {
   "cell_type": "code",
   "execution_count": 89,
   "id": "6638d9d6-a768-4622-8bde-5f60a63c799f",
   "metadata": {},
   "outputs": [
    {
     "data": {
      "text/html": [
       "<div>\n",
       "<style scoped>\n",
       "    .dataframe tbody tr th:only-of-type {\n",
       "        vertical-align: middle;\n",
       "    }\n",
       "\n",
       "    .dataframe tbody tr th {\n",
       "        vertical-align: top;\n",
       "    }\n",
       "\n",
       "    .dataframe thead th {\n",
       "        text-align: right;\n",
       "    }\n",
       "</style>\n",
       "<table border=\"1\" class=\"dataframe\">\n",
       "  <thead>\n",
       "    <tr style=\"text-align: right;\">\n",
       "      <th></th>\n",
       "      <th>value</th>\n",
       "    </tr>\n",
       "  </thead>\n",
       "  <tbody>\n",
       "    <tr>\n",
       "      <th>% missing_values</th>\n",
       "      <td>0.0</td>\n",
       "    </tr>\n",
       "    <tr>\n",
       "      <th>distinct_categories</th>\n",
       "      <td>N/A</td>\n",
       "    </tr>\n",
       "  </tbody>\n",
       "</table>\n",
       "</div>"
      ],
      "text/plain": [
       "                    value\n",
       "% missing_values      0.0\n",
       "distinct_categories   N/A"
      ]
     },
     "execution_count": 89,
     "metadata": {},
     "output_type": "execute_result"
    }
   ],
   "source": [
    "col = 'number_diagnoses'\n",
    "number_diagnoses_info_table = get_info_table(df,col,num_flag = True)\n",
    "number_diagnoses_info_table"
   ]
  },
  {
   "cell_type": "code",
   "execution_count": 90,
   "id": "6b4b254d-7def-4f06-83ee-51166a4ff9bf",
   "metadata": {},
   "outputs": [
    {
     "data": {
      "text/html": [
       "<div>\n",
       "<style scoped>\n",
       "    .dataframe tbody tr th:only-of-type {\n",
       "        vertical-align: middle;\n",
       "    }\n",
       "\n",
       "    .dataframe tbody tr th {\n",
       "        vertical-align: top;\n",
       "    }\n",
       "\n",
       "    .dataframe thead th {\n",
       "        text-align: right;\n",
       "    }\n",
       "</style>\n",
       "<table border=\"1\" class=\"dataframe\">\n",
       "  <thead>\n",
       "    <tr style=\"text-align: right;\">\n",
       "      <th></th>\n",
       "      <th>count</th>\n",
       "      <th>percentage</th>\n",
       "    </tr>\n",
       "    <tr>\n",
       "      <th>number_diagnoses</th>\n",
       "      <th></th>\n",
       "      <th></th>\n",
       "    </tr>\n",
       "  </thead>\n",
       "  <tbody>\n",
       "    <tr>\n",
       "      <th>9</th>\n",
       "      <td>49474</td>\n",
       "      <td>48.62</td>\n",
       "    </tr>\n",
       "    <tr>\n",
       "      <th>5</th>\n",
       "      <td>11393</td>\n",
       "      <td>11.20</td>\n",
       "    </tr>\n",
       "    <tr>\n",
       "      <th>8</th>\n",
       "      <td>10616</td>\n",
       "      <td>10.43</td>\n",
       "    </tr>\n",
       "    <tr>\n",
       "      <th>7</th>\n",
       "      <td>10393</td>\n",
       "      <td>10.21</td>\n",
       "    </tr>\n",
       "    <tr>\n",
       "      <th>6</th>\n",
       "      <td>10161</td>\n",
       "      <td>9.98</td>\n",
       "    </tr>\n",
       "    <tr>\n",
       "      <th>4</th>\n",
       "      <td>5537</td>\n",
       "      <td>5.44</td>\n",
       "    </tr>\n",
       "    <tr>\n",
       "      <th>3</th>\n",
       "      <td>2835</td>\n",
       "      <td>2.79</td>\n",
       "    </tr>\n",
       "    <tr>\n",
       "      <th>2</th>\n",
       "      <td>1023</td>\n",
       "      <td>1.01</td>\n",
       "    </tr>\n",
       "    <tr>\n",
       "      <th>1</th>\n",
       "      <td>219</td>\n",
       "      <td>0.22</td>\n",
       "    </tr>\n",
       "    <tr>\n",
       "      <th>16</th>\n",
       "      <td>45</td>\n",
       "      <td>0.04</td>\n",
       "    </tr>\n",
       "    <tr>\n",
       "      <th>10</th>\n",
       "      <td>17</td>\n",
       "      <td>0.02</td>\n",
       "    </tr>\n",
       "    <tr>\n",
       "      <th>13</th>\n",
       "      <td>16</td>\n",
       "      <td>0.02</td>\n",
       "    </tr>\n",
       "    <tr>\n",
       "      <th>11</th>\n",
       "      <td>11</td>\n",
       "      <td>0.01</td>\n",
       "    </tr>\n",
       "    <tr>\n",
       "      <th>15</th>\n",
       "      <td>10</td>\n",
       "      <td>0.01</td>\n",
       "    </tr>\n",
       "    <tr>\n",
       "      <th>12</th>\n",
       "      <td>9</td>\n",
       "      <td>0.01</td>\n",
       "    </tr>\n",
       "    <tr>\n",
       "      <th>14</th>\n",
       "      <td>7</td>\n",
       "      <td>0.01</td>\n",
       "    </tr>\n",
       "  </tbody>\n",
       "</table>\n",
       "</div>"
      ],
      "text/plain": [
       "                  count  percentage\n",
       "number_diagnoses                   \n",
       "9                 49474       48.62\n",
       "5                 11393       11.20\n",
       "8                 10616       10.43\n",
       "7                 10393       10.21\n",
       "6                 10161        9.98\n",
       "4                  5537        5.44\n",
       "3                  2835        2.79\n",
       "2                  1023        1.01\n",
       "1                   219        0.22\n",
       "16                   45        0.04\n",
       "10                   17        0.02\n",
       "13                   16        0.02\n",
       "11                   11        0.01\n",
       "15                   10        0.01\n",
       "12                    9        0.01\n",
       "14                    7        0.01"
      ]
     },
     "execution_count": 90,
     "metadata": {},
     "output_type": "execute_result"
    }
   ],
   "source": [
    "number_diagnoses_count_table = get_count_table(df,id_col,col)\n",
    "number_diagnoses_count_table"
   ]
  },
  {
   "cell_type": "code",
   "execution_count": 91,
   "id": "4c436d51-7f81-4e9a-8477-c76b93d9c7b4",
   "metadata": {},
   "outputs": [
    {
     "data": {
      "image/png": "[encoded data removed]",
      "text/plain": [
       "<Figure size 432x288 with 1 Axes>"
      ]
     },
     "metadata": {
      "needs_background": "light"
     },
     "output_type": "display_data"
    }
   ],
   "source": [
    "plot_chart(number_diagnoses_count_table,'number_diagnoses',True)"
   ]
  },
  {
   "cell_type": "code",
   "execution_count": 92,
   "id": "50b36212-a457-4f9c-981d-226d1a7e1a50",
   "metadata": {},
   "outputs": [
    {
     "data": {
      "text/plain": [
       "count    101766.000000\n",
       "mean          7.422607\n",
       "std           1.933600\n",
       "min           1.000000\n",
       "25%           6.000000\n",
       "50%           8.000000\n",
       "75%           9.000000\n",
       "max          16.000000\n",
       "Name: number_diagnoses, dtype: float64"
      ]
     },
     "execution_count": 92,
     "metadata": {},
     "output_type": "execute_result"
    }
   ],
   "source": [
    "df[col].describe()"
   ]
  },
  {
   "cell_type": "code",
   "execution_count": 93,
   "id": "5c231a3b-7332-4aa1-9968-3b220bce1e31",
   "metadata": {},
   "outputs": [
    {
     "data": {
      "image/png": "[encoded data removed]",
      "text/plain": [
       "<Figure size 432x288 with 1 Axes>"
      ]
     },
     "metadata": {
      "needs_background": "light"
     },
     "output_type": "display_data"
    }
   ],
   "source": [
    "plot_boxplot(df,col)"
   ]
  },
  {
   "cell_type": "markdown",
   "id": "3f6e9130-63fa-4a6c-839e-c48fb164ed05",
   "metadata": {},
   "source": [
    "this variable has a strange behavior, where most of the patients have 9 diagnoses. It migth be related to some bussiness stuff that we do not know. the median of the NO category is consideraby lower than the other categories. there are some outliers, but it is not something to worry about."
   ]
  },
  {
   "cell_type": "markdown",
   "id": "f7bdc8ce-2222-4da2-85f7-c0dd0d4f6978",
   "metadata": {},
   "source": [
    "**max_glu_serum**"
   ]
  },
  {
   "cell_type": "code",
   "execution_count": 94,
   "id": "e9bf15e7-a188-4d93-b5c0-098e15c22117",
   "metadata": {},
   "outputs": [
    {
     "data": {
      "text/html": [
       "<div>\n",
       "<style scoped>\n",
       "    .dataframe tbody tr th:only-of-type {\n",
       "        vertical-align: middle;\n",
       "    }\n",
       "\n",
       "    .dataframe tbody tr th {\n",
       "        vertical-align: top;\n",
       "    }\n",
       "\n",
       "    .dataframe thead th {\n",
       "        text-align: right;\n",
       "    }\n",
       "</style>\n",
       "<table border=\"1\" class=\"dataframe\">\n",
       "  <thead>\n",
       "    <tr style=\"text-align: right;\">\n",
       "      <th></th>\n",
       "      <th>value</th>\n",
       "    </tr>\n",
       "  </thead>\n",
       "  <tbody>\n",
       "    <tr>\n",
       "      <th>% missing_values</th>\n",
       "      <td>0.0</td>\n",
       "    </tr>\n",
       "    <tr>\n",
       "      <th>distinct_categories</th>\n",
       "      <td>4</td>\n",
       "    </tr>\n",
       "  </tbody>\n",
       "</table>\n",
       "</div>"
      ],
      "text/plain": [
       "                    value\n",
       "% missing_values      0.0\n",
       "distinct_categories     4"
      ]
     },
     "execution_count": 94,
     "metadata": {},
     "output_type": "execute_result"
    }
   ],
   "source": [
    "col = 'max_glu_serum'\n",
    "max_glu_serum_info_table = get_info_table(df,col)\n",
    "max_glu_serum_info_table"
   ]
  },
  {
   "cell_type": "code",
   "execution_count": 95,
   "id": "e8998c4e-7048-458b-88a8-af5b86f3b768",
   "metadata": {},
   "outputs": [
    {
     "data": {
      "text/html": [
       "<div>\n",
       "<style scoped>\n",
       "    .dataframe tbody tr th:only-of-type {\n",
       "        vertical-align: middle;\n",
       "    }\n",
       "\n",
       "    .dataframe tbody tr th {\n",
       "        vertical-align: top;\n",
       "    }\n",
       "\n",
       "    .dataframe thead th {\n",
       "        text-align: right;\n",
       "    }\n",
       "</style>\n",
       "<table border=\"1\" class=\"dataframe\">\n",
       "  <thead>\n",
       "    <tr style=\"text-align: right;\">\n",
       "      <th></th>\n",
       "      <th>count</th>\n",
       "      <th>percentage</th>\n",
       "    </tr>\n",
       "    <tr>\n",
       "      <th>max_glu_serum</th>\n",
       "      <th></th>\n",
       "      <th></th>\n",
       "    </tr>\n",
       "  </thead>\n",
       "  <tbody>\n",
       "    <tr>\n",
       "      <th>None</th>\n",
       "      <td>96420</td>\n",
       "      <td>94.75</td>\n",
       "    </tr>\n",
       "    <tr>\n",
       "      <th>Norm</th>\n",
       "      <td>2597</td>\n",
       "      <td>2.55</td>\n",
       "    </tr>\n",
       "    <tr>\n",
       "      <th>&gt;200</th>\n",
       "      <td>1485</td>\n",
       "      <td>1.46</td>\n",
       "    </tr>\n",
       "    <tr>\n",
       "      <th>&gt;300</th>\n",
       "      <td>1264</td>\n",
       "      <td>1.24</td>\n",
       "    </tr>\n",
       "  </tbody>\n",
       "</table>\n",
       "</div>"
      ],
      "text/plain": [
       "               count  percentage\n",
       "max_glu_serum                   \n",
       "None           96420       94.75\n",
       "Norm            2597        2.55\n",
       ">200            1485        1.46\n",
       ">300            1264        1.24"
      ]
     },
     "execution_count": 95,
     "metadata": {},
     "output_type": "execute_result"
    }
   ],
   "source": [
    "max_glu_serum_count_table = get_count_table(df,id_col,col)\n",
    "max_glu_serum_count_table"
   ]
  },
  {
   "cell_type": "code",
   "execution_count": 96,
   "id": "f5b974a9-58f4-4f50-92e3-4472ad342b1e",
   "metadata": {},
   "outputs": [
    {
     "data": {
      "image/png": "[encoded data removed]",
      "text/plain": [
       "<Figure size 432x288 with 1 Axes>"
      ]
     },
     "metadata": {
      "needs_background": "light"
     },
     "output_type": "display_data"
    }
   ],
   "source": [
    "plot_chart(max_glu_serum_count_table,'max_glu_serum')"
   ]
  },
  {
   "cell_type": "code",
   "execution_count": 97,
   "id": "7402dafe-224f-42f2-bba9-2fb19b4b16ce",
   "metadata": {},
   "outputs": [
    {
     "data": {
      "text/html": [
       "<div>\n",
       "<style scoped>\n",
       "    .dataframe tbody tr th:only-of-type {\n",
       "        vertical-align: middle;\n",
       "    }\n",
       "\n",
       "    .dataframe tbody tr th {\n",
       "        vertical-align: top;\n",
       "    }\n",
       "\n",
       "    .dataframe thead th {\n",
       "        text-align: right;\n",
       "    }\n",
       "</style>\n",
       "<table border=\"1\" class=\"dataframe\">\n",
       "  <thead>\n",
       "    <tr style=\"text-align: right;\">\n",
       "      <th>max_glu_serum</th>\n",
       "      <th>&gt;200</th>\n",
       "      <th>&gt;300</th>\n",
       "      <th>None</th>\n",
       "      <th>Norm</th>\n",
       "    </tr>\n",
       "    <tr>\n",
       "      <th>readmitted</th>\n",
       "      <th></th>\n",
       "      <th></th>\n",
       "      <th></th>\n",
       "      <th></th>\n",
       "    </tr>\n",
       "  </thead>\n",
       "  <tbody>\n",
       "    <tr>\n",
       "      <th>&lt;30</th>\n",
       "      <td>12.46</td>\n",
       "      <td>14.32</td>\n",
       "      <td>11.09</td>\n",
       "      <td>11.36</td>\n",
       "    </tr>\n",
       "    <tr>\n",
       "      <th>&gt;30</th>\n",
       "      <td>35.69</td>\n",
       "      <td>41.22</td>\n",
       "      <td>34.86</td>\n",
       "      <td>34.08</td>\n",
       "    </tr>\n",
       "    <tr>\n",
       "      <th>NO</th>\n",
       "      <td>51.85</td>\n",
       "      <td>44.46</td>\n",
       "      <td>54.05</td>\n",
       "      <td>54.56</td>\n",
       "    </tr>\n",
       "  </tbody>\n",
       "</table>\n",
       "</div>"
      ],
      "text/plain": [
       "max_glu_serum   >200   >300   None   Norm\n",
       "readmitted                               \n",
       "<30            12.46  14.32  11.09  11.36\n",
       ">30            35.69  41.22  34.86  34.08\n",
       "NO             51.85  44.46  54.05  54.56"
      ]
     },
     "execution_count": 97,
     "metadata": {},
     "output_type": "execute_result"
    }
   ],
   "source": [
    "get_cross_table(df,col)"
   ]
  },
  {
   "cell_type": "markdown",
   "id": "7b85368d-32be-4785-86fd-af54ff83bdda",
   "metadata": {},
   "source": [
    "we can conclude from this information that almost the 95% of the patients did not take the the glucosum, serum test. analyzing the distribution vs the target variables, we can suggest that patients with this result above the 200 threshold are more likely to bed readmitted."
   ]
  },
  {
   "cell_type": "markdown",
   "id": "0fdb8a3c-9e64-4871-85df-cf2f3b2c0096",
   "metadata": {},
   "source": [
    "**A1Cresult**"
   ]
  },
  {
   "cell_type": "code",
   "execution_count": 98,
   "id": "43e4c1e8-1206-4fdb-abfd-981a03d9999b",
   "metadata": {},
   "outputs": [
    {
     "data": {
      "text/html": [
       "<div>\n",
       "<style scoped>\n",
       "    .dataframe tbody tr th:only-of-type {\n",
       "        vertical-align: middle;\n",
       "    }\n",
       "\n",
       "    .dataframe tbody tr th {\n",
       "        vertical-align: top;\n",
       "    }\n",
       "\n",
       "    .dataframe thead th {\n",
       "        text-align: right;\n",
       "    }\n",
       "</style>\n",
       "<table border=\"1\" class=\"dataframe\">\n",
       "  <thead>\n",
       "    <tr style=\"text-align: right;\">\n",
       "      <th></th>\n",
       "      <th>value</th>\n",
       "    </tr>\n",
       "  </thead>\n",
       "  <tbody>\n",
       "    <tr>\n",
       "      <th>% missing_values</th>\n",
       "      <td>0.0</td>\n",
       "    </tr>\n",
       "    <tr>\n",
       "      <th>distinct_categories</th>\n",
       "      <td>4</td>\n",
       "    </tr>\n",
       "  </tbody>\n",
       "</table>\n",
       "</div>"
      ],
      "text/plain": [
       "                    value\n",
       "% missing_values      0.0\n",
       "distinct_categories     4"
      ]
     },
     "execution_count": 98,
     "metadata": {},
     "output_type": "execute_result"
    }
   ],
   "source": [
    "col = 'A1Cresult'\n",
    "A1Cresult_info_table = get_info_table(df,col)\n",
    "A1Cresult_info_table"
   ]
  },
  {
   "cell_type": "code",
   "execution_count": 99,
   "id": "309e01c6-9164-4fa5-a35a-33c7d493ba6b",
   "metadata": {},
   "outputs": [
    {
     "data": {
      "text/html": [
       "<div>\n",
       "<style scoped>\n",
       "    .dataframe tbody tr th:only-of-type {\n",
       "        vertical-align: middle;\n",
       "    }\n",
       "\n",
       "    .dataframe tbody tr th {\n",
       "        vertical-align: top;\n",
       "    }\n",
       "\n",
       "    .dataframe thead th {\n",
       "        text-align: right;\n",
       "    }\n",
       "</style>\n",
       "<table border=\"1\" class=\"dataframe\">\n",
       "  <thead>\n",
       "    <tr style=\"text-align: right;\">\n",
       "      <th></th>\n",
       "      <th>count</th>\n",
       "      <th>percentage</th>\n",
       "    </tr>\n",
       "    <tr>\n",
       "      <th>A1Cresult</th>\n",
       "      <th></th>\n",
       "      <th></th>\n",
       "    </tr>\n",
       "  </thead>\n",
       "  <tbody>\n",
       "    <tr>\n",
       "      <th>None</th>\n",
       "      <td>84748</td>\n",
       "      <td>83.28</td>\n",
       "    </tr>\n",
       "    <tr>\n",
       "      <th>&gt;8</th>\n",
       "      <td>8216</td>\n",
       "      <td>8.07</td>\n",
       "    </tr>\n",
       "    <tr>\n",
       "      <th>Norm</th>\n",
       "      <td>4990</td>\n",
       "      <td>4.90</td>\n",
       "    </tr>\n",
       "    <tr>\n",
       "      <th>&gt;7</th>\n",
       "      <td>3812</td>\n",
       "      <td>3.75</td>\n",
       "    </tr>\n",
       "  </tbody>\n",
       "</table>\n",
       "</div>"
      ],
      "text/plain": [
       "           count  percentage\n",
       "A1Cresult                   \n",
       "None       84748       83.28\n",
       ">8          8216        8.07\n",
       "Norm        4990        4.90\n",
       ">7          3812        3.75"
      ]
     },
     "execution_count": 99,
     "metadata": {},
     "output_type": "execute_result"
    }
   ],
   "source": [
    "A1Cresult_count_table = get_count_table(df,id_col,col)\n",
    "A1Cresult_count_table"
   ]
  },
  {
   "cell_type": "code",
   "execution_count": 100,
   "id": "e17e24ca-64a6-49d5-ad98-2e7d974ea116",
   "metadata": {},
   "outputs": [
    {
     "data": {
      "image/png": "[encoded data removed]",
      "text/plain": [
       "<Figure size 432x288 with 1 Axes>"
      ]
     },
     "metadata": {
      "needs_background": "light"
     },
     "output_type": "display_data"
    }
   ],
   "source": [
    "plot_chart(A1Cresult_count_table,'A1Cresult')"
   ]
  },
  {
   "cell_type": "code",
   "execution_count": 101,
   "id": "3a6be289-7970-4a1d-92c9-12d99f6d67e1",
   "metadata": {},
   "outputs": [
    {
     "data": {
      "text/html": [
       "<div>\n",
       "<style scoped>\n",
       "    .dataframe tbody tr th:only-of-type {\n",
       "        vertical-align: middle;\n",
       "    }\n",
       "\n",
       "    .dataframe tbody tr th {\n",
       "        vertical-align: top;\n",
       "    }\n",
       "\n",
       "    .dataframe thead th {\n",
       "        text-align: right;\n",
       "    }\n",
       "</style>\n",
       "<table border=\"1\" class=\"dataframe\">\n",
       "  <thead>\n",
       "    <tr style=\"text-align: right;\">\n",
       "      <th>A1Cresult</th>\n",
       "      <th>&gt;7</th>\n",
       "      <th>&gt;8</th>\n",
       "      <th>None</th>\n",
       "      <th>Norm</th>\n",
       "    </tr>\n",
       "    <tr>\n",
       "      <th>readmitted</th>\n",
       "      <th></th>\n",
       "      <th></th>\n",
       "      <th></th>\n",
       "      <th></th>\n",
       "    </tr>\n",
       "  </thead>\n",
       "  <tbody>\n",
       "    <tr>\n",
       "      <th>&lt;30</th>\n",
       "      <td>10.05</td>\n",
       "      <td>9.87</td>\n",
       "      <td>11.42</td>\n",
       "      <td>9.66</td>\n",
       "    </tr>\n",
       "    <tr>\n",
       "      <th>&gt;30</th>\n",
       "      <td>34.10</td>\n",
       "      <td>35.31</td>\n",
       "      <td>35.10</td>\n",
       "      <td>32.04</td>\n",
       "    </tr>\n",
       "    <tr>\n",
       "      <th>NO</th>\n",
       "      <td>55.85</td>\n",
       "      <td>54.82</td>\n",
       "      <td>53.48</td>\n",
       "      <td>58.30</td>\n",
       "    </tr>\n",
       "  </tbody>\n",
       "</table>\n",
       "</div>"
      ],
      "text/plain": [
       "A1Cresult      >7     >8   None   Norm\n",
       "readmitted                            \n",
       "<30         10.05   9.87  11.42   9.66\n",
       ">30         34.10  35.31  35.10  32.04\n",
       "NO          55.85  54.82  53.48  58.30"
      ]
     },
     "execution_count": 101,
     "metadata": {},
     "output_type": "execute_result"
    }
   ],
   "source": [
    "get_cross_table(df,col)"
   ]
  },
  {
   "cell_type": "markdown",
   "id": "1668b514-5848-45d4-8f48-b5653d065bc6",
   "metadata": {},
   "source": [
    "we can conclude from this information that almost the 83% of the patients did not take the the A1C test. the relationship with the target variables in not clear. There are no missing values "
   ]
  },
  {
   "cell_type": "markdown",
   "id": "c75f955b-a15f-4b93-ac76-853adc462b70",
   "metadata": {},
   "source": [
    "**change**"
   ]
  },
  {
   "cell_type": "code",
   "execution_count": 102,
   "id": "49ab9d7d-7b1a-4d29-8289-2ad086971be5",
   "metadata": {},
   "outputs": [
    {
     "data": {
      "text/html": [
       "<div>\n",
       "<style scoped>\n",
       "    .dataframe tbody tr th:only-of-type {\n",
       "        vertical-align: middle;\n",
       "    }\n",
       "\n",
       "    .dataframe tbody tr th {\n",
       "        vertical-align: top;\n",
       "    }\n",
       "\n",
       "    .dataframe thead th {\n",
       "        text-align: right;\n",
       "    }\n",
       "</style>\n",
       "<table border=\"1\" class=\"dataframe\">\n",
       "  <thead>\n",
       "    <tr style=\"text-align: right;\">\n",
       "      <th></th>\n",
       "      <th>value</th>\n",
       "    </tr>\n",
       "  </thead>\n",
       "  <tbody>\n",
       "    <tr>\n",
       "      <th>% missing_values</th>\n",
       "      <td>0.0</td>\n",
       "    </tr>\n",
       "    <tr>\n",
       "      <th>distinct_categories</th>\n",
       "      <td>2</td>\n",
       "    </tr>\n",
       "  </tbody>\n",
       "</table>\n",
       "</div>"
      ],
      "text/plain": [
       "                    value\n",
       "% missing_values      0.0\n",
       "distinct_categories     2"
      ]
     },
     "execution_count": 102,
     "metadata": {},
     "output_type": "execute_result"
    }
   ],
   "source": [
    "col = 'change'\n",
    "change_info_table = get_info_table(df,col)\n",
    "change_info_table"
   ]
  },
  {
   "cell_type": "code",
   "execution_count": 103,
   "id": "600efd94-f0e0-43c1-a43b-4f86207a3017",
   "metadata": {},
   "outputs": [
    {
     "data": {
      "text/html": [
       "<div>\n",
       "<style scoped>\n",
       "    .dataframe tbody tr th:only-of-type {\n",
       "        vertical-align: middle;\n",
       "    }\n",
       "\n",
       "    .dataframe tbody tr th {\n",
       "        vertical-align: top;\n",
       "    }\n",
       "\n",
       "    .dataframe thead th {\n",
       "        text-align: right;\n",
       "    }\n",
       "</style>\n",
       "<table border=\"1\" class=\"dataframe\">\n",
       "  <thead>\n",
       "    <tr style=\"text-align: right;\">\n",
       "      <th></th>\n",
       "      <th>count</th>\n",
       "      <th>percentage</th>\n",
       "    </tr>\n",
       "    <tr>\n",
       "      <th>change</th>\n",
       "      <th></th>\n",
       "      <th></th>\n",
       "    </tr>\n",
       "  </thead>\n",
       "  <tbody>\n",
       "    <tr>\n",
       "      <th>No</th>\n",
       "      <td>54755</td>\n",
       "      <td>53.8</td>\n",
       "    </tr>\n",
       "    <tr>\n",
       "      <th>Ch</th>\n",
       "      <td>47011</td>\n",
       "      <td>46.2</td>\n",
       "    </tr>\n",
       "  </tbody>\n",
       "</table>\n",
       "</div>"
      ],
      "text/plain": [
       "        count  percentage\n",
       "change                   \n",
       "No      54755        53.8\n",
       "Ch      47011        46.2"
      ]
     },
     "execution_count": 103,
     "metadata": {},
     "output_type": "execute_result"
    }
   ],
   "source": [
    "change_count_table = get_count_table(df,id_col,col)\n",
    "change_count_table"
   ]
  },
  {
   "cell_type": "code",
   "execution_count": 104,
   "id": "1d12ee37-4598-4bee-af8d-ab5d5fcf0854",
   "metadata": {},
   "outputs": [
    {
     "data": {
      "image/png": "[encoded data removed]",
      "text/plain": [
       "<Figure size 432x288 with 1 Axes>"
      ]
     },
     "metadata": {
      "needs_background": "light"
     },
     "output_type": "display_data"
    }
   ],
   "source": [
    "plot_chart(change_count_table,'change')"
   ]
  },
  {
   "cell_type": "code",
   "execution_count": 105,
   "id": "5b05b0a2-767b-4c75-b3db-5d7f23e60d45",
   "metadata": {},
   "outputs": [
    {
     "data": {
      "text/html": [
       "<div>\n",
       "<style scoped>\n",
       "    .dataframe tbody tr th:only-of-type {\n",
       "        vertical-align: middle;\n",
       "    }\n",
       "\n",
       "    .dataframe tbody tr th {\n",
       "        vertical-align: top;\n",
       "    }\n",
       "\n",
       "    .dataframe thead th {\n",
       "        text-align: right;\n",
       "    }\n",
       "</style>\n",
       "<table border=\"1\" class=\"dataframe\">\n",
       "  <thead>\n",
       "    <tr style=\"text-align: right;\">\n",
       "      <th>change</th>\n",
       "      <th>Ch</th>\n",
       "      <th>No</th>\n",
       "    </tr>\n",
       "    <tr>\n",
       "      <th>readmitted</th>\n",
       "      <th></th>\n",
       "      <th></th>\n",
       "    </tr>\n",
       "  </thead>\n",
       "  <tbody>\n",
       "    <tr>\n",
       "      <th>&lt;30</th>\n",
       "      <td>11.82</td>\n",
       "      <td>10.59</td>\n",
       "    </tr>\n",
       "    <tr>\n",
       "      <th>&gt;30</th>\n",
       "      <td>36.74</td>\n",
       "      <td>33.37</td>\n",
       "    </tr>\n",
       "    <tr>\n",
       "      <th>NO</th>\n",
       "      <td>51.44</td>\n",
       "      <td>56.04</td>\n",
       "    </tr>\n",
       "  </tbody>\n",
       "</table>\n",
       "</div>"
      ],
      "text/plain": [
       "change         Ch     No\n",
       "readmitted              \n",
       "<30         11.82  10.59\n",
       ">30         36.74  33.37\n",
       "NO          51.44  56.04"
      ]
     },
     "execution_count": 105,
     "metadata": {},
     "output_type": "execute_result"
    }
   ],
   "source": [
    "get_cross_table(df,col)"
   ]
  },
  {
   "cell_type": "markdown",
   "id": "55bd66ef-c2d9-4300-8100-aafe98d60869",
   "metadata": {},
   "source": [
    "This is a binary variable with an almost equal value of classes (54% vs 46%). it seems that the patients that did not take this exam were healthier because they were readmitted in a less proportion comparing to the patients that did take it."
   ]
  },
  {
   "cell_type": "markdown",
   "id": "318f95f8-9969-41e6-809b-c178ea112343",
   "metadata": {},
   "source": [
    "**diabetesMed**"
   ]
  },
  {
   "cell_type": "code",
   "execution_count": 106,
   "id": "8e73e455-7e57-4cb4-b98e-5836c7a0a0ba",
   "metadata": {},
   "outputs": [
    {
     "data": {
      "text/html": [
       "<div>\n",
       "<style scoped>\n",
       "    .dataframe tbody tr th:only-of-type {\n",
       "        vertical-align: middle;\n",
       "    }\n",
       "\n",
       "    .dataframe tbody tr th {\n",
       "        vertical-align: top;\n",
       "    }\n",
       "\n",
       "    .dataframe thead th {\n",
       "        text-align: right;\n",
       "    }\n",
       "</style>\n",
       "<table border=\"1\" class=\"dataframe\">\n",
       "  <thead>\n",
       "    <tr style=\"text-align: right;\">\n",
       "      <th></th>\n",
       "      <th>value</th>\n",
       "    </tr>\n",
       "  </thead>\n",
       "  <tbody>\n",
       "    <tr>\n",
       "      <th>% missing_values</th>\n",
       "      <td>0.0</td>\n",
       "    </tr>\n",
       "    <tr>\n",
       "      <th>distinct_categories</th>\n",
       "      <td>2</td>\n",
       "    </tr>\n",
       "  </tbody>\n",
       "</table>\n",
       "</div>"
      ],
      "text/plain": [
       "                    value\n",
       "% missing_values      0.0\n",
       "distinct_categories     2"
      ]
     },
     "execution_count": 106,
     "metadata": {},
     "output_type": "execute_result"
    }
   ],
   "source": [
    "col = 'diabetesMed'\n",
    "A1Cresult_info_table = get_info_table(df,col)\n",
    "A1Cresult_info_table"
   ]
  },
  {
   "cell_type": "code",
   "execution_count": 107,
   "id": "1dc45a49-00fd-4b62-b798-905295c211b6",
   "metadata": {},
   "outputs": [
    {
     "data": {
      "text/html": [
       "<div>\n",
       "<style scoped>\n",
       "    .dataframe tbody tr th:only-of-type {\n",
       "        vertical-align: middle;\n",
       "    }\n",
       "\n",
       "    .dataframe tbody tr th {\n",
       "        vertical-align: top;\n",
       "    }\n",
       "\n",
       "    .dataframe thead th {\n",
       "        text-align: right;\n",
       "    }\n",
       "</style>\n",
       "<table border=\"1\" class=\"dataframe\">\n",
       "  <thead>\n",
       "    <tr style=\"text-align: right;\">\n",
       "      <th></th>\n",
       "      <th>count</th>\n",
       "      <th>percentage</th>\n",
       "    </tr>\n",
       "    <tr>\n",
       "      <th>diabetesMed</th>\n",
       "      <th></th>\n",
       "      <th></th>\n",
       "    </tr>\n",
       "  </thead>\n",
       "  <tbody>\n",
       "    <tr>\n",
       "      <th>Yes</th>\n",
       "      <td>78363</td>\n",
       "      <td>77.0</td>\n",
       "    </tr>\n",
       "    <tr>\n",
       "      <th>No</th>\n",
       "      <td>23403</td>\n",
       "      <td>23.0</td>\n",
       "    </tr>\n",
       "  </tbody>\n",
       "</table>\n",
       "</div>"
      ],
      "text/plain": [
       "             count  percentage\n",
       "diabetesMed                   \n",
       "Yes          78363        77.0\n",
       "No           23403        23.0"
      ]
     },
     "execution_count": 107,
     "metadata": {},
     "output_type": "execute_result"
    }
   ],
   "source": [
    "diabetesMed_count_table = get_count_table(df,id_col,col)\n",
    "diabetesMed_count_table"
   ]
  },
  {
   "cell_type": "code",
   "execution_count": 108,
   "id": "fcc8fc15-c9b8-4677-8d36-a10dadbabea4",
   "metadata": {},
   "outputs": [
    {
     "data": {
      "image/png": "[encoded data removed]",
      "text/plain": [
       "<Figure size 432x288 with 1 Axes>"
      ]
     },
     "metadata": {
      "needs_background": "light"
     },
     "output_type": "display_data"
    }
   ],
   "source": [
    "plot_chart(diabetesMed_count_table,'diabetesMed')"
   ]
  },
  {
   "cell_type": "code",
   "execution_count": 109,
   "id": "ca5b7077-093e-4381-af3d-4eda3be8f214",
   "metadata": {},
   "outputs": [
    {
     "data": {
      "text/html": [
       "<div>\n",
       "<style scoped>\n",
       "    .dataframe tbody tr th:only-of-type {\n",
       "        vertical-align: middle;\n",
       "    }\n",
       "\n",
       "    .dataframe tbody tr th {\n",
       "        vertical-align: top;\n",
       "    }\n",
       "\n",
       "    .dataframe thead th {\n",
       "        text-align: right;\n",
       "    }\n",
       "</style>\n",
       "<table border=\"1\" class=\"dataframe\">\n",
       "  <thead>\n",
       "    <tr style=\"text-align: right;\">\n",
       "      <th>diabetesMed</th>\n",
       "      <th>No</th>\n",
       "      <th>Yes</th>\n",
       "    </tr>\n",
       "    <tr>\n",
       "      <th>readmitted</th>\n",
       "      <th></th>\n",
       "      <th></th>\n",
       "    </tr>\n",
       "  </thead>\n",
       "  <tbody>\n",
       "    <tr>\n",
       "      <th>&lt;30</th>\n",
       "      <td>9.60</td>\n",
       "      <td>11.63</td>\n",
       "    </tr>\n",
       "    <tr>\n",
       "      <th>&gt;30</th>\n",
       "      <td>30.88</td>\n",
       "      <td>36.14</td>\n",
       "    </tr>\n",
       "    <tr>\n",
       "      <th>NO</th>\n",
       "      <td>59.52</td>\n",
       "      <td>52.24</td>\n",
       "    </tr>\n",
       "  </tbody>\n",
       "</table>\n",
       "</div>"
      ],
      "text/plain": [
       "diabetesMed     No    Yes\n",
       "readmitted               \n",
       "<30           9.60  11.63\n",
       ">30          30.88  36.14\n",
       "NO           59.52  52.24"
      ]
     },
     "execution_count": 109,
     "metadata": {},
     "output_type": "execute_result"
    }
   ],
   "source": [
    "get_cross_table(df,col)"
   ]
  },
  {
   "cell_type": "markdown",
   "id": "049dc392-bc68-4f78-a8c8-a694e538cbd0",
   "metadata": {},
   "source": [
    "According to the last graphs, most of the people did take diabetes medicaments (77%). we can observe that the people that was not medicated were less prone to be readmitted because their health status could be better."
   ]
  },
  {
   "cell_type": "markdown",
   "id": "017b9bce-3bac-49b0-8403-cfb5b845593e",
   "metadata": {},
   "source": [
    "**Correlation analysis**"
   ]
  },
  {
   "cell_type": "code",
   "execution_count": 110,
   "id": "df8c983d-ceea-460a-9e0c-3c1d4ef6b1a8",
   "metadata": {},
   "outputs": [
    {
     "data": {
      "image/png": "[encoded data removed]",
      "text/plain": [
       "<Figure size 432x288 with 2 Axes>"
      ]
     },
     "metadata": {
      "needs_background": "light"
     },
     "output_type": "display_data"
    }
   ],
   "source": [
    "num_cols = ['time_in_hospital','num_lab_procedures','num_procedures','num_medications', \n",
    "                  'number_outpatient','number_emergency','number_inpatient','number_diagnoses']\n",
    "sns.heatmap(df[num_cols].corr(),annot=True)\n",
    "plt.show()\n"
   ]
  },
  {
   "cell_type": "markdown",
   "id": "ce7ab09a-bfb5-4c23-b909-71b200dc052c",
   "metadata": {},
   "source": [
    "As we can see in the correlation matrix, we can spot some linear relationships between some variables such as the case of time_in_hospital vs num_labd_procedures and num_medications. But in any case the correlation values are not that high."
   ]
  },
  {
   "cell_type": "markdown",
   "id": "c1d85657",
   "metadata": {},
   "source": [
    "## 3. Data Preparation"
   ]
  },
  {
   "cell_type": "markdown",
   "id": "3cbe706d-2eff-4a71-ade9-f2b1bead0b33",
   "metadata": {},
   "source": [
    "This is one of the most important stages in any machine learning model, because is the step where we use some techniques in order to improve the quality of the data or format the information in order to feed the models."
   ]
  },
  {
   "cell_type": "code",
   "execution_count": 111,
   "id": "c075ee64",
   "metadata": {},
   "outputs": [],
   "source": [
    "# Import required libraries for data preparation\n",
    "from sklearn.model_selection import train_test_split\n",
    "from sklearn.impute import SimpleImputer\n",
    "from sklearn.preprocessing import StandardScaler,LabelEncoder, OneHotEncoder\n",
    "from sklearn.compose import ColumnTransformer\n",
    "import  category_encoders as ce\n"
   ]
  },
  {
   "cell_type": "code",
   "execution_count": 112,
   "id": "7bca0265",
   "metadata": {},
   "outputs": [],
   "source": [
    "# Define the independent variables and the target variable\n",
    "X = df.drop('readmitted',axis=1)\n",
    "y = df['readmitted']"
   ]
  },
  {
   "cell_type": "markdown",
   "id": "be093845",
   "metadata": {},
   "source": [
    "#### Auxiliar functions for data preparation"
   ]
  },
  {
   "cell_type": "code",
   "execution_count": 113,
   "id": "e428925f",
   "metadata": {},
   "outputs": [],
   "source": [
    "def get_col_order (df,target_cols):\n",
    "    '''\n",
    "    returns the columns order that are going to be used for the column \n",
    "    transformer object result\n",
    "    '''  \n",
    "    \n",
    "    other_cols = [x for x in X_train.columns if x not in target_cols]\n",
    "    col_order = target_cols + other_cols\n",
    "    \n",
    "    return col_order\n",
    "\n",
    "\n"
   ]
  },
  {
   "cell_type": "markdown",
   "id": "06110aa8",
   "metadata": {},
   "source": [
    "### Training, testing and Validation set"
   ]
  },
  {
   "cell_type": "markdown",
   "id": "ac876435",
   "metadata": {},
   "source": [
    "The Dataset will be split in 3 sets:\n",
    "- **Training (60%)**: This will be the data to train the model\n",
    "- **Validation (20%)**: This will be the data to evaluate the metrics of  different models in order to find the best one\n",
    "- **Test (20%)**: This will be the data that we will use to report the results\n",
    "\n",
    "The utility of the this process is to evaluate the model performance in unknown data in order to check if it is able to generalize well or it is just memorizing the input data. the distribution 60-20-20 is done Because in general the amount of data might be enough for the problem that we want to solve and it is a configuration that has shown good results in the past."
   ]
  },
  {
   "cell_type": "code",
   "execution_count": 114,
   "id": "02fcbe00",
   "metadata": {},
   "outputs": [],
   "source": [
    "# we split the data and use a random state in order to get reproducible results\n",
    "# we use the stratify parameter to make sure the distribution of the target variable is the\n",
    "#the same across all the sets\n",
    "X_train, X_test, y_train, y_test = train_test_split(X, y, test_size = 0.2,stratify = y,\n",
    "                                                    random_state = 17)\n",
    "\n",
    "X_train, X_val, y_train, y_val = train_test_split(X_train, y_train, test_size = 0.25,\n",
    "                                                  stratify = y_train, random_state = 17) "
   ]
  },
  {
   "cell_type": "markdown",
   "id": "eeb0936c",
   "metadata": {},
   "source": [
    "### Missing Data Handling"
   ]
  },
  {
   "cell_type": "markdown",
   "id": "7d8e0ede",
   "metadata": {},
   "source": [
    "As we can saw in the exploratoy analysis, there are some missing values that have to be handle in order to improve the performance of the model.\n",
    "\n",
    "- The weight field has almost 97% of missing values and It would make no sense to try to impute de variable, therefore the weight will not give us valuable information for building the model and it should be dropped.\n",
    "\n",
    "- The payer code and medical specialty variables have a very high percentage of missing values as well (>40%). In this partciular case if the bussiness people consider that this is an important variable, it might be worth to try some advanced imputation technique, using for instance another Machine Learning model to impute this values. However this would be time consuming and it would not guarantee a better performance of the model, so according to this and due to time restrictions, it was decided to drop these variables.\n",
    "\n",
    "- The race, admission_type_id and discharge_disposition id have less than 10%  of missing values, so the idea would be to impute this values with the mode.\n",
    "\n",
    "- The gender field does not have a NaN values directly, but it has an equivalent category called Unknown/invalid of just 3 values. In this case we will just impute this values with the mode.\n",
    "\n",
    "- Diagnosis 1 2 and 3 has between 0% and  1%  of missing values, in this case the business knowledge could suggest that these are cases where this diagnosis does not exist. Therefore Instead of imputing the variable, it might be better just to create another category to group up theses cases.\n",
    "\n"
   ]
  },
  {
   "cell_type": "code",
   "execution_count": 115,
   "id": "cb891325",
   "metadata": {},
   "outputs": [],
   "source": [
    "split_sets = [X_train,X_val,X_test]\n",
    "cols_to_drop = ['weight','payer_code', 'medical_specialty']\n",
    "\n",
    "#Eliminate columns\n",
    "for split_set in split_sets:\n",
    "    split_set.drop(cols_to_drop,axis=1,inplace=True)    \n",
    "\n",
    "#Impute variables witrh the mode. we just used the data known in the training set to impute all sets.\n",
    "cols_to_impute = ['race','gender','admission_type_id','discharge_disposition_id']\n",
    "imp = SimpleImputer(missing_values=np.nan, strategy='most_frequent')\n",
    "X_train[cols_to_impute] = imp.fit_transform(X_train[cols_to_impute])\n",
    "X_val[cols_to_impute] = imp.transform(X_val[cols_to_impute])\n",
    "X_test[cols_to_impute] = imp.transform(X_test[cols_to_impute])\n",
    "\n",
    "#the diag_3 is imputed with the new code '000' to represent a category without diagnosis\n",
    "cols_to_impute = ['diag_1','diag_2','diag_3']\n",
    "imp = SimpleImputer(missing_values=np.nan, strategy='constant',fill_value='000')\n",
    "X_train[cols_to_impute] = imp.fit_transform(X_train[cols_to_impute])\n",
    "X_val[cols_to_impute] = imp.transform(X_val[cols_to_impute])\n",
    "X_test[cols_to_impute] = imp.transform(X_test[cols_to_impute])\n",
    "\n"
   ]
  },
  {
   "cell_type": "markdown",
   "id": "a88f05e9",
   "metadata": {},
   "source": [
    "### Data Standardization"
   ]
  },
  {
   "cell_type": "markdown",
   "id": "d08ba479",
   "metadata": {},
   "source": [
    "when we work with numeric variables, we need to be careful with the scale of them because some based distance algorithms will give more importance to some fields with higher values. it is also true that some models such as the tree based algorithms does not suffer of this problem because of they rely on partitioning techniques.\n",
    "\n",
    "In this case study we have some fields with different scales. For instance the number of procedures vs time in hospital\n",
    "\n",
    "According to that, we will standardize the data because it will help in case we use some distance based models and it will not affect the performance of the models that does not need it. It will allows us to use the same data no matter which model we use."
   ]
  },
  {
   "cell_type": "code",
   "execution_count": 116,
   "id": "7e7e0205",
   "metadata": {},
   "outputs": [],
   "source": [
    "#Define the continuous and the categorical cols\n",
    "num_cols = ['time_in_hospital','num_lab_procedures','num_procedures','num_medications', \n",
    "                  'number_outpatient','number_emergency','number_inpatient','number_diagnoses']\n",
    "\n",
    "col_order = get_col_order(X_train,num_cols)"
   ]
  },
  {
   "cell_type": "code",
   "execution_count": 117,
   "id": "a4fe8baf",
   "metadata": {},
   "outputs": [],
   "source": [
    "# create the column transformer instance\n",
    "ct = ColumnTransformer([\n",
    "        ('standard_scaler', StandardScaler(), num_cols)\n",
    "    ], remainder='passthrough')\n",
    "\n",
    "\n",
    "#transform data\n",
    "X_train = pd.DataFrame(ct.fit_transform(X_train),columns = col_order)\n",
    "X_val = pd.DataFrame(ct.transform(X_val),columns = col_order)\n",
    "X_test =  pd.DataFrame(ct.transform(X_test),columns = col_order)\n"
   ]
  },
  {
   "cell_type": "markdown",
   "id": "a14ccd02",
   "metadata": {},
   "source": [
    "### Categorical Variables Encoding"
   ]
  },
  {
   "cell_type": "markdown",
   "id": "dc3bfc9b",
   "metadata": {},
   "source": [
    "the algorithms in python implementations  do not receive string fields as inputs. For that reason we will encode this variable as numeric representations, using differents techniques as follows:\n",
    "\n",
    "- **Label_encoding**: it will assign a different number for each category in the target Variable.\n",
    "- **Ordinal encoding**: it is used in ordinal variables. it will assign a different number for each category in a field but considering an specific order. this is just useful in the cases with the categories have some relationship in terms of size, in this particular case we could use this encoding to the Age variable.\n",
    "- **One hot encoding**: it is used in categorical variables that does not have any relationship of order between them, creates a new binary variable for each category in a field. it can be problematic if the variable has a high cardinality. Some Machine Learning implementations do not need this kind of encoding, because it is possible to just label encode the values, however, due to the time restrictions, we will encode anyway these variables in order to have the same dataset for all the models and speed up the modeling proccess.we will use this encoding for fields such as race, admission_type_id, discharge_disposition, admission_source_id, max_glu_serum, A1cresult.\n",
    "- **Target encoding**: it is a technique specially useful in cases where am specific categorical variable has a high cardinality (for example > 100 classes). the idea behind this technique is to replace a  categorical value with the mean of the target variable. it wil be applied to Diagnosis related fields ( > 900 classes).\n",
    "\n",
    "For the cases where the variables have just 2 possible outcomes. we will just replace them by a binary variable by setting one of the variables as 1 and the other as 0. This will be done in fields such as: gender, change, and diabetesMed . "
   ]
  },
  {
   "cell_type": "code",
   "execution_count": 118,
   "id": "feb93a9b",
   "metadata": {},
   "outputs": [],
   "source": [
    "# Encode age variable, we will create a dictionary to guarantee an correct ordinal encoding\n",
    "dict_age = {\n",
    "    '[0-10)':0,\n",
    "    '[10-20)':1,\n",
    "    '[20-30)':2,\n",
    "    '[30-40)':3,\n",
    "    '[40-50)':4,\n",
    "    '[50-60)':5,\n",
    "    '[60-70)':6,\n",
    "    '[70-80)':7,\n",
    "    '[80-90)':8,\n",
    "    '[90-100)':9,   \n",
    "}\n",
    "\n",
    "X_train['age'] = X_train['age'].map(dict_age)\n",
    "X_val['age'] = X_val['age'].map(dict_age)\n",
    "X_test['age'] = X_test['age'].map(dict_age)\n",
    "\n",
    "# we should standardize this variable as well.\n",
    "scaler = StandardScaler()\n",
    "X_train['age'] = scaler.fit_transform(X_train[['age']])\n",
    "X_val['age'] = scaler.transform(X_val[['age']])\n",
    "X_test['age'] = scaler.transform(X_test[['age']])\n"
   ]
  },
  {
   "cell_type": "code",
   "execution_count": 119,
   "id": "99c439cc",
   "metadata": {},
   "outputs": [
    {
     "data": {
      "text/plain": [
       "ColumnTransformer(remainder='passthrough',\n",
       "                  transformers=[('one_hot_encoder',\n",
       "                                 OneHotEncoder(handle_unknown='ignore'),\n",
       "                                 ['race', 'admission_type_id',\n",
       "                                  'discharge_disposition_id',\n",
       "                                  'admission_source_id', 'max_glu_serum',\n",
       "                                  'A1Cresult', 'metformin', 'repaglinide',\n",
       "                                  'nateglinide', 'chlorpropamide',\n",
       "                                  'glimepiride', 'acetohexamide', 'glipizide',\n",
       "                                  'glyburide', 'tolbutamide', 'pioglitazone',\n",
       "                                  'rosiglitazone', 'acarbose', 'miglitol',\n",
       "                                  'troglitazone', 'tolazamide', 'examide',\n",
       "                                  'citoglipton', 'insulin',\n",
       "                                  'glyburide-metformin', 'glipizide-metformin',\n",
       "                                  'glimepiride-pioglitazone',\n",
       "                                  'metformin-rosiglitazone',\n",
       "                                  'metformin-pioglitazone'])])"
      ]
     },
     "execution_count": 119,
     "metadata": {},
     "output_type": "execute_result"
    }
   ],
   "source": [
    "# one hot encode some variables\n",
    "initial_index_medications = list(X_train.columns).index('metformin')\n",
    "target_cols = ['race','admission_type_id','discharge_disposition_id','admission_source_id',\n",
    "               'max_glu_serum', 'A1Cresult'] + list(X_train.columns[initial_index_medications:-2])\n",
    "\n",
    "\n",
    "# create the column transform with OneHotEncoder object\n",
    "# set handle unkown parameter as ignore just in case some classes appear in the test or validation\n",
    "# sets but not in the training set\n",
    "ct = ColumnTransformer([\n",
    "        ('one_hot_encoder', OneHotEncoder(handle_unknown=\"ignore\"), target_cols)\n",
    "    ], remainder='passthrough')\n",
    "\n",
    "#Fit data\n",
    "ct.fit(X_train)\n"
   ]
  },
  {
   "cell_type": "code",
   "execution_count": 120,
   "id": "86754d46",
   "metadata": {},
   "outputs": [],
   "source": [
    "# Process to get the feature names\n",
    "ct.get_feature_names()\n",
    "dict_one_hot = {f'one_hot_encoder__x{x}':target_cols[x] for x in range(len(target_cols))}\n",
    "feature_names = []\n",
    "\n",
    "for feature_name in ct.get_feature_names():\n",
    "    for prefix_old,prefix_new in dict_one_hot.items():\n",
    "        if prefix_old in feature_name:\n",
    "            feature_name = feature_name.replace(prefix_old.lower(), prefix_new)            \n",
    "    feature_names.append(feature_name)"
   ]
  },
  {
   "cell_type": "code",
   "execution_count": 121,
   "id": "88f2303b",
   "metadata": {},
   "outputs": [],
   "source": [
    "#create dummy variables  and update dataframes\n",
    "X_train = pd.DataFrame(ct.transform(X_train),columns = feature_names)\n",
    "X_val = pd.DataFrame(ct.transform(X_val),columns = feature_names)\n",
    "X_test = pd.DataFrame(ct.transform(X_test),columns = feature_names)"
   ]
  },
  {
   "cell_type": "code",
   "execution_count": 122,
   "id": "63abdf20",
   "metadata": {
    "tags": []
   },
   "outputs": [],
   "source": [
    "#Define Target variables\n",
    "target_cols = ['diag_1','diag_2','diag_3']\n",
    "\n",
    "y_train=y_train.astype(str)   #convert to string to onehot encode\n",
    "enc=ce.OneHotEncoder().fit(y_train)\n",
    "y_train_onehot=enc.transform(y_train)\n",
    "class_names=y_train_onehot.columns  #names of onehot encoded columns\n",
    "X_train_obj=X_train[target_cols].copy() #separate categorical columns\n",
    "X_val_obj=X_val[target_cols].copy() #separate categorical columns\n",
    "X_test_obj=X_test[target_cols].copy() #separate categorical columns\n",
    "X_train.drop(target_cols,axis=1,inplace=True)\n",
    "X_val.drop(target_cols,axis=1,inplace=True)\n",
    "X_test.drop(target_cols,axis=1,inplace=True)\n",
    "\n",
    "for class_ in class_names:\n",
    "    #fit the encoder\n",
    "    enc=ce.TargetEncoder()\n",
    "    enc.fit(X_train_obj,y_train_onehot[class_]) #convert all categorical \n",
    "    \n",
    "    #transform_data\n",
    "    temp=enc.transform(X_train_obj)       #columns for class_\n",
    "    temp.columns=[str(x)+'_'+str(class_) for x in temp.columns]\n",
    "    X_train=pd.concat([X_train,temp],axis=1)    #add to original dataset\n",
    "    \n",
    "    #transform_data\n",
    "    temp=enc.transform(X_val_obj)       #columns for class_\n",
    "    temp.columns=[str(x)+'_'+str(class_) for x in temp.columns]\n",
    "    X_val=pd.concat([X_val,temp],axis=1)    #add to original dataset\n",
    "    \n",
    "    #transform_data\n",
    "    temp=enc.transform(X_test_obj)       #columns for class_\n",
    "    temp.columns=[str(x)+'_'+str(class_) for x in temp.columns]\n",
    "    X_test=pd.concat([X_test,temp],axis=1)    #add to original dataset\n",
    "    \n",
    "\n",
    "\n"
   ]
  },
  {
   "cell_type": "code",
   "execution_count": 123,
   "id": "64f1974e",
   "metadata": {},
   "outputs": [
    {
     "data": {
      "text/html": [
       "<div>\n",
       "<style scoped>\n",
       "    .dataframe tbody tr th:only-of-type {\n",
       "        vertical-align: middle;\n",
       "    }\n",
       "\n",
       "    .dataframe tbody tr th {\n",
       "        vertical-align: top;\n",
       "    }\n",
       "\n",
       "    .dataframe thead th {\n",
       "        text-align: right;\n",
       "    }\n",
       "</style>\n",
       "<table border=\"1\" class=\"dataframe\">\n",
       "  <thead>\n",
       "    <tr style=\"text-align: right;\">\n",
       "      <th></th>\n",
       "      <th>diag_1_readmitted_1</th>\n",
       "      <th>diag_2_readmitted_1</th>\n",
       "      <th>diag_3_readmitted_1</th>\n",
       "      <th>diag_1_readmitted_2</th>\n",
       "      <th>diag_2_readmitted_2</th>\n",
       "      <th>diag_3_readmitted_2</th>\n",
       "      <th>diag_1_readmitted_3</th>\n",
       "      <th>diag_2_readmitted_3</th>\n",
       "      <th>diag_3_readmitted_3</th>\n",
       "    </tr>\n",
       "  </thead>\n",
       "  <tbody>\n",
       "    <tr>\n",
       "      <th>0</th>\n",
       "      <td>0.349880</td>\n",
       "      <td>0.351107</td>\n",
       "      <td>0.370897</td>\n",
       "      <td>0.538030</td>\n",
       "      <td>0.526661</td>\n",
       "      <td>0.520788</td>\n",
       "      <td>0.112090</td>\n",
       "      <td>0.122231</td>\n",
       "      <td>0.108315</td>\n",
       "    </tr>\n",
       "    <tr>\n",
       "      <th>1</th>\n",
       "      <td>0.346667</td>\n",
       "      <td>0.376307</td>\n",
       "      <td>0.352665</td>\n",
       "      <td>0.580000</td>\n",
       "      <td>0.506969</td>\n",
       "      <td>0.535005</td>\n",
       "      <td>0.073333</td>\n",
       "      <td>0.116725</td>\n",
       "      <td>0.112330</td>\n",
       "    </tr>\n",
       "    <tr>\n",
       "      <th>2</th>\n",
       "      <td>0.368669</td>\n",
       "      <td>0.336828</td>\n",
       "      <td>0.363281</td>\n",
       "      <td>0.499411</td>\n",
       "      <td>0.546527</td>\n",
       "      <td>0.511719</td>\n",
       "      <td>0.131920</td>\n",
       "      <td>0.116645</td>\n",
       "      <td>0.125000</td>\n",
       "    </tr>\n",
       "    <tr>\n",
       "      <th>3</th>\n",
       "      <td>0.378333</td>\n",
       "      <td>0.344660</td>\n",
       "      <td>0.352665</td>\n",
       "      <td>0.510000</td>\n",
       "      <td>0.538835</td>\n",
       "      <td>0.535005</td>\n",
       "      <td>0.111667</td>\n",
       "      <td>0.116505</td>\n",
       "      <td>0.112330</td>\n",
       "    </tr>\n",
       "    <tr>\n",
       "      <th>4</th>\n",
       "      <td>0.384106</td>\n",
       "      <td>0.360033</td>\n",
       "      <td>0.306122</td>\n",
       "      <td>0.503311</td>\n",
       "      <td>0.531263</td>\n",
       "      <td>0.653061</td>\n",
       "      <td>0.112583</td>\n",
       "      <td>0.108705</td>\n",
       "      <td>0.040816</td>\n",
       "    </tr>\n",
       "  </tbody>\n",
       "</table>\n",
       "</div>"
      ],
      "text/plain": [
       "   diag_1_readmitted_1  diag_2_readmitted_1  diag_3_readmitted_1  \\\n",
       "0             0.349880             0.351107             0.370897   \n",
       "1             0.346667             0.376307             0.352665   \n",
       "2             0.368669             0.336828             0.363281   \n",
       "3             0.378333             0.344660             0.352665   \n",
       "4             0.384106             0.360033             0.306122   \n",
       "\n",
       "   diag_1_readmitted_2  diag_2_readmitted_2  diag_3_readmitted_2  \\\n",
       "0             0.538030             0.526661             0.520788   \n",
       "1             0.580000             0.506969             0.535005   \n",
       "2             0.499411             0.546527             0.511719   \n",
       "3             0.510000             0.538835             0.535005   \n",
       "4             0.503311             0.531263             0.653061   \n",
       "\n",
       "   diag_1_readmitted_3  diag_2_readmitted_3  diag_3_readmitted_3  \n",
       "0             0.112090             0.122231             0.108315  \n",
       "1             0.073333             0.116725             0.112330  \n",
       "2             0.131920             0.116645             0.125000  \n",
       "3             0.111667             0.116505             0.112330  \n",
       "4             0.112583             0.108705             0.040816  "
      ]
     },
     "execution_count": 123,
     "metadata": {},
     "output_type": "execute_result"
    }
   ],
   "source": [
    "X_train.iloc[:5,-9:]"
   ]
  },
  {
   "cell_type": "code",
   "execution_count": 124,
   "id": "14c18bbf",
   "metadata": {},
   "outputs": [],
   "source": [
    "# fill missing values generated by target encoding\n",
    "cols_to_impute = list(X_train.columns[-9:])\n",
    "imp = SimpleImputer(missing_values=np.nan, strategy='mean')\n",
    "X_train[cols_to_impute] = imp.fit_transform(X_train[cols_to_impute])\n",
    "X_val[cols_to_impute] = imp.transform(X_val[cols_to_impute])\n",
    "X_test[cols_to_impute] = imp.transform(X_test[cols_to_impute])"
   ]
  },
  {
   "cell_type": "code",
   "execution_count": 125,
   "id": "fd8887e6",
   "metadata": {},
   "outputs": [],
   "source": [
    "#Encode Binary variables\n",
    "target_cols = ['gender','change','diabetesMed']\n",
    "le = LabelEncoder()\n",
    "\n",
    "for target_col in target_cols:\n",
    "    X_train[target_col] = le.fit_transform(X_train[target_col])\n",
    "    X_val[target_col] = le.transform(X_val[target_col])\n",
    "    X_test[target_col] = le.transform(X_test[target_col])"
   ]
  },
  {
   "cell_type": "code",
   "execution_count": 126,
   "id": "e036b2d1",
   "metadata": {},
   "outputs": [],
   "source": [
    "# Encode target variable\n",
    "le = LabelEncoder()\n",
    "y_train = le.fit_transform(y_train)\n",
    "y_val = le.transform(y_val)\n",
    "y_test = le.transform(y_test)"
   ]
  },
  {
   "cell_type": "markdown",
   "id": "9423b7a8",
   "metadata": {},
   "source": [
    "### Variable Selection"
   ]
  },
  {
   "cell_type": "markdown",
   "id": "098e4c26",
   "metadata": {},
   "source": [
    "The variable selection stage is pretty important in any machine Learning problem. In this particular case, we will do some clarifications as follows:\n",
    "- the encounter_id and patient_nbr are id columns that are not going to add valuable information to the model, so we should drop them.\n",
    "- we could try come iteration processes such as forward or backward selection or to use the lasso regularization technique. However this is a very time consuming task, so it will not possible to use in this case.\n",
    "- Sometimes is useful to drop variables with high correlations in order to avoid multicollinearity problems. In this case the linear relationships are not that strong, so it might not be a good idea to do it, however we could check other kind of correlations such as kendal or spearman. Even we could explor some relationships between numeric and categorical variables using point biserial correlation\n",
    "- In this particular scenario the idea would be to use some algorithms that have built-in capablities to select variables such as tree based algorithms."
   ]
  },
  {
   "cell_type": "code",
   "execution_count": 127,
   "id": "37e86646",
   "metadata": {},
   "outputs": [],
   "source": [
    "cols_to_drop = ['encounter_id','patient_nbr']\n",
    "\n",
    "X_train.drop(cols_to_drop,axis=1,inplace=True)  \n",
    "X_val.drop(cols_to_drop,axis=1,inplace=True)   \n",
    "X_test.drop(cols_to_drop,axis=1,inplace=True)   "
   ]
  },
  {
   "cell_type": "markdown",
   "id": "f1ceb4a0",
   "metadata": {},
   "source": [
    "## 4. Modeling"
   ]
  },
  {
   "cell_type": "markdown",
   "id": "d7f89ef6",
   "metadata": {},
   "source": [
    "In order to try to solve this study case. we will  use some trees based algorithms such as random_forest, gradient boosting and LightGBM. Because in the literature they have shown a pretty good performance to solve these classification problems, specially in cases like this with some mixed data types, high amount of variables and they are robust to outliers. In the future it could be worth to try some deep learning algorithms, however these kind of algorithms require more time to train and a lof of information."
   ]
  },
  {
   "cell_type": "markdown",
   "id": "5a5663c1",
   "metadata": {},
   "source": [
    "#### Metrics to evaluate"
   ]
  },
  {
   "cell_type": "markdown",
   "id": "6d0f1360",
   "metadata": {},
   "source": [
    "we will have to use some classification metrics in order to compare the results of the model in the validation tests. In this case we will try to maximize the **F-score**, because we want to find a balance between the precision and the recall. However in case we would like to try something else that does not depend on a treshold, the **PR-AUC** (precision-recall) would be a great choice, specially in unbalanced datasets like this one. This could be done in future iterations."
   ]
  },
  {
   "cell_type": "code",
   "execution_count": 146,
   "id": "d1e83ba7",
   "metadata": {},
   "outputs": [],
   "source": [
    "#import required libraries\n",
    "from sklearn.linear_model import LogisticRegression\n",
    "from sklearn.ensemble import RandomForestClassifier,GradientBoostingClassifier\n",
    "from lightgbm import LGBMClassifier\n",
    "from sklearn.model_selection import RandomizedSearchCV\n",
    "from imblearn.over_sampling import SMOTENC\n",
    "from sklearn.metrics import classification_report,f1_score,confusion_matrix\n",
    "import pickle\n"
   ]
  },
  {
   "cell_type": "markdown",
   "id": "de0cf93f",
   "metadata": {},
   "source": [
    "#### Resampling techniques"
   ]
  },
  {
   "cell_type": "markdown",
   "id": "fa3708fc",
   "metadata": {},
   "source": [
    "the unbalanced data problems like this one, can be problematic for finding an optimal solutions, because the structure of the data can cause some biases on the learning process of the model. To face these problems it is possible to use some resampling techniques where the idea behind this is to balance the classes in the training set.\n",
    "\n",
    "- **Oversampling**: the idea is to add new observations to the minority class.\n",
    "- **Undersampling**: the idea is to remove observations from the majority class.\n",
    "\n",
    "For this particular case. we will use an oversampling technique called **SMOTE**, where the main objective is to create synthetic data based on the existing data in order to add observations to the minority classes. the final participation of the classes does not need to be equal, we could iterate over multiple possibilities to find the best one, however, in this case we will look for the same participation across the classes."
   ]
  },
  {
   "cell_type": "code",
   "execution_count": 129,
   "id": "022bc03f",
   "metadata": {},
   "outputs": [],
   "source": [
    "#Calculate the count of the majority class\n",
    "max_majority_class = max(pd.Series(y_train).value_counts())\n",
    "\n",
    "#Calculate the indexes of the categorical columns\n",
    "num_cols = ['age','time_in_hospital','num_lab_procedures','num_procedures','num_medications', \n",
    "                  'number_outpatient','number_emergency','number_inpatient',\n",
    "             'number_diagnoses'] + list(X_train.columns[-9:])\n",
    "\n",
    "index_cat_cols = [X_train.columns.get_loc(i) for i in X_train.columns if i not in num_cols]\n",
    "\n",
    "#Create a dictionary to feed the SMOTE technique\n",
    "dict_smote = {0: max_majority_class, 1: max_majority_class, 2:max_majority_class}\n",
    "smotenc = SMOTENC(\n",
    "            categorical_features=index_cat_cols,\n",
    "            sampling_strategy=dict_smote,\n",
    "            random_state=17,\n",
    "        )\n",
    "X_train,y_train = smotenc.fit_resample(X_train,y_train)\n",
    "\n"
   ]
  },
  {
   "cell_type": "code",
   "execution_count": 130,
   "id": "6b6bebbe-6ab6-4253-9e17-bb3af6d5a84e",
   "metadata": {},
   "outputs": [],
   "source": [
    "#convert types to float in order to avoid errors in some models\n",
    "X_train = X_train.astype(float)\n",
    "X_val = X_val.astype(float)\n",
    "X_test = X_test.astype(float)"
   ]
  },
  {
   "cell_type": "code",
   "execution_count": 131,
   "id": "1a00f5b3-b662-4860-8182-f2807824c14d",
   "metadata": {},
   "outputs": [],
   "source": [
    "#Create a list of models\n",
    "\n",
    "models_name = ['logistic_regression','random_forest','gradient_boosting','light_gbm']\n",
    "models = [LogisticRegression(),RandomForestClassifier(),GradientBoostingClassifier(),\n",
    "          LGBMClassifier()]\n",
    "\n",
    "models_dict ={}\n",
    "\n",
    "for model_name,model in zip(models_name,models):\n",
    "    clf = model\n",
    "    clf.fit(X_train,y_train)\n",
    "    models_dict[model_name] = clf\n",
    "          "
   ]
  },
  {
   "cell_type": "code",
   "execution_count": 132,
   "id": "fd6d6c02-583f-4788-9307-4085528b83a6",
   "metadata": {},
   "outputs": [
    {
     "data": {
      "text/html": [
       "<div>\n",
       "<style scoped>\n",
       "    .dataframe tbody tr th:only-of-type {\n",
       "        vertical-align: middle;\n",
       "    }\n",
       "\n",
       "    .dataframe tbody tr th {\n",
       "        vertical-align: top;\n",
       "    }\n",
       "\n",
       "    .dataframe thead th {\n",
       "        text-align: right;\n",
       "    }\n",
       "</style>\n",
       "<table border=\"1\" class=\"dataframe\">\n",
       "  <thead>\n",
       "    <tr style=\"text-align: right;\">\n",
       "      <th></th>\n",
       "      <th>model_name</th>\n",
       "      <th>f1_score_train</th>\n",
       "      <th>f1_score_val</th>\n",
       "    </tr>\n",
       "  </thead>\n",
       "  <tbody>\n",
       "    <tr>\n",
       "      <th>0</th>\n",
       "      <td>logistic_regression</td>\n",
       "      <td>0.5603</td>\n",
       "      <td>0.5297</td>\n",
       "    </tr>\n",
       "    <tr>\n",
       "      <th>1</th>\n",
       "      <td>random_forest</td>\n",
       "      <td>1.0000</td>\n",
       "      <td>0.5429</td>\n",
       "    </tr>\n",
       "    <tr>\n",
       "      <th>2</th>\n",
       "      <td>gradient_boosting</td>\n",
       "      <td>0.5972</td>\n",
       "      <td>0.5483</td>\n",
       "    </tr>\n",
       "    <tr>\n",
       "      <th>3</th>\n",
       "      <td>light_gbm</td>\n",
       "      <td>0.6525</td>\n",
       "      <td>0.5526</td>\n",
       "    </tr>\n",
       "  </tbody>\n",
       "</table>\n",
       "</div>"
      ],
      "text/plain": [
       "            model_name  f1_score_train  f1_score_val\n",
       "0  logistic_regression          0.5603        0.5297\n",
       "1        random_forest          1.0000        0.5429\n",
       "2    gradient_boosting          0.5972        0.5483\n",
       "3            light_gbm          0.6525        0.5526"
      ]
     },
     "execution_count": 132,
     "metadata": {},
     "output_type": "execute_result"
    }
   ],
   "source": [
    "#calculate F_score for each model in train and test\n",
    "\n",
    "f_score_list = []\n",
    "\n",
    "for model_name,model in models_dict.items():\n",
    "    predictions_train = model.predict(X_train)\n",
    "    predictions_val = model.predict(X_val)\n",
    "    f_score_train = round(f1_score(y_train,predictions_train,average = 'weighted'),4)\n",
    "    f_score_val = round(f1_score(y_val,predictions_val,average = 'weighted'),4)\n",
    "    f_score_list.append((f_score_train,f_score_val))\n",
    "\n",
    "#Create dataframe to compare the results\n",
    "rows_list = []\n",
    "for model_name,f_score in zip(models_name,f_score_list):\n",
    "    row_list = [model_name,f_score[0],f_score[1]]\n",
    "    rows_list.append(row_list)\n",
    "    \n",
    "df_f1 = pd.DataFrame(rows_list,columns = ['model_name','f1_score_train','f1_score_val'])\n",
    "df_f1\n",
    "    \n",
    "    \n",
    "\n",
    "    "
   ]
  },
  {
   "cell_type": "markdown",
   "id": "c07b6538-a4ee-4dad-be5e-f41ee09862f8",
   "metadata": {},
   "source": [
    "As we can see in the result table, the algorithm that is getting the best F1_score is LightGBM. We can also observe that all the models are overfitting because the difference between the f score in the training set and validation set is considerable. To face this scenario we could use some techniques such as: regularization or K-fold Cross validation. due to time restrictions, we will try to reduce this overfitting through hyperparameters"
   ]
  },
  {
   "cell_type": "markdown",
   "id": "790158d5",
   "metadata": {},
   "source": [
    "#### Hyperparameter Tuning"
   ]
  },
  {
   "cell_type": "markdown",
   "id": "2561e5fa",
   "metadata": {},
   "source": [
    "The idea will be to try out different configurations of the hyperparameters in order to find the best model. the ideal case would be to try out all the models with a grid search, however due to the time restrictions, we will do it just for the best base model (lightgbm) and using a randomized search."
   ]
  },
  {
   "cell_type": "code",
   "execution_count": 154,
   "id": "b662e990",
   "metadata": {
    "tags": []
   },
   "outputs": [],
   "source": [
    "#define parameters for the search\n",
    "\n",
    "params = {\n",
    "    'learning_rate': [0.01,0.05,0.1,0.15],\n",
    "    'n_estimators': [10,20,40,70,100,150,200,300,400],\n",
    "    'num_leaves': [20,24,28,32,34,36],\n",
    "    'boosting_type' : ['gbdt', 'dart','goss'],\n",
    "    'random_state' : [17],\n",
    "    'subsample' : [0.6,0.7,0.8,0.9,1],\n",
    "    'reg_alpha' : [0,1,1.2],\n",
    "    'reg_lambda' : [0,1,1.2,1.4],\n",
    "    }"
   ]
  },
  {
   "cell_type": "code",
   "execution_count": 155,
   "id": "42a70208",
   "metadata": {},
   "outputs": [
    {
     "name": "stdout",
     "output_type": "stream",
     "text": [
      "Fitting 3 folds for each of 100 candidates, totalling 300 fits\n"
     ]
    }
   ],
   "source": [
    "# define the random search for LGBM and save the model in pickle\n",
    "clf = RandomizedSearchCV(LGBMClassifier(),params,n_iter=100,\n",
    "                    random_state=17,scoring='f1_weighted',n_jobs=-1,verbose=2,cv=3)\n",
    "clf.fit(X_train,y_train)\n",
    "\n",
    "filename = 'lgbm_search.sav'\n",
    "pickle.dump(clf, open(filename, 'wb'))"
   ]
  },
  {
   "cell_type": "code",
   "execution_count": 141,
   "id": "ef474b52-9e5a-4f74-9648-3131fb69a920",
   "metadata": {},
   "outputs": [
    {
     "name": "stdout",
     "output_type": "stream",
     "text": [
      " the f_score value in test is:0.5536\n",
      "\n",
      "              precision    recall  f1-score   support\n",
      "\n",
      "           0       0.37      0.07      0.12      2271\n",
      "           1       0.50      0.43      0.46      7109\n",
      "           2       0.63      0.79      0.70     10973\n",
      "\n",
      "    accuracy                           0.59     20353\n",
      "   macro avg       0.50      0.43      0.43     20353\n",
      "weighted avg       0.56      0.59      0.55     20353\n",
      "\n"
     ]
    }
   ],
   "source": [
    "lgbm_search=pickle.load(open('lgbm_search.sav','rb'))\n",
    "predictions = lgbm_search.predict(X_val)\n",
    "f1_score_value = round(f1_score(y_val,predictions,average = 'weighted'),4)\n",
    "print( f' the f_score value in test is:{f1_score_value}\\n')\n",
    "print(classification_report(y_val,predictions))"
   ]
  },
  {
   "cell_type": "markdown",
   "id": "6fff0aa6-641f-4d80-82d6-ca9d247c232d",
   "metadata": {},
   "source": [
    "As we can see with the Hyperparameter tunning we enhance the initial model  in terms of the f_score results (0.5536 > 0.5526). It is not the biggest improvement, but with more iterations and time it might be even better."
   ]
  },
  {
   "cell_type": "markdown",
   "id": "02893f41-243c-4940-bc3f-e1a970a72fd3",
   "metadata": {},
   "source": [
    "## 5. Evaluation"
   ]
  },
  {
   "cell_type": "markdown",
   "id": "477a940f-1941-4545-a4c7-f5020c9a7183",
   "metadata": {},
   "source": [
    "After getting the best possible parameters, we will predict the targets in the testing set in order to generate the final results"
   ]
  },
  {
   "cell_type": "code",
   "execution_count": 142,
   "id": "93fe80a9",
   "metadata": {},
   "outputs": [
    {
     "name": "stdout",
     "output_type": "stream",
     "text": [
      " the f_score value in test is:0.5481\n",
      "\n",
      "              precision    recall  f1-score   support\n",
      "\n",
      "           0       0.35      0.07      0.11      2272\n",
      "           1       0.49      0.42      0.45      7109\n",
      "           2       0.63      0.79      0.70     10973\n",
      "\n",
      "    accuracy                           0.58     20354\n",
      "   macro avg       0.49      0.43      0.42     20354\n",
      "weighted avg       0.55      0.58      0.55     20354\n",
      "\n"
     ]
    }
   ],
   "source": [
    "predictions = lgbm_search.predict(X_test) \n",
    "f1_score_value = round(f1_score(y_test,predictions,average = 'weighted'),4)\n",
    "print( f' the f_score value in test is:{f1_score_value}\\n')\n",
    "print(classification_report(y_test,predictions))\n"
   ]
  },
  {
   "cell_type": "markdown",
   "id": "5f7c82a8-b2df-41c3-9bd1-942b703a71c2",
   "metadata": {},
   "source": [
    "### Interpretation of the results"
   ]
  },
  {
   "cell_type": "markdown",
   "id": "4f1ade64-2828-4f44-a126-fb4fcd6e021a",
   "metadata": {},
   "source": [
    "Analyzing the last results we can conclude some things as follows:\n",
    "- in the 63% of the cases that the models says a patient was not goint to be readmitted, the model was right.\n",
    "- in the 49%% of the cases that the models says a patient was going to be  readmitted in more than 30 days , the model was right.\n",
    "- in the 35% of the cases that the models says a patient was going to be  readmitted in less than 30 days, the model was right.\n",
    "\n",
    "- the 79% of the cases true no readmitted patients were captured by the model.\n",
    "- the 42% of the cases true readmitted >30 patients were captured by the model.\n",
    "- the 7% of the cases true readmitted <30 patients were captured by the model.\n"
   ]
  },
  {
   "cell_type": "markdown",
   "id": "fa66b1b9-9a0d-4757-a084-833f15d923a6",
   "metadata": {},
   "source": [
    "## 6. Conclusions"
   ]
  },
  {
   "cell_type": "markdown",
   "id": "19136c35-bbc1-49c3-89b8-bf4fcbe99d6a",
   "metadata": {},
   "source": [
    "- Unbalanced clasiffication problems are hard to face because is hard to handle the nature of this data in Machine Learning models\n",
    "- This is a baseline model, however it can be improved trying out a lot of different possible things:\n",
    "    - To get more data and fields in order to create new variables that can feed the model\n",
    "    - To use some outlier detection tecniques such as mahalnobis distance and minimun covariance determinant.\n",
    "    - To use some variable selection tecniques\n",
    "    - To try some regularization techniques to try avoid overfitting.\n",
    "    - To use some algorithms for dimensionality reduction such  as PCA.\n",
    "    - To Try more algorithms and use hyperparameter tuning in all of them."
   ]
  },
  {
   "cell_type": "markdown",
   "id": "c039f2b4-5aaf-4c0c-aa18-da174eb52696",
   "metadata": {},
   "source": [
    "# By santiago Giraldo Ardila"
   ]
  },
  {
   "cell_type": "code",
   "execution_count": null,
   "id": "6f8e8a77-fa47-40c1-a897-aabbf70af5e8",
   "metadata": {},
   "outputs": [],
   "source": []
  }
 ],
 "metadata": {
  "kernelspec": {
   "display_name": "Python 3",
   "language": "python",
   "name": "python3"
  },
  "language_info": {
   "codemirror_mode": {
    "name": "ipython",
    "version": 3
   },
   "file_extension": ".py",
   "mimetype": "text/x-python",
   "name": "python",
   "nbconvert_exporter": "python",
   "pygments_lexer": "ipython3",
   "version": "3.9.5"
  }
 },
 "nbformat": 4,
 "nbformat_minor": 5
}
